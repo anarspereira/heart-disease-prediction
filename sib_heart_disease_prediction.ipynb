{
 "cells": [
  {
   "cell_type": "markdown",
   "metadata": {
    "id": "8Ss0xb51m0Ee",
    "pycharm": {
     "name": "#%% md\n"
    }
   },
   "source": [
    "## Sistemas Inteligentes para a Bioinformática (Intelligent Systems for Bioinformatics)\n",
    "\n",
    "Notebook of the Intelligent Systems for Bioinformatics Curricular Unit's group project integrated in the Master's Degree in Bioinformatics at University of Minho, 2022/2023\n",
    "\n",
    "**Group members**:\n",
    "- Ana Carolina Inácio, PG45459;\n",
    "- Ana Rafaela Pereira, PG45461;\n",
    "- Mariana Coelho, PG45967\n",
    "\n",
    "**Dataset used in this project**:\n",
    "\"Heart Attack Analysis & Prediction Dataset\", a dataset for heart attack classification, available at https://www.kaggle.com/datasets/rashikrahmanpritom/heart-attack-analysis-prediction-dataset\n",
    "\n",
    "# About this dataset...\n",
    "- **age**: age of the patient\n",
    "- **sex**: sex of the patient\n",
    "- **cp**: chest pain type\n",
    "  - Value 0: typical angina\n",
    "  - Value 1: atypical angina\n",
    "  - Value 2: non-anginal pain\n",
    "  - Value 3: asymptomatic\n",
    "- **trtbps**: resting blood pressure (in mm Hg)\n",
    "- **chol**: cholesterol in mg/dl fetched via BMI sensor\n",
    "- **fbs**: (fasting blood sugar > 120 mg/dl)\n",
    "  - 1 = true\n",
    "  - 0 = false\n",
    "- **restecg**: resting electrocardiographic results\n",
    "  - Value 0: normal\n",
    "  - Value 1: having ST-T wave abnormality (T wave inversions and/or ST elevation or depression of > 0.05 mV)\n",
    "  - Value 2: showing probable or definite left ventricular hypertrophy by Estes' criteria\n",
    "- **thalachh**: maximum heart rate achieved\n",
    "- **exng**: exercise induced angina\n",
    "  - 1 = yes\n",
    "  - 0 = no\n",
    "- **oldpeak**: ST depression induced by exercise relative to rest\n",
    "- **slp**: the slope of the peak exercise ST segment\n",
    "  - 0 = unsloping\n",
    "  - 1 = flat\n",
    "  - 2 = downsloping\n",
    "- **caa**: number of major vessels (0-3)\n",
    "- **thall**: thalassemia\n",
    "  - 0 = null\n",
    "  - 1 = fixed defect\n",
    "  - 2 = normal\n",
    "  - 3 = reversable defect\n",
    "- **output**: diagnosis of heart disease (angiographic disease status) - target variable\n",
    "  - 0: < 50% diameter narrowing. less chance of heart disease\n",
    "  - 1: > 50% diameter narrowing. more chance of heart disease\n",
    "\n",
    "## In this notebook, you can find...\n",
    "- Data pre-processing\n",
    "- Exploratory data analysis\n",
    "- Statistical tests and correlation\n",
    "- Machine learning (Supervised learning, classification problem)\n",
    "  - Model fitting (SVM, Logistic Regression and KNN models);\n",
    "  - Ensemble (Bagging classifier, Random Forest and Voting Classifier);\n",
    "  - Feature selection (Variance Threshold, Select K-Best and Select Percentile);\n",
    "  - Hyperparameter tuning (Grid Search and Randomized Parameter Optimization).\n",
    "- Deep learning (Neural networks)"
   ]
  },
  {
   "cell_type": "code",
   "execution_count": 236,
   "metadata": {
    "id": "Ea-Hid5AmfMM",
    "pycharm": {
     "is_executing": true,
     "name": "#%%\n"
    }
   },
   "outputs": [],
   "source": [
    "# imports\n",
    "import numpy as np\n",
    "import pandas as pd\n",
    "import statsmodels.api as sm\n",
    "import scipy\n",
    "import scipy.stats as stats\n",
    "from scipy.stats import uniform\n",
    "from scipy.stats import distributions\n",
    "import seaborn as sn\n",
    "import matplotlib.pylab as plt\n",
    "from sklearn import preprocessing"
   ]
  },
  {
   "cell_type": "markdown",
   "metadata": {
    "id": "PtbMGFUFpEVc",
    "pycharm": {
     "name": "#%% md\n"
    }
   },
   "source": [
    "# Data pre-processing"
   ]
  },
  {
   "cell_type": "code",
   "execution_count": 35,
   "metadata": {
    "colab": {
     "base_uri": "https://localhost:8080/",
     "height": 424
    },
    "id": "0eItBev_HIeL",
    "outputId": "5ea65301-bd4f-4383-f285-06145ac7f6b6",
    "pycharm": {
     "name": "#%%\n"
    }
   },
   "outputs": [
    {
     "data": {
      "text/html": [
       "<div>\n",
       "<style scoped>\n",
       "    .dataframe tbody tr th:only-of-type {\n",
       "        vertical-align: middle;\n",
       "    }\n",
       "\n",
       "    .dataframe tbody tr th {\n",
       "        vertical-align: top;\n",
       "    }\n",
       "\n",
       "    .dataframe thead th {\n",
       "        text-align: right;\n",
       "    }\n",
       "</style>\n",
       "<table border=\"1\" class=\"dataframe\">\n",
       "  <thead>\n",
       "    <tr style=\"text-align: right;\">\n",
       "      <th></th>\n",
       "      <th>age</th>\n",
       "      <th>sex</th>\n",
       "      <th>cp</th>\n",
       "      <th>trtbps</th>\n",
       "      <th>chol</th>\n",
       "      <th>fbs</th>\n",
       "      <th>restecg</th>\n",
       "      <th>thalachh</th>\n",
       "      <th>exng</th>\n",
       "      <th>oldpeak</th>\n",
       "      <th>slp</th>\n",
       "      <th>caa</th>\n",
       "      <th>thall</th>\n",
       "      <th>output</th>\n",
       "    </tr>\n",
       "  </thead>\n",
       "  <tbody>\n",
       "    <tr>\n",
       "      <th>0</th>\n",
       "      <td>63</td>\n",
       "      <td>1</td>\n",
       "      <td>3</td>\n",
       "      <td>145</td>\n",
       "      <td>233</td>\n",
       "      <td>1</td>\n",
       "      <td>0</td>\n",
       "      <td>150</td>\n",
       "      <td>0</td>\n",
       "      <td>2.3</td>\n",
       "      <td>0</td>\n",
       "      <td>0</td>\n",
       "      <td>1</td>\n",
       "      <td>1</td>\n",
       "    </tr>\n",
       "    <tr>\n",
       "      <th>1</th>\n",
       "      <td>37</td>\n",
       "      <td>1</td>\n",
       "      <td>2</td>\n",
       "      <td>130</td>\n",
       "      <td>250</td>\n",
       "      <td>0</td>\n",
       "      <td>1</td>\n",
       "      <td>187</td>\n",
       "      <td>0</td>\n",
       "      <td>3.5</td>\n",
       "      <td>0</td>\n",
       "      <td>0</td>\n",
       "      <td>2</td>\n",
       "      <td>1</td>\n",
       "    </tr>\n",
       "    <tr>\n",
       "      <th>2</th>\n",
       "      <td>41</td>\n",
       "      <td>0</td>\n",
       "      <td>1</td>\n",
       "      <td>130</td>\n",
       "      <td>204</td>\n",
       "      <td>0</td>\n",
       "      <td>0</td>\n",
       "      <td>172</td>\n",
       "      <td>0</td>\n",
       "      <td>1.4</td>\n",
       "      <td>2</td>\n",
       "      <td>0</td>\n",
       "      <td>2</td>\n",
       "      <td>1</td>\n",
       "    </tr>\n",
       "    <tr>\n",
       "      <th>3</th>\n",
       "      <td>56</td>\n",
       "      <td>1</td>\n",
       "      <td>1</td>\n",
       "      <td>120</td>\n",
       "      <td>236</td>\n",
       "      <td>0</td>\n",
       "      <td>1</td>\n",
       "      <td>178</td>\n",
       "      <td>0</td>\n",
       "      <td>0.8</td>\n",
       "      <td>2</td>\n",
       "      <td>0</td>\n",
       "      <td>2</td>\n",
       "      <td>1</td>\n",
       "    </tr>\n",
       "    <tr>\n",
       "      <th>4</th>\n",
       "      <td>57</td>\n",
       "      <td>0</td>\n",
       "      <td>0</td>\n",
       "      <td>120</td>\n",
       "      <td>354</td>\n",
       "      <td>0</td>\n",
       "      <td>1</td>\n",
       "      <td>163</td>\n",
       "      <td>1</td>\n",
       "      <td>0.6</td>\n",
       "      <td>2</td>\n",
       "      <td>0</td>\n",
       "      <td>2</td>\n",
       "      <td>1</td>\n",
       "    </tr>\n",
       "    <tr>\n",
       "      <th>...</th>\n",
       "      <td>...</td>\n",
       "      <td>...</td>\n",
       "      <td>...</td>\n",
       "      <td>...</td>\n",
       "      <td>...</td>\n",
       "      <td>...</td>\n",
       "      <td>...</td>\n",
       "      <td>...</td>\n",
       "      <td>...</td>\n",
       "      <td>...</td>\n",
       "      <td>...</td>\n",
       "      <td>...</td>\n",
       "      <td>...</td>\n",
       "      <td>...</td>\n",
       "    </tr>\n",
       "    <tr>\n",
       "      <th>298</th>\n",
       "      <td>57</td>\n",
       "      <td>0</td>\n",
       "      <td>0</td>\n",
       "      <td>140</td>\n",
       "      <td>241</td>\n",
       "      <td>0</td>\n",
       "      <td>1</td>\n",
       "      <td>123</td>\n",
       "      <td>1</td>\n",
       "      <td>0.2</td>\n",
       "      <td>1</td>\n",
       "      <td>0</td>\n",
       "      <td>3</td>\n",
       "      <td>0</td>\n",
       "    </tr>\n",
       "    <tr>\n",
       "      <th>299</th>\n",
       "      <td>45</td>\n",
       "      <td>1</td>\n",
       "      <td>3</td>\n",
       "      <td>110</td>\n",
       "      <td>264</td>\n",
       "      <td>0</td>\n",
       "      <td>1</td>\n",
       "      <td>132</td>\n",
       "      <td>0</td>\n",
       "      <td>1.2</td>\n",
       "      <td>1</td>\n",
       "      <td>0</td>\n",
       "      <td>3</td>\n",
       "      <td>0</td>\n",
       "    </tr>\n",
       "    <tr>\n",
       "      <th>300</th>\n",
       "      <td>68</td>\n",
       "      <td>1</td>\n",
       "      <td>0</td>\n",
       "      <td>144</td>\n",
       "      <td>193</td>\n",
       "      <td>1</td>\n",
       "      <td>1</td>\n",
       "      <td>141</td>\n",
       "      <td>0</td>\n",
       "      <td>3.4</td>\n",
       "      <td>1</td>\n",
       "      <td>2</td>\n",
       "      <td>3</td>\n",
       "      <td>0</td>\n",
       "    </tr>\n",
       "    <tr>\n",
       "      <th>301</th>\n",
       "      <td>57</td>\n",
       "      <td>1</td>\n",
       "      <td>0</td>\n",
       "      <td>130</td>\n",
       "      <td>131</td>\n",
       "      <td>0</td>\n",
       "      <td>1</td>\n",
       "      <td>115</td>\n",
       "      <td>1</td>\n",
       "      <td>1.2</td>\n",
       "      <td>1</td>\n",
       "      <td>1</td>\n",
       "      <td>3</td>\n",
       "      <td>0</td>\n",
       "    </tr>\n",
       "    <tr>\n",
       "      <th>302</th>\n",
       "      <td>57</td>\n",
       "      <td>0</td>\n",
       "      <td>1</td>\n",
       "      <td>130</td>\n",
       "      <td>236</td>\n",
       "      <td>0</td>\n",
       "      <td>0</td>\n",
       "      <td>174</td>\n",
       "      <td>0</td>\n",
       "      <td>0.0</td>\n",
       "      <td>1</td>\n",
       "      <td>1</td>\n",
       "      <td>2</td>\n",
       "      <td>0</td>\n",
       "    </tr>\n",
       "  </tbody>\n",
       "</table>\n",
       "<p>303 rows × 14 columns</p>\n",
       "</div>"
      ],
      "text/plain": [
       "     age  sex  cp  trtbps  chol  fbs  restecg  thalachh  exng  oldpeak  slp  \\\n",
       "0     63    1   3     145   233    1        0       150     0      2.3    0   \n",
       "1     37    1   2     130   250    0        1       187     0      3.5    0   \n",
       "2     41    0   1     130   204    0        0       172     0      1.4    2   \n",
       "3     56    1   1     120   236    0        1       178     0      0.8    2   \n",
       "4     57    0   0     120   354    0        1       163     1      0.6    2   \n",
       "..   ...  ...  ..     ...   ...  ...      ...       ...   ...      ...  ...   \n",
       "298   57    0   0     140   241    0        1       123     1      0.2    1   \n",
       "299   45    1   3     110   264    0        1       132     0      1.2    1   \n",
       "300   68    1   0     144   193    1        1       141     0      3.4    1   \n",
       "301   57    1   0     130   131    0        1       115     1      1.2    1   \n",
       "302   57    0   1     130   236    0        0       174     0      0.0    1   \n",
       "\n",
       "     caa  thall  output  \n",
       "0      0      1       1  \n",
       "1      0      2       1  \n",
       "2      0      2       1  \n",
       "3      0      2       1  \n",
       "4      0      2       1  \n",
       "..   ...    ...     ...  \n",
       "298    0      3       0  \n",
       "299    0      3       0  \n",
       "300    2      3       0  \n",
       "301    1      3       0  \n",
       "302    1      2       0  \n",
       "\n",
       "[303 rows x 14 columns]"
      ]
     },
     "execution_count": 35,
     "metadata": {},
     "output_type": "execute_result"
    }
   ],
   "source": [
    "# read heart.csv file\n",
    "filepath_heart = 'C:/Users/Ana/Documents/GitHub/mbioinf-sib-group-project/heart.csv'\n",
    "\n",
    "data = pd.read_csv(filepath_heart)\n",
    "data"
   ]
  },
  {
   "cell_type": "code",
   "execution_count": 36,
   "metadata": {
    "colab": {
     "base_uri": "https://localhost:8080/",
     "height": 206
    },
    "id": "Bku42pzooaQ2",
    "outputId": "1ea00e1d-bae7-4e5a-a37d-42ff389fe80a",
    "pycharm": {
     "name": "#%%\n"
    }
   },
   "outputs": [
    {
     "data": {
      "text/html": [
       "<div>\n",
       "<style scoped>\n",
       "    .dataframe tbody tr th:only-of-type {\n",
       "        vertical-align: middle;\n",
       "    }\n",
       "\n",
       "    .dataframe tbody tr th {\n",
       "        vertical-align: top;\n",
       "    }\n",
       "\n",
       "    .dataframe thead th {\n",
       "        text-align: right;\n",
       "    }\n",
       "</style>\n",
       "<table border=\"1\" class=\"dataframe\">\n",
       "  <thead>\n",
       "    <tr style=\"text-align: right;\">\n",
       "      <th></th>\n",
       "      <th>age</th>\n",
       "      <th>sex</th>\n",
       "      <th>cp</th>\n",
       "      <th>trtbps</th>\n",
       "      <th>chol</th>\n",
       "      <th>fbs</th>\n",
       "      <th>restecg</th>\n",
       "      <th>thalachh</th>\n",
       "      <th>exng</th>\n",
       "      <th>oldpeak</th>\n",
       "      <th>slp</th>\n",
       "      <th>caa</th>\n",
       "      <th>thall</th>\n",
       "      <th>output</th>\n",
       "    </tr>\n",
       "  </thead>\n",
       "  <tbody>\n",
       "    <tr>\n",
       "      <th>0</th>\n",
       "      <td>63</td>\n",
       "      <td>1</td>\n",
       "      <td>3</td>\n",
       "      <td>145</td>\n",
       "      <td>233</td>\n",
       "      <td>1</td>\n",
       "      <td>0</td>\n",
       "      <td>150</td>\n",
       "      <td>0</td>\n",
       "      <td>2.3</td>\n",
       "      <td>0</td>\n",
       "      <td>0</td>\n",
       "      <td>1</td>\n",
       "      <td>1</td>\n",
       "    </tr>\n",
       "    <tr>\n",
       "      <th>1</th>\n",
       "      <td>37</td>\n",
       "      <td>1</td>\n",
       "      <td>2</td>\n",
       "      <td>130</td>\n",
       "      <td>250</td>\n",
       "      <td>0</td>\n",
       "      <td>1</td>\n",
       "      <td>187</td>\n",
       "      <td>0</td>\n",
       "      <td>3.5</td>\n",
       "      <td>0</td>\n",
       "      <td>0</td>\n",
       "      <td>2</td>\n",
       "      <td>1</td>\n",
       "    </tr>\n",
       "    <tr>\n",
       "      <th>2</th>\n",
       "      <td>41</td>\n",
       "      <td>0</td>\n",
       "      <td>1</td>\n",
       "      <td>130</td>\n",
       "      <td>204</td>\n",
       "      <td>0</td>\n",
       "      <td>0</td>\n",
       "      <td>172</td>\n",
       "      <td>0</td>\n",
       "      <td>1.4</td>\n",
       "      <td>2</td>\n",
       "      <td>0</td>\n",
       "      <td>2</td>\n",
       "      <td>1</td>\n",
       "    </tr>\n",
       "    <tr>\n",
       "      <th>3</th>\n",
       "      <td>56</td>\n",
       "      <td>1</td>\n",
       "      <td>1</td>\n",
       "      <td>120</td>\n",
       "      <td>236</td>\n",
       "      <td>0</td>\n",
       "      <td>1</td>\n",
       "      <td>178</td>\n",
       "      <td>0</td>\n",
       "      <td>0.8</td>\n",
       "      <td>2</td>\n",
       "      <td>0</td>\n",
       "      <td>2</td>\n",
       "      <td>1</td>\n",
       "    </tr>\n",
       "    <tr>\n",
       "      <th>4</th>\n",
       "      <td>57</td>\n",
       "      <td>0</td>\n",
       "      <td>0</td>\n",
       "      <td>120</td>\n",
       "      <td>354</td>\n",
       "      <td>0</td>\n",
       "      <td>1</td>\n",
       "      <td>163</td>\n",
       "      <td>1</td>\n",
       "      <td>0.6</td>\n",
       "      <td>2</td>\n",
       "      <td>0</td>\n",
       "      <td>2</td>\n",
       "      <td>1</td>\n",
       "    </tr>\n",
       "  </tbody>\n",
       "</table>\n",
       "</div>"
      ],
      "text/plain": [
       "   age  sex  cp  trtbps  chol  fbs  restecg  thalachh  exng  oldpeak  slp  \\\n",
       "0   63    1   3     145   233    1        0       150     0      2.3    0   \n",
       "1   37    1   2     130   250    0        1       187     0      3.5    0   \n",
       "2   41    0   1     130   204    0        0       172     0      1.4    2   \n",
       "3   56    1   1     120   236    0        1       178     0      0.8    2   \n",
       "4   57    0   0     120   354    0        1       163     1      0.6    2   \n",
       "\n",
       "   caa  thall  output  \n",
       "0    0      1       1  \n",
       "1    0      2       1  \n",
       "2    0      2       1  \n",
       "3    0      2       1  \n",
       "4    0      2       1  "
      ]
     },
     "execution_count": 36,
     "metadata": {},
     "output_type": "execute_result"
    }
   ],
   "source": [
    "# see 5 first rows\n",
    "data.head()"
   ]
  },
  {
   "cell_type": "code",
   "execution_count": 37,
   "metadata": {
    "colab": {
     "base_uri": "https://localhost:8080/",
     "height": 206
    },
    "id": "OPCQ_1qiqVXQ",
    "outputId": "39b6475e-c51d-4376-9a5c-05fd061dc418",
    "pycharm": {
     "name": "#%%\n"
    },
    "tags": []
   },
   "outputs": [
    {
     "data": {
      "text/html": [
       "<div>\n",
       "<style scoped>\n",
       "    .dataframe tbody tr th:only-of-type {\n",
       "        vertical-align: middle;\n",
       "    }\n",
       "\n",
       "    .dataframe tbody tr th {\n",
       "        vertical-align: top;\n",
       "    }\n",
       "\n",
       "    .dataframe thead th {\n",
       "        text-align: right;\n",
       "    }\n",
       "</style>\n",
       "<table border=\"1\" class=\"dataframe\">\n",
       "  <thead>\n",
       "    <tr style=\"text-align: right;\">\n",
       "      <th></th>\n",
       "      <th>age</th>\n",
       "      <th>sex</th>\n",
       "      <th>cp</th>\n",
       "      <th>trtbps</th>\n",
       "      <th>chol</th>\n",
       "      <th>fbs</th>\n",
       "      <th>restecg</th>\n",
       "      <th>thalachh</th>\n",
       "      <th>exng</th>\n",
       "      <th>oldpeak</th>\n",
       "      <th>slp</th>\n",
       "      <th>caa</th>\n",
       "      <th>thall</th>\n",
       "      <th>output</th>\n",
       "    </tr>\n",
       "  </thead>\n",
       "  <tbody>\n",
       "    <tr>\n",
       "      <th>298</th>\n",
       "      <td>57</td>\n",
       "      <td>0</td>\n",
       "      <td>0</td>\n",
       "      <td>140</td>\n",
       "      <td>241</td>\n",
       "      <td>0</td>\n",
       "      <td>1</td>\n",
       "      <td>123</td>\n",
       "      <td>1</td>\n",
       "      <td>0.2</td>\n",
       "      <td>1</td>\n",
       "      <td>0</td>\n",
       "      <td>3</td>\n",
       "      <td>0</td>\n",
       "    </tr>\n",
       "    <tr>\n",
       "      <th>299</th>\n",
       "      <td>45</td>\n",
       "      <td>1</td>\n",
       "      <td>3</td>\n",
       "      <td>110</td>\n",
       "      <td>264</td>\n",
       "      <td>0</td>\n",
       "      <td>1</td>\n",
       "      <td>132</td>\n",
       "      <td>0</td>\n",
       "      <td>1.2</td>\n",
       "      <td>1</td>\n",
       "      <td>0</td>\n",
       "      <td>3</td>\n",
       "      <td>0</td>\n",
       "    </tr>\n",
       "    <tr>\n",
       "      <th>300</th>\n",
       "      <td>68</td>\n",
       "      <td>1</td>\n",
       "      <td>0</td>\n",
       "      <td>144</td>\n",
       "      <td>193</td>\n",
       "      <td>1</td>\n",
       "      <td>1</td>\n",
       "      <td>141</td>\n",
       "      <td>0</td>\n",
       "      <td>3.4</td>\n",
       "      <td>1</td>\n",
       "      <td>2</td>\n",
       "      <td>3</td>\n",
       "      <td>0</td>\n",
       "    </tr>\n",
       "    <tr>\n",
       "      <th>301</th>\n",
       "      <td>57</td>\n",
       "      <td>1</td>\n",
       "      <td>0</td>\n",
       "      <td>130</td>\n",
       "      <td>131</td>\n",
       "      <td>0</td>\n",
       "      <td>1</td>\n",
       "      <td>115</td>\n",
       "      <td>1</td>\n",
       "      <td>1.2</td>\n",
       "      <td>1</td>\n",
       "      <td>1</td>\n",
       "      <td>3</td>\n",
       "      <td>0</td>\n",
       "    </tr>\n",
       "    <tr>\n",
       "      <th>302</th>\n",
       "      <td>57</td>\n",
       "      <td>0</td>\n",
       "      <td>1</td>\n",
       "      <td>130</td>\n",
       "      <td>236</td>\n",
       "      <td>0</td>\n",
       "      <td>0</td>\n",
       "      <td>174</td>\n",
       "      <td>0</td>\n",
       "      <td>0.0</td>\n",
       "      <td>1</td>\n",
       "      <td>1</td>\n",
       "      <td>2</td>\n",
       "      <td>0</td>\n",
       "    </tr>\n",
       "  </tbody>\n",
       "</table>\n",
       "</div>"
      ],
      "text/plain": [
       "     age  sex  cp  trtbps  chol  fbs  restecg  thalachh  exng  oldpeak  slp  \\\n",
       "298   57    0   0     140   241    0        1       123     1      0.2    1   \n",
       "299   45    1   3     110   264    0        1       132     0      1.2    1   \n",
       "300   68    1   0     144   193    1        1       141     0      3.4    1   \n",
       "301   57    1   0     130   131    0        1       115     1      1.2    1   \n",
       "302   57    0   1     130   236    0        0       174     0      0.0    1   \n",
       "\n",
       "     caa  thall  output  \n",
       "298    0      3       0  \n",
       "299    0      3       0  \n",
       "300    2      3       0  \n",
       "301    1      3       0  \n",
       "302    1      2       0  "
      ]
     },
     "execution_count": 37,
     "metadata": {},
     "output_type": "execute_result"
    }
   ],
   "source": [
    "# see the last 5 rows\n",
    "data.tail()"
   ]
  },
  {
   "cell_type": "code",
   "execution_count": 38,
   "metadata": {
    "colab": {
     "base_uri": "https://localhost:8080/"
    },
    "id": "FsdMmxlYyFUc",
    "outputId": "f8f5c71e-654e-4987-f8a4-bf21bd517116",
    "pycharm": {
     "name": "#%%\n"
    }
   },
   "outputs": [
    {
     "data": {
      "text/plain": [
       "(303, 14)"
      ]
     },
     "execution_count": 38,
     "metadata": {},
     "output_type": "execute_result"
    }
   ],
   "source": [
    "# get shape of heart df\n",
    "data.shape"
   ]
  },
  {
   "cell_type": "code",
   "execution_count": 39,
   "metadata": {
    "colab": {
     "base_uri": "https://localhost:8080/"
    },
    "id": "B6-u86_DtsRd",
    "outputId": "a480f35a-51b0-402d-c8fa-e9c79d976f4a",
    "pycharm": {
     "name": "#%%\n"
    }
   },
   "outputs": [
    {
     "data": {
      "text/plain": [
       "age           int64\n",
       "sex           int64\n",
       "cp            int64\n",
       "trtbps        int64\n",
       "chol          int64\n",
       "fbs           int64\n",
       "restecg       int64\n",
       "thalachh      int64\n",
       "exng          int64\n",
       "oldpeak     float64\n",
       "slp           int64\n",
       "caa           int64\n",
       "thall         int64\n",
       "output        int64\n",
       "dtype: object"
      ]
     },
     "execution_count": 39,
     "metadata": {},
     "output_type": "execute_result"
    }
   ],
   "source": [
    "# check the type of variables\n",
    "data.dtypes"
   ]
  },
  {
   "cell_type": "code",
   "execution_count": 40,
   "metadata": {
    "colab": {
     "base_uri": "https://localhost:8080/"
    },
    "id": "NWQZF6KQnuiJ",
    "outputId": "c8e148c3-e225-4f5a-e152-fdd4771c3e49",
    "pycharm": {
     "name": "#%%\n"
    }
   },
   "outputs": [
    {
     "data": {
      "text/plain": [
       "age         0\n",
       "sex         0\n",
       "cp          0\n",
       "trtbps      0\n",
       "chol        0\n",
       "fbs         0\n",
       "restecg     0\n",
       "thalachh    0\n",
       "exng        0\n",
       "oldpeak     0\n",
       "slp         0\n",
       "caa         0\n",
       "thall       0\n",
       "output      0\n",
       "dtype: int64"
      ]
     },
     "execution_count": 40,
     "metadata": {},
     "output_type": "execute_result"
    }
   ],
   "source": [
    "# search for NaN values\n",
    "data.isnull().sum()"
   ]
  },
  {
   "cell_type": "code",
   "execution_count": 41,
   "metadata": {
    "colab": {
     "base_uri": "https://localhost:8080/",
     "height": 424
    },
    "id": "2LXuH8VinuRW",
    "outputId": "433a32c0-8868-4114-d60c-19b518bd75bb",
    "pycharm": {
     "name": "#%%\n"
    }
   },
   "outputs": [],
   "source": [
    "# remove NaN values\n",
    "# data = dataset.dropna()\n",
    "# data"
   ]
  },
  {
   "cell_type": "code",
   "execution_count": 42,
   "metadata": {
    "colab": {
     "base_uri": "https://localhost:8080/"
    },
    "id": "XpVGSWjRsg3-",
    "outputId": "66677e76-da44-45cc-e47d-96ae0b9cbe52",
    "pycharm": {
     "name": "#%%\n"
    }
   },
   "outputs": [
    {
     "data": {
      "text/plain": [
       "(303, 14)"
      ]
     },
     "execution_count": 42,
     "metadata": {},
     "output_type": "execute_result"
    }
   ],
   "source": [
    "# get shape of the dataset\n",
    "data.shape"
   ]
  },
  {
   "cell_type": "code",
   "execution_count": 43,
   "metadata": {
    "colab": {
     "base_uri": "https://localhost:8080/",
     "height": 300
    },
    "id": "zPhMStssvK-r",
    "outputId": "62dd78e8-3026-4f4d-ae3f-7592b3d681cb",
    "pycharm": {
     "name": "#%%\n"
    }
   },
   "outputs": [
    {
     "data": {
      "text/html": [
       "<div>\n",
       "<style scoped>\n",
       "    .dataframe tbody tr th:only-of-type {\n",
       "        vertical-align: middle;\n",
       "    }\n",
       "\n",
       "    .dataframe tbody tr th {\n",
       "        vertical-align: top;\n",
       "    }\n",
       "\n",
       "    .dataframe thead th {\n",
       "        text-align: right;\n",
       "    }\n",
       "</style>\n",
       "<table border=\"1\" class=\"dataframe\">\n",
       "  <thead>\n",
       "    <tr style=\"text-align: right;\">\n",
       "      <th></th>\n",
       "      <th>age</th>\n",
       "      <th>sex</th>\n",
       "      <th>cp</th>\n",
       "      <th>trtbps</th>\n",
       "      <th>chol</th>\n",
       "      <th>fbs</th>\n",
       "      <th>restecg</th>\n",
       "      <th>thalachh</th>\n",
       "      <th>exng</th>\n",
       "      <th>oldpeak</th>\n",
       "      <th>slp</th>\n",
       "      <th>caa</th>\n",
       "      <th>thall</th>\n",
       "      <th>output</th>\n",
       "    </tr>\n",
       "  </thead>\n",
       "  <tbody>\n",
       "    <tr>\n",
       "      <th>count</th>\n",
       "      <td>303.000000</td>\n",
       "      <td>303.000000</td>\n",
       "      <td>303.000000</td>\n",
       "      <td>303.000000</td>\n",
       "      <td>303.000000</td>\n",
       "      <td>303.000000</td>\n",
       "      <td>303.000000</td>\n",
       "      <td>303.000000</td>\n",
       "      <td>303.000000</td>\n",
       "      <td>303.000000</td>\n",
       "      <td>303.000000</td>\n",
       "      <td>303.000000</td>\n",
       "      <td>303.000000</td>\n",
       "      <td>303.000000</td>\n",
       "    </tr>\n",
       "    <tr>\n",
       "      <th>mean</th>\n",
       "      <td>54.366337</td>\n",
       "      <td>0.683168</td>\n",
       "      <td>0.966997</td>\n",
       "      <td>131.623762</td>\n",
       "      <td>246.264026</td>\n",
       "      <td>0.148515</td>\n",
       "      <td>0.528053</td>\n",
       "      <td>149.646865</td>\n",
       "      <td>0.326733</td>\n",
       "      <td>1.039604</td>\n",
       "      <td>1.399340</td>\n",
       "      <td>0.729373</td>\n",
       "      <td>2.313531</td>\n",
       "      <td>0.544554</td>\n",
       "    </tr>\n",
       "    <tr>\n",
       "      <th>std</th>\n",
       "      <td>9.082101</td>\n",
       "      <td>0.466011</td>\n",
       "      <td>1.032052</td>\n",
       "      <td>17.538143</td>\n",
       "      <td>51.830751</td>\n",
       "      <td>0.356198</td>\n",
       "      <td>0.525860</td>\n",
       "      <td>22.905161</td>\n",
       "      <td>0.469794</td>\n",
       "      <td>1.161075</td>\n",
       "      <td>0.616226</td>\n",
       "      <td>1.022606</td>\n",
       "      <td>0.612277</td>\n",
       "      <td>0.498835</td>\n",
       "    </tr>\n",
       "    <tr>\n",
       "      <th>min</th>\n",
       "      <td>29.000000</td>\n",
       "      <td>0.000000</td>\n",
       "      <td>0.000000</td>\n",
       "      <td>94.000000</td>\n",
       "      <td>126.000000</td>\n",
       "      <td>0.000000</td>\n",
       "      <td>0.000000</td>\n",
       "      <td>71.000000</td>\n",
       "      <td>0.000000</td>\n",
       "      <td>0.000000</td>\n",
       "      <td>0.000000</td>\n",
       "      <td>0.000000</td>\n",
       "      <td>0.000000</td>\n",
       "      <td>0.000000</td>\n",
       "    </tr>\n",
       "    <tr>\n",
       "      <th>25%</th>\n",
       "      <td>47.500000</td>\n",
       "      <td>0.000000</td>\n",
       "      <td>0.000000</td>\n",
       "      <td>120.000000</td>\n",
       "      <td>211.000000</td>\n",
       "      <td>0.000000</td>\n",
       "      <td>0.000000</td>\n",
       "      <td>133.500000</td>\n",
       "      <td>0.000000</td>\n",
       "      <td>0.000000</td>\n",
       "      <td>1.000000</td>\n",
       "      <td>0.000000</td>\n",
       "      <td>2.000000</td>\n",
       "      <td>0.000000</td>\n",
       "    </tr>\n",
       "    <tr>\n",
       "      <th>50%</th>\n",
       "      <td>55.000000</td>\n",
       "      <td>1.000000</td>\n",
       "      <td>1.000000</td>\n",
       "      <td>130.000000</td>\n",
       "      <td>240.000000</td>\n",
       "      <td>0.000000</td>\n",
       "      <td>1.000000</td>\n",
       "      <td>153.000000</td>\n",
       "      <td>0.000000</td>\n",
       "      <td>0.800000</td>\n",
       "      <td>1.000000</td>\n",
       "      <td>0.000000</td>\n",
       "      <td>2.000000</td>\n",
       "      <td>1.000000</td>\n",
       "    </tr>\n",
       "    <tr>\n",
       "      <th>75%</th>\n",
       "      <td>61.000000</td>\n",
       "      <td>1.000000</td>\n",
       "      <td>2.000000</td>\n",
       "      <td>140.000000</td>\n",
       "      <td>274.500000</td>\n",
       "      <td>0.000000</td>\n",
       "      <td>1.000000</td>\n",
       "      <td>166.000000</td>\n",
       "      <td>1.000000</td>\n",
       "      <td>1.600000</td>\n",
       "      <td>2.000000</td>\n",
       "      <td>1.000000</td>\n",
       "      <td>3.000000</td>\n",
       "      <td>1.000000</td>\n",
       "    </tr>\n",
       "    <tr>\n",
       "      <th>max</th>\n",
       "      <td>77.000000</td>\n",
       "      <td>1.000000</td>\n",
       "      <td>3.000000</td>\n",
       "      <td>200.000000</td>\n",
       "      <td>564.000000</td>\n",
       "      <td>1.000000</td>\n",
       "      <td>2.000000</td>\n",
       "      <td>202.000000</td>\n",
       "      <td>1.000000</td>\n",
       "      <td>6.200000</td>\n",
       "      <td>2.000000</td>\n",
       "      <td>4.000000</td>\n",
       "      <td>3.000000</td>\n",
       "      <td>1.000000</td>\n",
       "    </tr>\n",
       "  </tbody>\n",
       "</table>\n",
       "</div>"
      ],
      "text/plain": [
       "              age         sex          cp      trtbps        chol         fbs  \\\n",
       "count  303.000000  303.000000  303.000000  303.000000  303.000000  303.000000   \n",
       "mean    54.366337    0.683168    0.966997  131.623762  246.264026    0.148515   \n",
       "std      9.082101    0.466011    1.032052   17.538143   51.830751    0.356198   \n",
       "min     29.000000    0.000000    0.000000   94.000000  126.000000    0.000000   \n",
       "25%     47.500000    0.000000    0.000000  120.000000  211.000000    0.000000   \n",
       "50%     55.000000    1.000000    1.000000  130.000000  240.000000    0.000000   \n",
       "75%     61.000000    1.000000    2.000000  140.000000  274.500000    0.000000   \n",
       "max     77.000000    1.000000    3.000000  200.000000  564.000000    1.000000   \n",
       "\n",
       "          restecg    thalachh        exng     oldpeak         slp         caa  \\\n",
       "count  303.000000  303.000000  303.000000  303.000000  303.000000  303.000000   \n",
       "mean     0.528053  149.646865    0.326733    1.039604    1.399340    0.729373   \n",
       "std      0.525860   22.905161    0.469794    1.161075    0.616226    1.022606   \n",
       "min      0.000000   71.000000    0.000000    0.000000    0.000000    0.000000   \n",
       "25%      0.000000  133.500000    0.000000    0.000000    1.000000    0.000000   \n",
       "50%      1.000000  153.000000    0.000000    0.800000    1.000000    0.000000   \n",
       "75%      1.000000  166.000000    1.000000    1.600000    2.000000    1.000000   \n",
       "max      2.000000  202.000000    1.000000    6.200000    2.000000    4.000000   \n",
       "\n",
       "            thall      output  \n",
       "count  303.000000  303.000000  \n",
       "mean     2.313531    0.544554  \n",
       "std      0.612277    0.498835  \n",
       "min      0.000000    0.000000  \n",
       "25%      2.000000    0.000000  \n",
       "50%      2.000000    1.000000  \n",
       "75%      3.000000    1.000000  \n",
       "max      3.000000    1.000000  "
      ]
     },
     "execution_count": 43,
     "metadata": {},
     "output_type": "execute_result"
    }
   ],
   "source": [
    "# get the summary of the dataset\n",
    "data.describe()"
   ]
  },
  {
   "cell_type": "code",
   "execution_count": 44,
   "metadata": {
    "colab": {
     "base_uri": "https://localhost:8080/"
    },
    "id": "S1GDzYIp12tq",
    "outputId": "f3d04c2b-897c-4025-f0c0-5e88bb6a1cc5",
    "pycharm": {
     "name": "#%%\n"
    }
   },
   "outputs": [
    {
     "name": "stdout",
     "output_type": "stream",
     "text": [
      "<class 'pandas.core.frame.DataFrame'>\n",
      "RangeIndex: 303 entries, 0 to 302\n",
      "Data columns (total 14 columns):\n",
      " #   Column    Non-Null Count  Dtype  \n",
      "---  ------    --------------  -----  \n",
      " 0   age       303 non-null    int64  \n",
      " 1   sex       303 non-null    int64  \n",
      " 2   cp        303 non-null    int64  \n",
      " 3   trtbps    303 non-null    int64  \n",
      " 4   chol      303 non-null    int64  \n",
      " 5   fbs       303 non-null    int64  \n",
      " 6   restecg   303 non-null    int64  \n",
      " 7   thalachh  303 non-null    int64  \n",
      " 8   exng      303 non-null    int64  \n",
      " 9   oldpeak   303 non-null    float64\n",
      " 10  slp       303 non-null    int64  \n",
      " 11  caa       303 non-null    int64  \n",
      " 12  thall     303 non-null    int64  \n",
      " 13  output    303 non-null    int64  \n",
      "dtypes: float64(1), int64(13)\n",
      "memory usage: 33.3 KB\n"
     ]
    }
   ],
   "source": [
    "# check all data\n",
    "data.info()"
   ]
  },
  {
   "cell_type": "code",
   "execution_count": 45,
   "metadata": {
    "colab": {
     "base_uri": "https://localhost:8080/"
    },
    "id": "WsMXO_Bc19fL",
    "outputId": "018dbb68-88dc-4833-d395-e06176f1e6ba",
    "pycharm": {
     "name": "#%%\n"
    }
   },
   "outputs": [
    {
     "data": {
      "text/plain": [
       "Index(['age', 'sex', 'cp', 'trtbps', 'chol', 'fbs', 'restecg', 'thalachh',\n",
       "       'exng', 'oldpeak', 'slp', 'caa', 'thall', 'output'],\n",
       "      dtype='object')"
      ]
     },
     "execution_count": 45,
     "metadata": {},
     "output_type": "execute_result"
    }
   ],
   "source": [
    "# get list of co\n",
    "data.columns"
   ]
  },
  {
   "cell_type": "markdown",
   "metadata": {
    "id": "UOiTQkTF2-h_",
    "pycharm": {
     "name": "#%% md\n"
    }
   },
   "source": [
    "# Exploratory data analysis"
   ]
  },
  {
   "cell_type": "code",
   "execution_count": 46,
   "metadata": {
    "colab": {
     "base_uri": "https://localhost:8080/"
    },
    "id": "5SjAZcSlYLHk",
    "outputId": "e1b0d28d-ffd5-47fc-ff82-a0d15a40af3d",
    "pycharm": {
     "name": "#%%\n"
    }
   },
   "outputs": [
    {
     "data": {
      "text/plain": [
       "age           29---77\n",
       "sex             0---1\n",
       "cp              0---3\n",
       "trtbps       94---200\n",
       "chol        126---564\n",
       "fbs             0---1\n",
       "restecg         0---2\n",
       "thalachh     71---202\n",
       "exng            0---1\n",
       "oldpeak     0.0---6.2\n",
       "slp             0---2\n",
       "caa             0---4\n",
       "thall           0---3\n",
       "output          0---1\n",
       "dtype: object"
      ]
     },
     "execution_count": 46,
     "metadata": {},
     "output_type": "execute_result"
    }
   ],
   "source": [
    "# get range of values of the variables\n",
    "data.apply(lambda x: str(x.min()) + \"---\" + str(x.max()))"
   ]
  },
  {
   "cell_type": "code",
   "execution_count": 47,
   "metadata": {
    "colab": {
     "base_uri": "https://localhost:8080/",
     "height": 385
    },
    "id": "-g66DyRFoEEy",
    "outputId": "d74b0811-8fd9-4d41-d76b-9facf0ebca99",
    "pycharm": {
     "name": "#%%\n"
    }
   },
   "outputs": [
    {
     "data": {
      "image/png": "[encoded data removed]",
      "text/plain": [
       "<Figure size 360x360 with 1 Axes>"
      ]
     },
     "metadata": {
      "needs_background": "light"
     },
     "output_type": "display_data"
    }
   ],
   "source": [
    "# check the distribution of age\n",
    "sn.displot(data=data, x=\"age\", color=\"turquoise\")\n",
    "plt.xlabel(\"Age\")\n",
    "plt.title(\"Age distribution\")\n",
    "plt.show()"
   ]
  },
  {
   "cell_type": "code",
   "execution_count": 48,
   "metadata": {
    "colab": {
     "base_uri": "https://localhost:8080/",
     "height": 295
    },
    "id": "a7y2w679oc3h",
    "outputId": "5fb45f42-18f1-471b-a33e-334bcef2e57c",
    "pycharm": {
     "name": "#%%\n"
    }
   },
   "outputs": [
    {
     "data": {
      "image/png": "[encoded data removed]",
      "text/plain": [
       "<Figure size 432x288 with 1 Axes>"
      ]
     },
     "metadata": {
      "needs_background": "light"
     },
     "output_type": "display_data"
    }
   ],
   "source": [
    "# check the distribution of sex\n",
    "sn.countplot(data=data, x=\"sex\", color=\"indigo\")\n",
    "plt.xlabel(\"Sex\")\n",
    "plt.title(\"Sex distribution\")\n",
    "plt.show()"
   ]
  },
  {
   "cell_type": "markdown",
   "metadata": {
    "id": "ej7lYJRVSO6Y",
    "pycharm": {
     "name": "#%% md\n"
    }
   },
   "source": [
    "**age:** 1: male; 0: female"
   ]
  },
  {
   "cell_type": "code",
   "execution_count": 49,
   "metadata": {
    "colab": {
     "base_uri": "https://localhost:8080/",
     "height": 295
    },
    "id": "amZQOlmMprXp",
    "outputId": "0e743421-74b5-4aa2-c218-5a09835b76f7",
    "pycharm": {
     "name": "#%%\n"
    }
   },
   "outputs": [
    {
     "data": {
      "image/png": "[encoded data removed]",
      "text/plain": [
       "<Figure size 432x288 with 1 Axes>"
      ]
     },
     "metadata": {
      "needs_background": "light"
     },
     "output_type": "display_data"
    }
   ],
   "source": [
    "# check the distribution of chest pain\n",
    "sn.countplot(data=data, x=\"cp\", color=\"salmon\")\n",
    "plt.xlabel(\"Chest pain\")\n",
    "plt.title(\"Chest pain distribution\")\n",
    "plt.show()"
   ]
  },
  {
   "cell_type": "markdown",
   "metadata": {
    "id": "-iZXmXXVS3Qs",
    "pycharm": {
     "name": "#%% md\n"
    }
   },
   "source": [
    "**chest pain:** 0: typical angina; 1: atypical angina; 2: non-anginal pain; 3: asymptomatic"
   ]
  },
  {
   "cell_type": "code",
   "execution_count": 50,
   "metadata": {
    "colab": {
     "base_uri": "https://localhost:8080/",
     "height": 385
    },
    "id": "hZcKfickpyCU",
    "outputId": "d7ab7dbd-5cf4-46b8-eb92-70125dba78f7",
    "pycharm": {
     "name": "#%%\n"
    }
   },
   "outputs": [
    {
     "data": {
      "image/png": "[encoded data removed]",
      "text/plain": [
       "<Figure size 360x360 with 1 Axes>"
      ]
     },
     "metadata": {
      "needs_background": "light"
     },
     "output_type": "display_data"
    }
   ],
   "source": [
    "# check the distribution of resting blood pressure\n",
    "sn.displot(data=data, x=\"trtbps\", color=\"aqua\")\n",
    "plt.xlabel(\"Resting blood pressure\")\n",
    "plt.title(\"Resting blood pressure distribution\")\n",
    "plt.show()"
   ]
  },
  {
   "cell_type": "code",
   "execution_count": 51,
   "metadata": {
    "colab": {
     "base_uri": "https://localhost:8080/",
     "height": 385
    },
    "id": "8snTmvDjqqj5",
    "outputId": "4b909c2b-c498-48eb-a7bd-e5d1cc6f218b",
    "pycharm": {
     "name": "#%%\n"
    }
   },
   "outputs": [
    {
     "data": {
      "image/png": "[encoded data removed]",
      "text/plain": [
       "<Figure size 360x360 with 1 Axes>"
      ]
     },
     "metadata": {
      "needs_background": "light"
     },
     "output_type": "display_data"
    }
   ],
   "source": [
    "# check the distribution of cholesterol\n",
    "sn.displot(data=data, x=\"chol\", color=\"darkorange\")\n",
    "plt.xlabel(\"Cholesterol levels\")\n",
    "plt.title(\"Cholesterol levels distribution\")\n",
    "plt.show()"
   ]
  },
  {
   "cell_type": "code",
   "execution_count": 52,
   "metadata": {
    "colab": {
     "base_uri": "https://localhost:8080/",
     "height": 295
    },
    "id": "fQEByv0WrDne",
    "outputId": "2e3ff377-83a8-452b-fcd3-661964592bb7",
    "pycharm": {
     "name": "#%%\n"
    }
   },
   "outputs": [
    {
     "data": {
      "image/png": "[encoded data removed]",
      "text/plain": [
       "<Figure size 432x288 with 1 Axes>"
      ]
     },
     "metadata": {
      "needs_background": "light"
     },
     "output_type": "display_data"
    }
   ],
   "source": [
    "# check the distribution of fasting blood sugar levels\n",
    "sn.countplot(data=data, x=\"fbs\", color=\"red\")\n",
    "plt.xlabel(\"FBS > 120 mg/dl\")\n",
    "plt.title(\"Fasting blood sugar levels > 120 mg/dl distribution\")\n",
    "plt.show()"
   ]
  },
  {
   "cell_type": "markdown",
   "metadata": {
    "id": "tCu_5YF_ThJQ",
    "pycharm": {
     "name": "#%% md\n"
    }
   },
   "source": [
    "**fasting blood sugar :** 1 = true; 0 = false"
   ]
  },
  {
   "cell_type": "code",
   "execution_count": 53,
   "metadata": {
    "colab": {
     "base_uri": "https://localhost:8080/",
     "height": 295
    },
    "id": "mgV0zKkTrQkk",
    "outputId": "857fa02e-1699-473b-e4f7-7c10d617e094",
    "pycharm": {
     "name": "#%%\n"
    }
   },
   "outputs": [
    {
     "data": {
      "image/png": "[encoded data removed]",
      "text/plain": [
       "<Figure size 432x288 with 1 Axes>"
      ]
     },
     "metadata": {
      "needs_background": "light"
     },
     "output_type": "display_data"
    }
   ],
   "source": [
    "# check the distribution of restecg\n",
    "sn.countplot(data=data, x=\"restecg\", color=\"purple\")\n",
    "plt.xlabel(\"Resting electrocardiographic results\")\n",
    "plt.title(\"Resting electrocardiographic results distribution\")\n",
    "plt.show()"
   ]
  },
  {
   "cell_type": "markdown",
   "metadata": {
    "id": "CxFM2D2TUNdX",
    "pycharm": {
     "name": "#%% md\n"
    }
   },
   "source": [
    "**resting electrocardiographic results:** 0: normal; 1: having ST-T wave abnormality (T wave inversions and/or ST elevation or depression of > 0.05 mV); 2: showing probable or definite left ventricular hypertrophy by Estes' criteria"
   ]
  },
  {
   "cell_type": "code",
   "execution_count": 54,
   "metadata": {
    "colab": {
     "base_uri": "https://localhost:8080/",
     "height": 385
    },
    "id": "EG7E-I1VsEUL",
    "outputId": "a928e24f-3f45-46f8-ef0e-095946e0d52c",
    "pycharm": {
     "name": "#%%\n"
    }
   },
   "outputs": [
    {
     "data": {
      "image/png": "[encoded data removed]",
      "text/plain": [
       "<Figure size 360x360 with 1 Axes>"
      ]
     },
     "metadata": {
      "needs_background": "light"
     },
     "output_type": "display_data"
    }
   ],
   "source": [
    "# check the distribution of thalachh\n",
    "sn.displot(data=data, x=\"thalachh\", color=\"darkturquoise\")\n",
    "plt.xlabel(\"Maximum heart rate achieved\")\n",
    "plt.title(\"Maximum heart rate achieved distribution\")\n",
    "plt.show()"
   ]
  },
  {
   "cell_type": "code",
   "execution_count": 55,
   "metadata": {
    "colab": {
     "base_uri": "https://localhost:8080/",
     "height": 295
    },
    "id": "UWlsEyxFu5Lr",
    "outputId": "756dcb4f-2879-4ed4-8d96-ea8a51c663c4",
    "pycharm": {
     "name": "#%%\n"
    }
   },
   "outputs": [
    {
     "data": {
      "image/png": "[encoded data removed]",
      "text/plain": [
       "<Figure size 432x288 with 1 Axes>"
      ]
     },
     "metadata": {
      "needs_background": "light"
     },
     "output_type": "display_data"
    }
   ],
   "source": [
    "# check the distribution of exng\n",
    "sn.countplot(data=data, x=\"exng\", color=\"teal\")\n",
    "plt.xlabel(\"Exercise induced angina\")\n",
    "plt.title(\"Exercise induced angina distribution\")\n",
    "plt.show()"
   ]
  },
  {
   "cell_type": "markdown",
   "metadata": {
    "id": "CmVx8vFBRujs",
    "pycharm": {
     "name": "#%% md\n"
    }
   },
   "source": [
    "**exercise induced angina:** 1: yes; 0: no"
   ]
  },
  {
   "cell_type": "code",
   "execution_count": 56,
   "metadata": {
    "colab": {
     "base_uri": "https://localhost:8080/",
     "height": 385
    },
    "id": "NGiTtAlEvEzo",
    "outputId": "fd91a6f3-c7b8-4a09-b6c0-a4bcf606fc42",
    "pycharm": {
     "name": "#%%\n"
    }
   },
   "outputs": [
    {
     "data": {
      "image/png": "[encoded data removed]",
      "text/plain": [
       "<Figure size 360x360 with 1 Axes>"
      ]
     },
     "metadata": {
      "needs_background": "light"
     },
     "output_type": "display_data"
    }
   ],
   "source": [
    "# check the distribution of oldpeak\n",
    "sn.displot(data=data, x=\"oldpeak\", color=\"royalblue\")\n",
    "plt.xlabel(\"ST depression induced by exercise relative to rest\")\n",
    "plt.title(\"ST depression induced by exercise relative to rest distribution\")\n",
    "plt.show()"
   ]
  },
  {
   "cell_type": "code",
   "execution_count": 57,
   "metadata": {
    "colab": {
     "base_uri": "https://localhost:8080/",
     "height": 295
    },
    "id": "EKtW8dS0vWoV",
    "outputId": "4a3e2f81-4265-44e8-c91d-2d9fca54bd21",
    "pycharm": {
     "name": "#%%\n"
    }
   },
   "outputs": [
    {
     "data": {
      "image/png": "[encoded data removed]",
      "text/plain": [
       "<Figure size 432x288 with 1 Axes>"
      ]
     },
     "metadata": {
      "needs_background": "light"
     },
     "output_type": "display_data"
    }
   ],
   "source": [
    "# check the distribution of slp\n",
    "sn.countplot(data=data, x=\"slp\", color=\"limegreen\")\n",
    "plt.xlabel(\"The slope of the peak exercise ST segment\")\n",
    "plt.title(\"Slope of the peak exercise ST segment distribution\")\n",
    "plt.show()"
   ]
  },
  {
   "cell_type": "code",
   "execution_count": 58,
   "metadata": {
    "colab": {
     "base_uri": "https://localhost:8080/",
     "height": 295
    },
    "id": "5xJjOhimvjmU",
    "outputId": "1b137421-f99e-48ec-cdea-3561703b8398",
    "pycharm": {
     "name": "#%%\n"
    }
   },
   "outputs": [
    {
     "data": {
      "image/png": "[encoded data removed]",
      "text/plain": [
       "<Figure size 432x288 with 1 Axes>"
      ]
     },
     "metadata": {
      "needs_background": "light"
     },
     "output_type": "display_data"
    }
   ],
   "source": [
    "# check the distribution of caa\n",
    "sn.countplot(data=data, x=\"caa\", color=\"crimson\")\n",
    "plt.xlabel(\"Number of vessels\")\n",
    "plt.title(\"Number of vessels distribution\")\n",
    "plt.show()"
   ]
  },
  {
   "cell_type": "code",
   "execution_count": 59,
   "metadata": {
    "colab": {
     "base_uri": "https://localhost:8080/",
     "height": 295
    },
    "id": "H3wR4y2XvzWF",
    "outputId": "69d52564-46f5-4a59-8fae-83cfaa1b5d7f",
    "pycharm": {
     "name": "#%%\n"
    }
   },
   "outputs": [
    {
     "data": {
      "image/png": "[encoded data removed]",
      "text/plain": [
       "<Figure size 432x288 with 1 Axes>"
      ]
     },
     "metadata": {
      "needs_background": "light"
     },
     "output_type": "display_data"
    }
   ],
   "source": [
    "# check the distribution of thall\n",
    "sn.countplot(data=data, x=\"thall\", color=\"rebeccapurple\")\n",
    "plt.xlabel(\"Thalassemia\")\n",
    "plt.title(\"Thalassemia distribution\")\n",
    "plt.show()"
   ]
  },
  {
   "cell_type": "markdown",
   "metadata": {
    "id": "HweQIk0eW3DV",
    "pycharm": {
     "name": "#%% md\n"
    }
   },
   "source": [
    "**thalassemia:** 0: null; 1: fixed defect; 2: normal; 3: reversable defect"
   ]
  },
  {
   "cell_type": "code",
   "execution_count": 60,
   "metadata": {
    "colab": {
     "base_uri": "https://localhost:8080/",
     "height": 295
    },
    "id": "sUGdoDCe3A4V",
    "outputId": "162d17ac-c5b1-4b44-8790-f98b57f3a351",
    "pycharm": {
     "name": "#%%\n"
    }
   },
   "outputs": [
    {
     "data": {
      "image/png": "[encoded data removed]",
      "text/plain": [
       "<Figure size 432x288 with 1 Axes>"
      ]
     },
     "metadata": {
      "needs_background": "light"
     },
     "output_type": "display_data"
    }
   ],
   "source": [
    "# check the distribution of output (our target variable)\n",
    "# 0 = less chance of heart attack; 1 = more chance of heart attack\n",
    "sn.countplot(data=data, x=\"output\", color=\"darkmagenta\")\n",
    "plt.xlabel(\"Output\")\n",
    "plt.title(\"Target value distribution\")\n",
    "plt.show()"
   ]
  },
  {
   "cell_type": "markdown",
   "metadata": {
    "id": "12o9627uX7_y",
    "pycharm": {
     "name": "#%% md\n"
    }
   },
   "source": [
    "**output (target variable):** 0: < 50% diameter narrowing. less chance of heart disease; 1: > 50% diameter narrowing. more chance of heart disease"
   ]
  },
  {
   "cell_type": "code",
   "execution_count": 61,
   "metadata": {
    "colab": {
     "base_uri": "https://localhost:8080/",
     "height": 424
    },
    "id": "6VxZTY1vx5Q_",
    "outputId": "f52d4ca1-76b9-4f85-ad5a-c3f6eb1ed398",
    "pycharm": {
     "name": "#%%\n"
    }
   },
   "outputs": [
    {
     "data": {
      "text/html": [
       "<div>\n",
       "<style scoped>\n",
       "    .dataframe tbody tr th:only-of-type {\n",
       "        vertical-align: middle;\n",
       "    }\n",
       "\n",
       "    .dataframe tbody tr th {\n",
       "        vertical-align: top;\n",
       "    }\n",
       "\n",
       "    .dataframe thead th {\n",
       "        text-align: right;\n",
       "    }\n",
       "</style>\n",
       "<table border=\"1\" class=\"dataframe\">\n",
       "  <thead>\n",
       "    <tr style=\"text-align: right;\">\n",
       "      <th></th>\n",
       "      <th>sex</th>\n",
       "      <th>cp</th>\n",
       "      <th>fbs</th>\n",
       "      <th>restecg</th>\n",
       "      <th>exng</th>\n",
       "      <th>slp</th>\n",
       "      <th>caa</th>\n",
       "      <th>thall</th>\n",
       "    </tr>\n",
       "  </thead>\n",
       "  <tbody>\n",
       "    <tr>\n",
       "      <th>0</th>\n",
       "      <td>1</td>\n",
       "      <td>3</td>\n",
       "      <td>1</td>\n",
       "      <td>0</td>\n",
       "      <td>0</td>\n",
       "      <td>0</td>\n",
       "      <td>0</td>\n",
       "      <td>1</td>\n",
       "    </tr>\n",
       "    <tr>\n",
       "      <th>1</th>\n",
       "      <td>1</td>\n",
       "      <td>2</td>\n",
       "      <td>0</td>\n",
       "      <td>1</td>\n",
       "      <td>0</td>\n",
       "      <td>0</td>\n",
       "      <td>0</td>\n",
       "      <td>2</td>\n",
       "    </tr>\n",
       "    <tr>\n",
       "      <th>2</th>\n",
       "      <td>0</td>\n",
       "      <td>1</td>\n",
       "      <td>0</td>\n",
       "      <td>0</td>\n",
       "      <td>0</td>\n",
       "      <td>2</td>\n",
       "      <td>0</td>\n",
       "      <td>2</td>\n",
       "    </tr>\n",
       "    <tr>\n",
       "      <th>3</th>\n",
       "      <td>1</td>\n",
       "      <td>1</td>\n",
       "      <td>0</td>\n",
       "      <td>1</td>\n",
       "      <td>0</td>\n",
       "      <td>2</td>\n",
       "      <td>0</td>\n",
       "      <td>2</td>\n",
       "    </tr>\n",
       "    <tr>\n",
       "      <th>4</th>\n",
       "      <td>0</td>\n",
       "      <td>0</td>\n",
       "      <td>0</td>\n",
       "      <td>1</td>\n",
       "      <td>1</td>\n",
       "      <td>2</td>\n",
       "      <td>0</td>\n",
       "      <td>2</td>\n",
       "    </tr>\n",
       "    <tr>\n",
       "      <th>...</th>\n",
       "      <td>...</td>\n",
       "      <td>...</td>\n",
       "      <td>...</td>\n",
       "      <td>...</td>\n",
       "      <td>...</td>\n",
       "      <td>...</td>\n",
       "      <td>...</td>\n",
       "      <td>...</td>\n",
       "    </tr>\n",
       "    <tr>\n",
       "      <th>298</th>\n",
       "      <td>0</td>\n",
       "      <td>0</td>\n",
       "      <td>0</td>\n",
       "      <td>1</td>\n",
       "      <td>1</td>\n",
       "      <td>1</td>\n",
       "      <td>0</td>\n",
       "      <td>3</td>\n",
       "    </tr>\n",
       "    <tr>\n",
       "      <th>299</th>\n",
       "      <td>1</td>\n",
       "      <td>3</td>\n",
       "      <td>0</td>\n",
       "      <td>1</td>\n",
       "      <td>0</td>\n",
       "      <td>1</td>\n",
       "      <td>0</td>\n",
       "      <td>3</td>\n",
       "    </tr>\n",
       "    <tr>\n",
       "      <th>300</th>\n",
       "      <td>1</td>\n",
       "      <td>0</td>\n",
       "      <td>1</td>\n",
       "      <td>1</td>\n",
       "      <td>0</td>\n",
       "      <td>1</td>\n",
       "      <td>2</td>\n",
       "      <td>3</td>\n",
       "    </tr>\n",
       "    <tr>\n",
       "      <th>301</th>\n",
       "      <td>1</td>\n",
       "      <td>0</td>\n",
       "      <td>0</td>\n",
       "      <td>1</td>\n",
       "      <td>1</td>\n",
       "      <td>1</td>\n",
       "      <td>1</td>\n",
       "      <td>3</td>\n",
       "    </tr>\n",
       "    <tr>\n",
       "      <th>302</th>\n",
       "      <td>0</td>\n",
       "      <td>1</td>\n",
       "      <td>0</td>\n",
       "      <td>0</td>\n",
       "      <td>0</td>\n",
       "      <td>1</td>\n",
       "      <td>1</td>\n",
       "      <td>2</td>\n",
       "    </tr>\n",
       "  </tbody>\n",
       "</table>\n",
       "<p>303 rows × 8 columns</p>\n",
       "</div>"
      ],
      "text/plain": [
       "     sex  cp  fbs  restecg  exng  slp  caa  thall\n",
       "0      1   3    1        0     0    0    0      1\n",
       "1      1   2    0        1     0    0    0      2\n",
       "2      0   1    0        0     0    2    0      2\n",
       "3      1   1    0        1     0    2    0      2\n",
       "4      0   0    0        1     1    2    0      2\n",
       "..   ...  ..  ...      ...   ...  ...  ...    ...\n",
       "298    0   0    0        1     1    1    0      3\n",
       "299    1   3    0        1     0    1    0      3\n",
       "300    1   0    1        1     0    1    2      3\n",
       "301    1   0    0        1     1    1    1      3\n",
       "302    0   1    0        0     0    1    1      2\n",
       "\n",
       "[303 rows x 8 columns]"
      ]
     },
     "execution_count": 61,
     "metadata": {},
     "output_type": "execute_result"
    }
   ],
   "source": [
    "# analysis of the categorical variables\n",
    "categorical_var = [\"sex\", \"cp\", \"fbs\", \"restecg\", \"exng\", \"slp\", \"caa\", \"thall\"]\n",
    "data_categorical = data.loc[:,categorical_var]\n",
    "data_categorical"
   ]
  },
  {
   "cell_type": "code",
   "execution_count": 62,
   "metadata": {
    "colab": {
     "base_uri": "https://localhost:8080/",
     "height": 1000
    },
    "id": "HKmtq05iyLI5",
    "outputId": "66726a0b-b1a7-47ef-b4b1-8256eb9da03f",
    "pycharm": {
     "name": "#%%\n"
    }
   },
   "outputs": [
    {
     "data": {
      "image/png": "[encoded data removed]",
      "text/plain": [
       "<Figure size 432x288 with 1 Axes>"
      ]
     },
     "metadata": {
      "needs_background": "light"
     },
     "output_type": "display_data"
    },
    {
     "data": {
      "image/png": "[encoded data removed]",
      "text/plain": [
       "<Figure size 432x288 with 1 Axes>"
      ]
     },
     "metadata": {
      "needs_background": "light"
     },
     "output_type": "display_data"
    },
    {
     "data": {
      "image/png": "[encoded data removed]",
      "text/plain": [
       "<Figure size 432x288 with 1 Axes>"
      ]
     },
     "metadata": {
      "needs_background": "light"
     },
     "output_type": "display_data"
    },
    {
     "data": {
      "image/png": "[encoded data removed]",
      "text/plain": [
       "<Figure size 432x288 with 1 Axes>"
      ]
     },
     "metadata": {
      "needs_background": "light"
     },
     "output_type": "display_data"
    },
    {
     "data": {
      "image/png": "[encoded data removed]",
      "text/plain": [
       "<Figure size 432x288 with 1 Axes>"
      ]
     },
     "metadata": {
      "needs_background": "light"
     },
     "output_type": "display_data"
    },
    {
     "data": {
      "image/png": "[encoded data removed]",
      "text/plain": [
       "<Figure size 432x288 with 1 Axes>"
      ]
     },
     "metadata": {
      "needs_background": "light"
     },
     "output_type": "display_data"
    },
    {
     "data": {
      "image/png": "[encoded data removed]",
      "text/plain": [
       "<Figure size 432x288 with 1 Axes>"
      ]
     },
     "metadata": {
      "needs_background": "light"
     },
     "output_type": "display_data"
    },
    {
     "data": {
      "image/png": "[encoded data removed]",
      "text/plain": [
       "<Figure size 432x288 with 1 Axes>"
      ]
     },
     "metadata": {
      "needs_background": "light"
     },
     "output_type": "display_data"
    }
   ],
   "source": [
    "# plotting the categorical variables against the target variable\n",
    "for i in categorical_var:\n",
    "    plt.figure()\n",
    "    sn.countplot(x=i, data=data, hue=\"output\") #, color=\"darkblue\")\n",
    "    plt.title(i)"
   ]
  },
  {
   "cell_type": "code",
   "execution_count": 63,
   "metadata": {},
   "outputs": [
    {
     "data": {
      "text/html": [
       "<div>\n",
       "<style scoped>\n",
       "    .dataframe tbody tr th:only-of-type {\n",
       "        vertical-align: middle;\n",
       "    }\n",
       "\n",
       "    .dataframe tbody tr th {\n",
       "        vertical-align: top;\n",
       "    }\n",
       "\n",
       "    .dataframe thead th {\n",
       "        text-align: right;\n",
       "    }\n",
       "</style>\n",
       "<table border=\"1\" class=\"dataframe\">\n",
       "  <thead>\n",
       "    <tr style=\"text-align: right;\">\n",
       "      <th></th>\n",
       "      <th>age</th>\n",
       "      <th>trtbps</th>\n",
       "      <th>chol</th>\n",
       "      <th>thalachh</th>\n",
       "      <th>oldpeak</th>\n",
       "    </tr>\n",
       "  </thead>\n",
       "  <tbody>\n",
       "    <tr>\n",
       "      <th>0</th>\n",
       "      <td>63</td>\n",
       "      <td>145</td>\n",
       "      <td>233</td>\n",
       "      <td>150</td>\n",
       "      <td>2.3</td>\n",
       "    </tr>\n",
       "    <tr>\n",
       "      <th>1</th>\n",
       "      <td>37</td>\n",
       "      <td>130</td>\n",
       "      <td>250</td>\n",
       "      <td>187</td>\n",
       "      <td>3.5</td>\n",
       "    </tr>\n",
       "    <tr>\n",
       "      <th>2</th>\n",
       "      <td>41</td>\n",
       "      <td>130</td>\n",
       "      <td>204</td>\n",
       "      <td>172</td>\n",
       "      <td>1.4</td>\n",
       "    </tr>\n",
       "    <tr>\n",
       "      <th>3</th>\n",
       "      <td>56</td>\n",
       "      <td>120</td>\n",
       "      <td>236</td>\n",
       "      <td>178</td>\n",
       "      <td>0.8</td>\n",
       "    </tr>\n",
       "    <tr>\n",
       "      <th>4</th>\n",
       "      <td>57</td>\n",
       "      <td>120</td>\n",
       "      <td>354</td>\n",
       "      <td>163</td>\n",
       "      <td>0.6</td>\n",
       "    </tr>\n",
       "  </tbody>\n",
       "</table>\n",
       "</div>"
      ],
      "text/plain": [
       "   age  trtbps  chol  thalachh  oldpeak\n",
       "0   63     145   233       150      2.3\n",
       "1   37     130   250       187      3.5\n",
       "2   41     130   204       172      1.4\n",
       "3   56     120   236       178      0.8\n",
       "4   57     120   354       163      0.6"
      ]
     },
     "execution_count": 63,
     "metadata": {},
     "output_type": "execute_result"
    }
   ],
   "source": [
    "# get the numeric variables dataframe\n",
    "numeric_var = [\"age\", \"trtbps\", \"chol\", \"thalachh\", \"oldpeak\"]\n",
    "data_numeric = data[numeric_var]\n",
    "data_numeric.head()"
   ]
  },
  {
   "cell_type": "code",
   "execution_count": 64,
   "metadata": {},
   "outputs": [
    {
     "data": {
      "image/png": "[encoded data removed]",
      "text/plain": [
       "<Figure size 432x288 with 1 Axes>"
      ]
     },
     "metadata": {
      "needs_background": "light"
     },
     "output_type": "display_data"
    },
    {
     "data": {
      "image/png": "[encoded data removed]",
      "text/plain": [
       "<Figure size 432x288 with 1 Axes>"
      ]
     },
     "metadata": {
      "needs_background": "light"
     },
     "output_type": "display_data"
    },
    {
     "data": {
      "image/png": "[encoded data removed]",
      "text/plain": [
       "<Figure size 432x288 with 1 Axes>"
      ]
     },
     "metadata": {
      "needs_background": "light"
     },
     "output_type": "display_data"
    },
    {
     "data": {
      "image/png": "[encoded data removed]",
      "text/plain": [
       "<Figure size 432x288 with 1 Axes>"
      ]
     },
     "metadata": {
      "needs_background": "light"
     },
     "output_type": "display_data"
    },
    {
     "data": {
      "image/png": "[encoded data removed]",
      "text/plain": [
       "<Figure size 432x288 with 1 Axes>"
      ]
     },
     "metadata": {
      "needs_background": "light"
     },
     "output_type": "display_data"
    }
   ],
   "source": [
    "# plotting the numeric variables against the target variable\n",
    "for i in range(len(numeric_var)):\n",
    "    plt.figure()\n",
    "    column = numeric_var[i]\n",
    "    sn.boxplot(x='output', y=column, data=data) #, color=\"darkblue\")\n",
    "    plt.title(i)"
   ]
  },
  {
   "cell_type": "markdown",
   "metadata": {
    "id": "M3a-VU-k8DhY",
    "pycharm": {
     "name": "#%% md\n"
    }
   },
   "source": [
    "# Statistical tests and correlation"
   ]
  },
  {
   "cell_type": "code",
   "execution_count": 65,
   "metadata": {
    "id": "HfqZIf1G1K5s",
    "pycharm": {
     "name": "#%%\n"
    }
   },
   "outputs": [],
   "source": [
    "# logarithmic transformation\n",
    "log_data = np.log2(data)"
   ]
  },
  {
   "cell_type": "code",
   "execution_count": 66,
   "metadata": {
    "id": "gQLaVehX1Vg6",
    "pycharm": {
     "name": "#%%\n"
    },
    "tags": []
   },
   "outputs": [
    {
     "data": {
      "text/html": [
       "<div>\n",
       "<style scoped>\n",
       "    .dataframe tbody tr th:only-of-type {\n",
       "        vertical-align: middle;\n",
       "    }\n",
       "\n",
       "    .dataframe tbody tr th {\n",
       "        vertical-align: top;\n",
       "    }\n",
       "\n",
       "    .dataframe thead th {\n",
       "        text-align: right;\n",
       "    }\n",
       "</style>\n",
       "<table border=\"1\" class=\"dataframe\">\n",
       "  <thead>\n",
       "    <tr style=\"text-align: right;\">\n",
       "      <th></th>\n",
       "      <th>age</th>\n",
       "      <th>sex</th>\n",
       "      <th>cp</th>\n",
       "      <th>trtbps</th>\n",
       "      <th>chol</th>\n",
       "      <th>fbs</th>\n",
       "      <th>restecg</th>\n",
       "      <th>thalachh</th>\n",
       "      <th>exng</th>\n",
       "      <th>oldpeak</th>\n",
       "      <th>slp</th>\n",
       "      <th>caa</th>\n",
       "      <th>thall</th>\n",
       "      <th>output</th>\n",
       "    </tr>\n",
       "  </thead>\n",
       "  <tbody>\n",
       "    <tr>\n",
       "      <th>0</th>\n",
       "      <td>0.952197</td>\n",
       "      <td>0.681005</td>\n",
       "      <td>1.973123</td>\n",
       "      <td>0.763956</td>\n",
       "      <td>-0.256334</td>\n",
       "      <td>2.394438</td>\n",
       "      <td>-1.005832</td>\n",
       "      <td>0.015443</td>\n",
       "      <td>-0.696631</td>\n",
       "      <td>1.087338</td>\n",
       "      <td>-2.274579</td>\n",
       "      <td>-0.714429</td>\n",
       "      <td>-2.148873</td>\n",
       "      <td>0.914529</td>\n",
       "    </tr>\n",
       "    <tr>\n",
       "      <th>1</th>\n",
       "      <td>-1.915313</td>\n",
       "      <td>0.681005</td>\n",
       "      <td>1.002577</td>\n",
       "      <td>-0.092738</td>\n",
       "      <td>0.072199</td>\n",
       "      <td>-0.417635</td>\n",
       "      <td>0.898962</td>\n",
       "      <td>1.633471</td>\n",
       "      <td>-0.696631</td>\n",
       "      <td>2.122573</td>\n",
       "      <td>-2.274579</td>\n",
       "      <td>-0.714429</td>\n",
       "      <td>-0.512922</td>\n",
       "      <td>0.914529</td>\n",
       "    </tr>\n",
       "    <tr>\n",
       "      <th>2</th>\n",
       "      <td>-1.474158</td>\n",
       "      <td>-1.468418</td>\n",
       "      <td>0.032031</td>\n",
       "      <td>-0.092738</td>\n",
       "      <td>-0.816773</td>\n",
       "      <td>-0.417635</td>\n",
       "      <td>-1.005832</td>\n",
       "      <td>0.977514</td>\n",
       "      <td>-0.696631</td>\n",
       "      <td>0.310912</td>\n",
       "      <td>0.976352</td>\n",
       "      <td>-0.714429</td>\n",
       "      <td>-0.512922</td>\n",
       "      <td>0.914529</td>\n",
       "    </tr>\n",
       "    <tr>\n",
       "      <th>3</th>\n",
       "      <td>0.180175</td>\n",
       "      <td>0.681005</td>\n",
       "      <td>0.032031</td>\n",
       "      <td>-0.663867</td>\n",
       "      <td>-0.198357</td>\n",
       "      <td>-0.417635</td>\n",
       "      <td>0.898962</td>\n",
       "      <td>1.239897</td>\n",
       "      <td>-0.696631</td>\n",
       "      <td>-0.206705</td>\n",
       "      <td>0.976352</td>\n",
       "      <td>-0.714429</td>\n",
       "      <td>-0.512922</td>\n",
       "      <td>0.914529</td>\n",
       "    </tr>\n",
       "    <tr>\n",
       "      <th>4</th>\n",
       "      <td>0.290464</td>\n",
       "      <td>-1.468418</td>\n",
       "      <td>-0.938515</td>\n",
       "      <td>-0.663867</td>\n",
       "      <td>2.082050</td>\n",
       "      <td>-0.417635</td>\n",
       "      <td>0.898962</td>\n",
       "      <td>0.583939</td>\n",
       "      <td>1.435481</td>\n",
       "      <td>-0.379244</td>\n",
       "      <td>0.976352</td>\n",
       "      <td>-0.714429</td>\n",
       "      <td>-0.512922</td>\n",
       "      <td>0.914529</td>\n",
       "    </tr>\n",
       "    <tr>\n",
       "      <th>...</th>\n",
       "      <td>...</td>\n",
       "      <td>...</td>\n",
       "      <td>...</td>\n",
       "      <td>...</td>\n",
       "      <td>...</td>\n",
       "      <td>...</td>\n",
       "      <td>...</td>\n",
       "      <td>...</td>\n",
       "      <td>...</td>\n",
       "      <td>...</td>\n",
       "      <td>...</td>\n",
       "      <td>...</td>\n",
       "      <td>...</td>\n",
       "      <td>...</td>\n",
       "    </tr>\n",
       "    <tr>\n",
       "      <th>298</th>\n",
       "      <td>0.290464</td>\n",
       "      <td>-1.468418</td>\n",
       "      <td>-0.938515</td>\n",
       "      <td>0.478391</td>\n",
       "      <td>-0.101730</td>\n",
       "      <td>-0.417635</td>\n",
       "      <td>0.898962</td>\n",
       "      <td>-1.165281</td>\n",
       "      <td>1.435481</td>\n",
       "      <td>-0.724323</td>\n",
       "      <td>-0.649113</td>\n",
       "      <td>-0.714429</td>\n",
       "      <td>1.123029</td>\n",
       "      <td>-1.093459</td>\n",
       "    </tr>\n",
       "    <tr>\n",
       "      <th>299</th>\n",
       "      <td>-1.033002</td>\n",
       "      <td>0.681005</td>\n",
       "      <td>1.973123</td>\n",
       "      <td>-1.234996</td>\n",
       "      <td>0.342756</td>\n",
       "      <td>-0.417635</td>\n",
       "      <td>0.898962</td>\n",
       "      <td>-0.771706</td>\n",
       "      <td>-0.696631</td>\n",
       "      <td>0.138373</td>\n",
       "      <td>-0.649113</td>\n",
       "      <td>-0.714429</td>\n",
       "      <td>1.123029</td>\n",
       "      <td>-1.093459</td>\n",
       "    </tr>\n",
       "    <tr>\n",
       "      <th>300</th>\n",
       "      <td>1.503641</td>\n",
       "      <td>0.681005</td>\n",
       "      <td>-0.938515</td>\n",
       "      <td>0.706843</td>\n",
       "      <td>-1.029353</td>\n",
       "      <td>2.394438</td>\n",
       "      <td>0.898962</td>\n",
       "      <td>-0.378132</td>\n",
       "      <td>-0.696631</td>\n",
       "      <td>2.036303</td>\n",
       "      <td>-0.649113</td>\n",
       "      <td>1.244593</td>\n",
       "      <td>1.123029</td>\n",
       "      <td>-1.093459</td>\n",
       "    </tr>\n",
       "    <tr>\n",
       "      <th>301</th>\n",
       "      <td>0.290464</td>\n",
       "      <td>0.681005</td>\n",
       "      <td>-0.938515</td>\n",
       "      <td>-0.092738</td>\n",
       "      <td>-2.227533</td>\n",
       "      <td>-0.417635</td>\n",
       "      <td>0.898962</td>\n",
       "      <td>-1.515125</td>\n",
       "      <td>1.435481</td>\n",
       "      <td>0.138373</td>\n",
       "      <td>-0.649113</td>\n",
       "      <td>0.265082</td>\n",
       "      <td>1.123029</td>\n",
       "      <td>-1.093459</td>\n",
       "    </tr>\n",
       "    <tr>\n",
       "      <th>302</th>\n",
       "      <td>0.290464</td>\n",
       "      <td>-1.468418</td>\n",
       "      <td>0.032031</td>\n",
       "      <td>-0.092738</td>\n",
       "      <td>-0.198357</td>\n",
       "      <td>-0.417635</td>\n",
       "      <td>-1.005832</td>\n",
       "      <td>1.064975</td>\n",
       "      <td>-0.696631</td>\n",
       "      <td>-0.896862</td>\n",
       "      <td>-0.649113</td>\n",
       "      <td>0.265082</td>\n",
       "      <td>-0.512922</td>\n",
       "      <td>-1.093459</td>\n",
       "    </tr>\n",
       "  </tbody>\n",
       "</table>\n",
       "<p>303 rows × 14 columns</p>\n",
       "</div>"
      ],
      "text/plain": [
       "          age       sex        cp    trtbps      chol       fbs   restecg  \\\n",
       "0    0.952197  0.681005  1.973123  0.763956 -0.256334  2.394438 -1.005832   \n",
       "1   -1.915313  0.681005  1.002577 -0.092738  0.072199 -0.417635  0.898962   \n",
       "2   -1.474158 -1.468418  0.032031 -0.092738 -0.816773 -0.417635 -1.005832   \n",
       "3    0.180175  0.681005  0.032031 -0.663867 -0.198357 -0.417635  0.898962   \n",
       "4    0.290464 -1.468418 -0.938515 -0.663867  2.082050 -0.417635  0.898962   \n",
       "..        ...       ...       ...       ...       ...       ...       ...   \n",
       "298  0.290464 -1.468418 -0.938515  0.478391 -0.101730 -0.417635  0.898962   \n",
       "299 -1.033002  0.681005  1.973123 -1.234996  0.342756 -0.417635  0.898962   \n",
       "300  1.503641  0.681005 -0.938515  0.706843 -1.029353  2.394438  0.898962   \n",
       "301  0.290464  0.681005 -0.938515 -0.092738 -2.227533 -0.417635  0.898962   \n",
       "302  0.290464 -1.468418  0.032031 -0.092738 -0.198357 -0.417635 -1.005832   \n",
       "\n",
       "     thalachh      exng   oldpeak       slp       caa     thall    output  \n",
       "0    0.015443 -0.696631  1.087338 -2.274579 -0.714429 -2.148873  0.914529  \n",
       "1    1.633471 -0.696631  2.122573 -2.274579 -0.714429 -0.512922  0.914529  \n",
       "2    0.977514 -0.696631  0.310912  0.976352 -0.714429 -0.512922  0.914529  \n",
       "3    1.239897 -0.696631 -0.206705  0.976352 -0.714429 -0.512922  0.914529  \n",
       "4    0.583939  1.435481 -0.379244  0.976352 -0.714429 -0.512922  0.914529  \n",
       "..        ...       ...       ...       ...       ...       ...       ...  \n",
       "298 -1.165281  1.435481 -0.724323 -0.649113 -0.714429  1.123029 -1.093459  \n",
       "299 -0.771706 -0.696631  0.138373 -0.649113 -0.714429  1.123029 -1.093459  \n",
       "300 -0.378132 -0.696631  2.036303 -0.649113  1.244593  1.123029 -1.093459  \n",
       "301 -1.515125  1.435481  0.138373 -0.649113  0.265082  1.123029 -1.093459  \n",
       "302  1.064975 -0.696631 -0.896862 -0.649113  0.265082 -0.512922 -1.093459  \n",
       "\n",
       "[303 rows x 14 columns]"
      ]
     },
     "execution_count": 66,
     "metadata": {},
     "output_type": "execute_result"
    }
   ],
   "source": [
    "# scaling the data\n",
    "array_data = preprocessing.scale(data)\n",
    "data_scale = pd.DataFrame(array_data, index=data.index, columns=data.columns)\n",
    "data_scale"
   ]
  },
  {
   "cell_type": "code",
   "execution_count": 76,
   "metadata": {
    "colab": {
     "base_uri": "https://localhost:8080/",
     "height": 541
    },
    "id": "EHffWoJCkh05",
    "outputId": "4896eb84-ac47-422f-dfb2-8afc2e8a8516",
    "pycharm": {
     "name": "#%%\n"
    }
   },
   "outputs": [
    {
     "data": {
      "image/png": "[encoded data removed]",
      "text/plain": [
       "<Figure size 432x288 with 1 Axes>"
      ]
     },
     "execution_count": 76,
     "metadata": {},
     "output_type": "execute_result"
    },
    {
     "data": {
      "image/png": "[encoded data removed]",
      "text/plain": [
       "<Figure size 432x288 with 1 Axes>"
      ]
     },
     "metadata": {
      "needs_background": "light"
     },
     "output_type": "display_data"
    }
   ],
   "source": [
    "# check if age follows a normal distribution\n",
    "sm.qqplot(data_scale.age, dist=stats.norm, distargs=(), a=0, loc=0, scale=1, fit=False, line='45', ax=None)"
   ]
  },
  {
   "cell_type": "code",
   "execution_count": 77,
   "metadata": {
    "colab": {
     "base_uri": "https://localhost:8080/",
     "height": 541
    },
    "id": "UgwCuU-JAGLV",
    "outputId": "e7639bb1-2b2d-485c-b188-a3139862314c",
    "pycharm": {
     "name": "#%%\n"
    }
   },
   "outputs": [
    {
     "data": {
      "image/png": "[encoded data removed]",
      "text/plain": [
       "<Figure size 432x288 with 1 Axes>"
      ]
     },
     "execution_count": 77,
     "metadata": {},
     "output_type": "execute_result"
    },
    {
     "data": {
      "image/png": "[encoded data removed]",
      "text/plain": [
       "<Figure size 432x288 with 1 Axes>"
      ]
     },
     "metadata": {
      "needs_background": "light"
     },
     "output_type": "display_data"
    }
   ],
   "source": [
    "# check if trtbps follows a normal distribution\n",
    "sm.qqplot(data_scale.trtbps, dist=stats.norm, distargs=(), a=0, loc=0, scale=1, fit=False, line='45', ax=None)"
   ]
  },
  {
   "cell_type": "code",
   "execution_count": 78,
   "metadata": {
    "colab": {
     "base_uri": "https://localhost:8080/",
     "height": 541
    },
    "id": "07fjI3dkLLDt",
    "outputId": "de079d08-eab8-4619-cf3d-f39dcdb42ff7",
    "pycharm": {
     "name": "#%%\n"
    }
   },
   "outputs": [
    {
     "data": {
      "image/png": "[encoded data removed]",
      "text/plain": [
       "<Figure size 432x288 with 1 Axes>"
      ]
     },
     "execution_count": 78,
     "metadata": {},
     "output_type": "execute_result"
    },
    {
     "data": {
      "image/png": "[encoded data removed]",
      "text/plain": [
       "<Figure size 432x288 with 1 Axes>"
      ]
     },
     "metadata": {
      "needs_background": "light"
     },
     "output_type": "display_data"
    }
   ],
   "source": [
    "# check if chol follows a normal distribution\n",
    "sm.qqplot(data_scale.chol, dist=stats.norm, distargs=(), a=0, loc=0, scale=1, fit=False, line='45', ax=None)"
   ]
  },
  {
   "cell_type": "code",
   "execution_count": 79,
   "metadata": {
    "colab": {
     "base_uri": "https://localhost:8080/",
     "height": 541
    },
    "id": "vSOiDUX7Lnqv",
    "outputId": "dbaf077f-f624-4166-a1aa-e2085e54cee0",
    "pycharm": {
     "name": "#%%\n"
    }
   },
   "outputs": [
    {
     "data": {
      "image/png": "[encoded data removed]",
      "text/plain": [
       "<Figure size 432x288 with 1 Axes>"
      ]
     },
     "execution_count": 79,
     "metadata": {},
     "output_type": "execute_result"
    },
    {
     "data": {
      "image/png": "[encoded data removed]",
      "text/plain": [
       "<Figure size 432x288 with 1 Axes>"
      ]
     },
     "metadata": {
      "needs_background": "light"
     },
     "output_type": "display_data"
    }
   ],
   "source": [
    "# check if thalachh follows a normal distribution\n",
    "sm.qqplot(data_scale.thalachh, dist=stats.norm, distargs=(), a=0, loc=0, scale=1, fit=False, line='45', ax=None)"
   ]
  },
  {
   "cell_type": "code",
   "execution_count": 80,
   "metadata": {
    "colab": {
     "base_uri": "https://localhost:8080/",
     "height": 541
    },
    "id": "9Z3j-5TbLtHI",
    "outputId": "d5c750ac-c083-4cb1-ae81-19ee73f62aaf",
    "pycharm": {
     "name": "#%%\n"
    }
   },
   "outputs": [
    {
     "data": {
      "image/png": "[encoded data removed]",
      "text/plain": [
       "<Figure size 432x288 with 1 Axes>"
      ]
     },
     "execution_count": 80,
     "metadata": {},
     "output_type": "execute_result"
    },
    {
     "data": {
      "image/png": "[encoded data removed]",
      "text/plain": [
       "<Figure size 432x288 with 1 Axes>"
      ]
     },
     "metadata": {
      "needs_background": "light"
     },
     "output_type": "display_data"
    }
   ],
   "source": [
    "# check if oldpeak follows a normal distribution\n",
    "sm.qqplot(data_scale.oldpeak, dist=stats.norm, distargs=(), a=0, loc=0, scale=1, fit=False, line='45', ax=None)"
   ]
  },
  {
   "cell_type": "code",
   "execution_count": 82,
   "metadata": {
    "colab": {
     "base_uri": "https://localhost:8080/"
    },
    "id": "H_sX8qxHPf6K",
    "outputId": "3f039c65-516b-4c42-a456-dc6fbf952ffa",
    "pycharm": {
     "name": "#%%\n"
    }
   },
   "outputs": [
    {
     "data": {
      "text/plain": [
       "(303, 14)"
      ]
     },
     "execution_count": 82,
     "metadata": {},
     "output_type": "execute_result"
    }
   ],
   "source": [
    "data_scale.shape"
   ]
  },
  {
   "cell_type": "code",
   "execution_count": 86,
   "metadata": {
    "colab": {
     "base_uri": "https://localhost:8080/"
    },
    "id": "7x4DMKC_lbrX",
    "outputId": "b332a926-61f8-4605-eab7-699e1aa16f73",
    "pycharm": {
     "name": "#%%\n"
    }
   },
   "outputs": [
    {
     "data": {
      "text/plain": [
       "ShapiroResult(statistic=0.9619950652122498, pvalue=5.395357439801062e-32)"
      ]
     },
     "execution_count": 86,
     "metadata": {},
     "output_type": "execute_result"
    }
   ],
   "source": [
    "# normality test - shapiro test\n",
    "scipy.stats.shapiro(x=data_scale)\n",
    "# H0 is rejected - the data is considered to be not normally distributed"
   ]
  },
  {
   "cell_type": "code",
   "execution_count": 87,
   "metadata": {},
   "outputs": [
    {
     "data": {
      "text/html": [
       "<div>\n",
       "<style scoped>\n",
       "    .dataframe tbody tr th:only-of-type {\n",
       "        vertical-align: middle;\n",
       "    }\n",
       "\n",
       "    .dataframe tbody tr th {\n",
       "        vertical-align: top;\n",
       "    }\n",
       "\n",
       "    .dataframe thead th {\n",
       "        text-align: right;\n",
       "    }\n",
       "</style>\n",
       "<table border=\"1\" class=\"dataframe\">\n",
       "  <thead>\n",
       "    <tr style=\"text-align: right;\">\n",
       "      <th></th>\n",
       "      <th>age</th>\n",
       "      <th>sex</th>\n",
       "      <th>cp</th>\n",
       "      <th>trtbps</th>\n",
       "      <th>chol</th>\n",
       "      <th>fbs</th>\n",
       "      <th>restecg</th>\n",
       "      <th>thalachh</th>\n",
       "      <th>exng</th>\n",
       "      <th>oldpeak</th>\n",
       "      <th>slp</th>\n",
       "      <th>caa</th>\n",
       "      <th>thall</th>\n",
       "      <th>output</th>\n",
       "    </tr>\n",
       "  </thead>\n",
       "  <tbody>\n",
       "    <tr>\n",
       "      <th>age</th>\n",
       "      <td>1.000000</td>\n",
       "      <td>-0.099131</td>\n",
       "      <td>-0.087494</td>\n",
       "      <td>0.285617</td>\n",
       "      <td>0.195786</td>\n",
       "      <td>0.113978</td>\n",
       "      <td>-0.132769</td>\n",
       "      <td>-0.398052</td>\n",
       "      <td>0.089679</td>\n",
       "      <td>0.268291</td>\n",
       "      <td>-0.184048</td>\n",
       "      <td>0.340955</td>\n",
       "      <td>0.087254</td>\n",
       "      <td>-0.238400</td>\n",
       "    </tr>\n",
       "    <tr>\n",
       "      <th>sex</th>\n",
       "      <td>-0.099131</td>\n",
       "      <td>1.000000</td>\n",
       "      <td>-0.062041</td>\n",
       "      <td>-0.052941</td>\n",
       "      <td>-0.151342</td>\n",
       "      <td>0.045032</td>\n",
       "      <td>-0.048389</td>\n",
       "      <td>-0.039868</td>\n",
       "      <td>0.141664</td>\n",
       "      <td>0.100715</td>\n",
       "      <td>-0.025010</td>\n",
       "      <td>0.119368</td>\n",
       "      <td>0.250821</td>\n",
       "      <td>-0.280937</td>\n",
       "    </tr>\n",
       "    <tr>\n",
       "      <th>cp</th>\n",
       "      <td>-0.087494</td>\n",
       "      <td>-0.062041</td>\n",
       "      <td>1.000000</td>\n",
       "      <td>0.035413</td>\n",
       "      <td>-0.091721</td>\n",
       "      <td>0.089775</td>\n",
       "      <td>0.065640</td>\n",
       "      <td>0.324013</td>\n",
       "      <td>-0.418256</td>\n",
       "      <td>-0.161449</td>\n",
       "      <td>0.159478</td>\n",
       "      <td>-0.216006</td>\n",
       "      <td>-0.207840</td>\n",
       "      <td>0.460860</td>\n",
       "    </tr>\n",
       "    <tr>\n",
       "      <th>trtbps</th>\n",
       "      <td>0.285617</td>\n",
       "      <td>-0.052941</td>\n",
       "      <td>0.035413</td>\n",
       "      <td>1.000000</td>\n",
       "      <td>0.126562</td>\n",
       "      <td>0.151984</td>\n",
       "      <td>-0.125841</td>\n",
       "      <td>-0.040407</td>\n",
       "      <td>0.052918</td>\n",
       "      <td>0.154267</td>\n",
       "      <td>-0.086570</td>\n",
       "      <td>0.090140</td>\n",
       "      <td>0.059673</td>\n",
       "      <td>-0.121593</td>\n",
       "    </tr>\n",
       "    <tr>\n",
       "      <th>chol</th>\n",
       "      <td>0.195786</td>\n",
       "      <td>-0.151342</td>\n",
       "      <td>-0.091721</td>\n",
       "      <td>0.126562</td>\n",
       "      <td>1.000000</td>\n",
       "      <td>0.018463</td>\n",
       "      <td>-0.161933</td>\n",
       "      <td>-0.046766</td>\n",
       "      <td>0.091514</td>\n",
       "      <td>0.045260</td>\n",
       "      <td>-0.012551</td>\n",
       "      <td>0.111981</td>\n",
       "      <td>0.083628</td>\n",
       "      <td>-0.120888</td>\n",
       "    </tr>\n",
       "    <tr>\n",
       "      <th>fbs</th>\n",
       "      <td>0.113978</td>\n",
       "      <td>0.045032</td>\n",
       "      <td>0.089775</td>\n",
       "      <td>0.151984</td>\n",
       "      <td>0.018463</td>\n",
       "      <td>1.000000</td>\n",
       "      <td>-0.081508</td>\n",
       "      <td>-0.014273</td>\n",
       "      <td>0.025665</td>\n",
       "      <td>0.028363</td>\n",
       "      <td>-0.045786</td>\n",
       "      <td>0.134513</td>\n",
       "      <td>-0.006737</td>\n",
       "      <td>-0.028046</td>\n",
       "    </tr>\n",
       "    <tr>\n",
       "      <th>restecg</th>\n",
       "      <td>-0.132769</td>\n",
       "      <td>-0.048389</td>\n",
       "      <td>0.065640</td>\n",
       "      <td>-0.125841</td>\n",
       "      <td>-0.161933</td>\n",
       "      <td>-0.081508</td>\n",
       "      <td>1.000000</td>\n",
       "      <td>0.087863</td>\n",
       "      <td>-0.077399</td>\n",
       "      <td>-0.077372</td>\n",
       "      <td>0.113661</td>\n",
       "      <td>-0.097862</td>\n",
       "      <td>-0.010982</td>\n",
       "      <td>0.148612</td>\n",
       "    </tr>\n",
       "    <tr>\n",
       "      <th>thalachh</th>\n",
       "      <td>-0.398052</td>\n",
       "      <td>-0.039868</td>\n",
       "      <td>0.324013</td>\n",
       "      <td>-0.040407</td>\n",
       "      <td>-0.046766</td>\n",
       "      <td>-0.014273</td>\n",
       "      <td>0.087863</td>\n",
       "      <td>1.000000</td>\n",
       "      <td>-0.400860</td>\n",
       "      <td>-0.433241</td>\n",
       "      <td>0.436968</td>\n",
       "      <td>-0.257347</td>\n",
       "      <td>-0.160581</td>\n",
       "      <td>0.428370</td>\n",
       "    </tr>\n",
       "    <tr>\n",
       "      <th>exng</th>\n",
       "      <td>0.089679</td>\n",
       "      <td>0.141664</td>\n",
       "      <td>-0.418256</td>\n",
       "      <td>0.052918</td>\n",
       "      <td>0.091514</td>\n",
       "      <td>0.025665</td>\n",
       "      <td>-0.077399</td>\n",
       "      <td>-0.400860</td>\n",
       "      <td>1.000000</td>\n",
       "      <td>0.297173</td>\n",
       "      <td>-0.274475</td>\n",
       "      <td>0.162025</td>\n",
       "      <td>0.247113</td>\n",
       "      <td>-0.436757</td>\n",
       "    </tr>\n",
       "    <tr>\n",
       "      <th>oldpeak</th>\n",
       "      <td>0.268291</td>\n",
       "      <td>0.100715</td>\n",
       "      <td>-0.161449</td>\n",
       "      <td>0.154267</td>\n",
       "      <td>0.045260</td>\n",
       "      <td>0.028363</td>\n",
       "      <td>-0.077372</td>\n",
       "      <td>-0.433241</td>\n",
       "      <td>0.297173</td>\n",
       "      <td>1.000000</td>\n",
       "      <td>-0.594847</td>\n",
       "      <td>0.224895</td>\n",
       "      <td>0.255026</td>\n",
       "      <td>-0.421487</td>\n",
       "    </tr>\n",
       "    <tr>\n",
       "      <th>slp</th>\n",
       "      <td>-0.184048</td>\n",
       "      <td>-0.025010</td>\n",
       "      <td>0.159478</td>\n",
       "      <td>-0.086570</td>\n",
       "      <td>-0.012551</td>\n",
       "      <td>-0.045786</td>\n",
       "      <td>0.113661</td>\n",
       "      <td>0.436968</td>\n",
       "      <td>-0.274475</td>\n",
       "      <td>-0.594847</td>\n",
       "      <td>1.000000</td>\n",
       "      <td>-0.099901</td>\n",
       "      <td>-0.154886</td>\n",
       "      <td>0.371460</td>\n",
       "    </tr>\n",
       "    <tr>\n",
       "      <th>caa</th>\n",
       "      <td>0.340955</td>\n",
       "      <td>0.119368</td>\n",
       "      <td>-0.216006</td>\n",
       "      <td>0.090140</td>\n",
       "      <td>0.111981</td>\n",
       "      <td>0.134513</td>\n",
       "      <td>-0.097862</td>\n",
       "      <td>-0.257347</td>\n",
       "      <td>0.162025</td>\n",
       "      <td>0.224895</td>\n",
       "      <td>-0.099901</td>\n",
       "      <td>1.000000</td>\n",
       "      <td>0.189103</td>\n",
       "      <td>-0.457607</td>\n",
       "    </tr>\n",
       "    <tr>\n",
       "      <th>thall</th>\n",
       "      <td>0.087254</td>\n",
       "      <td>0.250821</td>\n",
       "      <td>-0.207840</td>\n",
       "      <td>0.059673</td>\n",
       "      <td>0.083628</td>\n",
       "      <td>-0.006737</td>\n",
       "      <td>-0.010982</td>\n",
       "      <td>-0.160581</td>\n",
       "      <td>0.247113</td>\n",
       "      <td>0.255026</td>\n",
       "      <td>-0.154886</td>\n",
       "      <td>0.189103</td>\n",
       "      <td>1.000000</td>\n",
       "      <td>-0.403299</td>\n",
       "    </tr>\n",
       "    <tr>\n",
       "      <th>output</th>\n",
       "      <td>-0.238400</td>\n",
       "      <td>-0.280937</td>\n",
       "      <td>0.460860</td>\n",
       "      <td>-0.121593</td>\n",
       "      <td>-0.120888</td>\n",
       "      <td>-0.028046</td>\n",
       "      <td>0.148612</td>\n",
       "      <td>0.428370</td>\n",
       "      <td>-0.436757</td>\n",
       "      <td>-0.421487</td>\n",
       "      <td>0.371460</td>\n",
       "      <td>-0.457607</td>\n",
       "      <td>-0.403299</td>\n",
       "      <td>1.000000</td>\n",
       "    </tr>\n",
       "  </tbody>\n",
       "</table>\n",
       "</div>"
      ],
      "text/plain": [
       "               age       sex        cp    trtbps      chol       fbs  \\\n",
       "age       1.000000 -0.099131 -0.087494  0.285617  0.195786  0.113978   \n",
       "sex      -0.099131  1.000000 -0.062041 -0.052941 -0.151342  0.045032   \n",
       "cp       -0.087494 -0.062041  1.000000  0.035413 -0.091721  0.089775   \n",
       "trtbps    0.285617 -0.052941  0.035413  1.000000  0.126562  0.151984   \n",
       "chol      0.195786 -0.151342 -0.091721  0.126562  1.000000  0.018463   \n",
       "fbs       0.113978  0.045032  0.089775  0.151984  0.018463  1.000000   \n",
       "restecg  -0.132769 -0.048389  0.065640 -0.125841 -0.161933 -0.081508   \n",
       "thalachh -0.398052 -0.039868  0.324013 -0.040407 -0.046766 -0.014273   \n",
       "exng      0.089679  0.141664 -0.418256  0.052918  0.091514  0.025665   \n",
       "oldpeak   0.268291  0.100715 -0.161449  0.154267  0.045260  0.028363   \n",
       "slp      -0.184048 -0.025010  0.159478 -0.086570 -0.012551 -0.045786   \n",
       "caa       0.340955  0.119368 -0.216006  0.090140  0.111981  0.134513   \n",
       "thall     0.087254  0.250821 -0.207840  0.059673  0.083628 -0.006737   \n",
       "output   -0.238400 -0.280937  0.460860 -0.121593 -0.120888 -0.028046   \n",
       "\n",
       "           restecg  thalachh      exng   oldpeak       slp       caa  \\\n",
       "age      -0.132769 -0.398052  0.089679  0.268291 -0.184048  0.340955   \n",
       "sex      -0.048389 -0.039868  0.141664  0.100715 -0.025010  0.119368   \n",
       "cp        0.065640  0.324013 -0.418256 -0.161449  0.159478 -0.216006   \n",
       "trtbps   -0.125841 -0.040407  0.052918  0.154267 -0.086570  0.090140   \n",
       "chol     -0.161933 -0.046766  0.091514  0.045260 -0.012551  0.111981   \n",
       "fbs      -0.081508 -0.014273  0.025665  0.028363 -0.045786  0.134513   \n",
       "restecg   1.000000  0.087863 -0.077399 -0.077372  0.113661 -0.097862   \n",
       "thalachh  0.087863  1.000000 -0.400860 -0.433241  0.436968 -0.257347   \n",
       "exng     -0.077399 -0.400860  1.000000  0.297173 -0.274475  0.162025   \n",
       "oldpeak  -0.077372 -0.433241  0.297173  1.000000 -0.594847  0.224895   \n",
       "slp       0.113661  0.436968 -0.274475 -0.594847  1.000000 -0.099901   \n",
       "caa      -0.097862 -0.257347  0.162025  0.224895 -0.099901  1.000000   \n",
       "thall    -0.010982 -0.160581  0.247113  0.255026 -0.154886  0.189103   \n",
       "output    0.148612  0.428370 -0.436757 -0.421487  0.371460 -0.457607   \n",
       "\n",
       "             thall    output  \n",
       "age       0.087254 -0.238400  \n",
       "sex       0.250821 -0.280937  \n",
       "cp       -0.207840  0.460860  \n",
       "trtbps    0.059673 -0.121593  \n",
       "chol      0.083628 -0.120888  \n",
       "fbs      -0.006737 -0.028046  \n",
       "restecg  -0.010982  0.148612  \n",
       "thalachh -0.160581  0.428370  \n",
       "exng      0.247113 -0.436757  \n",
       "oldpeak   0.255026 -0.421487  \n",
       "slp      -0.154886  0.371460  \n",
       "caa       0.189103 -0.457607  \n",
       "thall     1.000000 -0.403299  \n",
       "output   -0.403299  1.000000  "
      ]
     },
     "execution_count": 87,
     "metadata": {},
     "output_type": "execute_result"
    }
   ],
   "source": [
    "# creation of the correlation matrix for all variables\n",
    "corr_matrix_ = data_scale.corr(method='spearman')\n",
    "corr_matrix_"
   ]
  },
  {
   "cell_type": "code",
   "execution_count": 88,
   "metadata": {},
   "outputs": [
    {
     "data": {
      "image/png": "[encoded data removed]",
      "text/plain": [
       "<Figure size 1080x720 with 2 Axes>"
      ]
     },
     "metadata": {
      "needs_background": "light"
     },
     "output_type": "display_data"
    }
   ],
   "source": [
    "# heatmap of the variables\n",
    "plt.figure(figsize=(15, 10))\n",
    "sn.heatmap(corr_matrix_.iloc[:15,:15], annot=True)\n",
    "plt.show()"
   ]
  },
  {
   "cell_type": "markdown",
   "metadata": {},
   "source": [
    "Values closer to 1 mean that the variables are more correlated to one another, comparing to values closer to -1.\n",
    "\n",
    "The more correlated variables to our target variable (output) are cp, thalachh and slp; the less correlated variables are caa, exng, oldpeak and thall."
   ]
  },
  {
   "cell_type": "code",
   "execution_count": 89,
   "metadata": {
    "colab": {
     "base_uri": "https://localhost:8080/",
     "height": 332
    },
    "id": "TDNrrKiIzGam",
    "outputId": "28f9b248-2bd6-4cd2-a3c3-e6e9623d1091",
    "pycharm": {
     "name": "#%%\n"
    }
   },
   "outputs": [
    {
     "data": {
      "text/html": [
       "<div>\n",
       "<style scoped>\n",
       "    .dataframe tbody tr th:only-of-type {\n",
       "        vertical-align: middle;\n",
       "    }\n",
       "\n",
       "    .dataframe tbody tr th {\n",
       "        vertical-align: top;\n",
       "    }\n",
       "\n",
       "    .dataframe thead th {\n",
       "        text-align: right;\n",
       "    }\n",
       "</style>\n",
       "<table border=\"1\" class=\"dataframe\">\n",
       "  <thead>\n",
       "    <tr style=\"text-align: right;\">\n",
       "      <th></th>\n",
       "      <th>sex</th>\n",
       "      <th>cp</th>\n",
       "      <th>fbs</th>\n",
       "      <th>restecg</th>\n",
       "      <th>exng</th>\n",
       "      <th>slp</th>\n",
       "      <th>caa</th>\n",
       "      <th>thall</th>\n",
       "    </tr>\n",
       "  </thead>\n",
       "  <tbody>\n",
       "    <tr>\n",
       "      <th>sex</th>\n",
       "      <td>1.000000</td>\n",
       "      <td>-0.062041</td>\n",
       "      <td>0.045032</td>\n",
       "      <td>-0.048389</td>\n",
       "      <td>0.141664</td>\n",
       "      <td>-0.025010</td>\n",
       "      <td>0.119368</td>\n",
       "      <td>0.250821</td>\n",
       "    </tr>\n",
       "    <tr>\n",
       "      <th>cp</th>\n",
       "      <td>-0.062041</td>\n",
       "      <td>1.000000</td>\n",
       "      <td>0.089775</td>\n",
       "      <td>0.065640</td>\n",
       "      <td>-0.418256</td>\n",
       "      <td>0.159478</td>\n",
       "      <td>-0.216006</td>\n",
       "      <td>-0.207840</td>\n",
       "    </tr>\n",
       "    <tr>\n",
       "      <th>fbs</th>\n",
       "      <td>0.045032</td>\n",
       "      <td>0.089775</td>\n",
       "      <td>1.000000</td>\n",
       "      <td>-0.081508</td>\n",
       "      <td>0.025665</td>\n",
       "      <td>-0.045786</td>\n",
       "      <td>0.134513</td>\n",
       "      <td>-0.006737</td>\n",
       "    </tr>\n",
       "    <tr>\n",
       "      <th>restecg</th>\n",
       "      <td>-0.048389</td>\n",
       "      <td>0.065640</td>\n",
       "      <td>-0.081508</td>\n",
       "      <td>1.000000</td>\n",
       "      <td>-0.077399</td>\n",
       "      <td>0.113661</td>\n",
       "      <td>-0.097862</td>\n",
       "      <td>-0.010982</td>\n",
       "    </tr>\n",
       "    <tr>\n",
       "      <th>exng</th>\n",
       "      <td>0.141664</td>\n",
       "      <td>-0.418256</td>\n",
       "      <td>0.025665</td>\n",
       "      <td>-0.077399</td>\n",
       "      <td>1.000000</td>\n",
       "      <td>-0.274475</td>\n",
       "      <td>0.162025</td>\n",
       "      <td>0.247113</td>\n",
       "    </tr>\n",
       "    <tr>\n",
       "      <th>slp</th>\n",
       "      <td>-0.025010</td>\n",
       "      <td>0.159478</td>\n",
       "      <td>-0.045786</td>\n",
       "      <td>0.113661</td>\n",
       "      <td>-0.274475</td>\n",
       "      <td>1.000000</td>\n",
       "      <td>-0.099901</td>\n",
       "      <td>-0.154886</td>\n",
       "    </tr>\n",
       "    <tr>\n",
       "      <th>caa</th>\n",
       "      <td>0.119368</td>\n",
       "      <td>-0.216006</td>\n",
       "      <td>0.134513</td>\n",
       "      <td>-0.097862</td>\n",
       "      <td>0.162025</td>\n",
       "      <td>-0.099901</td>\n",
       "      <td>1.000000</td>\n",
       "      <td>0.189103</td>\n",
       "    </tr>\n",
       "    <tr>\n",
       "      <th>thall</th>\n",
       "      <td>0.250821</td>\n",
       "      <td>-0.207840</td>\n",
       "      <td>-0.006737</td>\n",
       "      <td>-0.010982</td>\n",
       "      <td>0.247113</td>\n",
       "      <td>-0.154886</td>\n",
       "      <td>0.189103</td>\n",
       "      <td>1.000000</td>\n",
       "    </tr>\n",
       "  </tbody>\n",
       "</table>\n",
       "</div>"
      ],
      "text/plain": [
       "              sex        cp       fbs   restecg      exng       slp       caa  \\\n",
       "sex      1.000000 -0.062041  0.045032 -0.048389  0.141664 -0.025010  0.119368   \n",
       "cp      -0.062041  1.000000  0.089775  0.065640 -0.418256  0.159478 -0.216006   \n",
       "fbs      0.045032  0.089775  1.000000 -0.081508  0.025665 -0.045786  0.134513   \n",
       "restecg -0.048389  0.065640 -0.081508  1.000000 -0.077399  0.113661 -0.097862   \n",
       "exng     0.141664 -0.418256  0.025665 -0.077399  1.000000 -0.274475  0.162025   \n",
       "slp     -0.025010  0.159478 -0.045786  0.113661 -0.274475  1.000000 -0.099901   \n",
       "caa      0.119368 -0.216006  0.134513 -0.097862  0.162025 -0.099901  1.000000   \n",
       "thall    0.250821 -0.207840 -0.006737 -0.010982  0.247113 -0.154886  0.189103   \n",
       "\n",
       "            thall  \n",
       "sex      0.250821  \n",
       "cp      -0.207840  \n",
       "fbs     -0.006737  \n",
       "restecg -0.010982  \n",
       "exng     0.247113  \n",
       "slp     -0.154886  \n",
       "caa      0.189103  \n",
       "thall    1.000000  "
      ]
     },
     "execution_count": 89,
     "metadata": {},
     "output_type": "execute_result"
    }
   ],
   "source": [
    "# creation of the correlation matrix only for categorical variables\n",
    "corr_matrix = data_categorical.corr(method='spearman')\n",
    "corr_matrix"
   ]
  },
  {
   "cell_type": "code",
   "execution_count": 90,
   "metadata": {
    "colab": {
     "base_uri": "https://localhost:8080/",
     "height": 313
    },
    "id": "dnv0bPrT0LW-",
    "outputId": "6eeb0ae2-ae25-451c-8ae5-adb5d81601aa",
    "pycharm": {
     "name": "#%%\n"
    }
   },
   "outputs": [
    {
     "data": {
      "image/png": "[encoded data removed]",
      "text/plain": [
       "<Figure size 1080x720 with 2 Axes>"
      ]
     },
     "metadata": {
      "needs_background": "light"
     },
     "output_type": "display_data"
    }
   ],
   "source": [
    "# heatmap of the categorical variables\n",
    "plt.figure(figsize=(15, 10))\n",
    "sn.heatmap(corr_matrix.iloc[:15,:15], annot=True)\n",
    "plt.show()"
   ]
  },
  {
   "cell_type": "markdown",
   "metadata": {
    "id": "AKTIClT_OC-z",
    "pycharm": {
     "name": "#%% md\n"
    }
   },
   "source": [
    "The more correlated categorical variables to our target variable (output) are cp and slp; the less correlated variables are caa, exng, thall and sex."
   ]
  },
  {
   "cell_type": "markdown",
   "metadata": {},
   "source": [
    "As this dataset is a classification problem (supervised learning), we decided not to do the clustering and PCA analysis, since those techniques are used in unsupervised learning. Additionally, our dataset is too small to perform these types of analysis."
   ]
  },
  {
   "cell_type": "markdown",
   "metadata": {
    "id": "mek8jlkXMZB0",
    "pycharm": {
     "name": "#%% md\n"
    }
   },
   "source": [
    "# Supervised learning"
   ]
  },
  {
   "cell_type": "code",
   "execution_count": 170,
   "metadata": {
    "id": "4b-7r79EMcI8",
    "pycharm": {
     "name": "#%%\n"
    }
   },
   "outputs": [],
   "source": [
    "# imports\n",
    "from sklearn.model_selection import train_test_split, cross_val_score, LeaveOneOut, GridSearchCV, RandomizedSearchCV, StratifiedKFold\n",
    "from sklearn.preprocessing import StandardScaler\n",
    "from sklearn.svm import SVC\n",
    "from sklearn.linear_model import LogisticRegression\n",
    "from sklearn.metrics import accuracy_score, classification_report, log_loss, hinge_loss, confusion_matrix\n",
    "from sklearn.neighbors import KNeighborsClassifier\n",
    "from sklearn.ensemble import BaggingClassifier, RandomForestClassifier, VotingClassifier\n",
    "from sklearn.tree import DecisionTreeClassifier\n",
    "from sklearn.naive_bayes import GaussianNB\n",
    "from sklearn.feature_selection import VarianceThreshold, SelectKBest, chi2, f_classif, SelectPercentile\n",
    "\n",
    "import matplotlib.pyplot as plt"
   ]
  },
  {
   "cell_type": "markdown",
   "metadata": {},
   "source": [
    "## Model Fitting\n",
    "- Support Vector Machine\n",
    "- Logistic Regression\n",
    "- K-Nearest Neighbors"
   ]
  },
  {
   "cell_type": "code",
   "execution_count": 92,
   "metadata": {
    "id": "HEZOCxSYaSlB",
    "pycharm": {
     "name": "#%%\n"
    }
   },
   "outputs": [
    {
     "data": {
      "text/plain": [
       "(303, 14)"
      ]
     },
     "execution_count": 92,
     "metadata": {},
     "output_type": "execute_result"
    }
   ],
   "source": [
    "# check the shape of the dataset\n",
    "data_scale.shape"
   ]
  },
  {
   "cell_type": "code",
   "execution_count": 93,
   "metadata": {},
   "outputs": [
    {
     "data": {
      "text/html": [
       "<div>\n",
       "<style scoped>\n",
       "    .dataframe tbody tr th:only-of-type {\n",
       "        vertical-align: middle;\n",
       "    }\n",
       "\n",
       "    .dataframe tbody tr th {\n",
       "        vertical-align: top;\n",
       "    }\n",
       "\n",
       "    .dataframe thead th {\n",
       "        text-align: right;\n",
       "    }\n",
       "</style>\n",
       "<table border=\"1\" class=\"dataframe\">\n",
       "  <thead>\n",
       "    <tr style=\"text-align: right;\">\n",
       "      <th></th>\n",
       "      <th>age</th>\n",
       "      <th>sex</th>\n",
       "      <th>cp</th>\n",
       "      <th>trtbps</th>\n",
       "      <th>chol</th>\n",
       "      <th>fbs</th>\n",
       "      <th>restecg</th>\n",
       "      <th>thalachh</th>\n",
       "      <th>exng</th>\n",
       "      <th>oldpeak</th>\n",
       "      <th>slp</th>\n",
       "      <th>caa</th>\n",
       "      <th>thall</th>\n",
       "      <th>output</th>\n",
       "    </tr>\n",
       "  </thead>\n",
       "  <tbody>\n",
       "    <tr>\n",
       "      <th>0</th>\n",
       "      <td>63</td>\n",
       "      <td>1</td>\n",
       "      <td>3</td>\n",
       "      <td>145</td>\n",
       "      <td>233</td>\n",
       "      <td>1</td>\n",
       "      <td>0</td>\n",
       "      <td>150</td>\n",
       "      <td>0</td>\n",
       "      <td>2.3</td>\n",
       "      <td>0</td>\n",
       "      <td>0</td>\n",
       "      <td>1</td>\n",
       "      <td>1</td>\n",
       "    </tr>\n",
       "    <tr>\n",
       "      <th>1</th>\n",
       "      <td>37</td>\n",
       "      <td>1</td>\n",
       "      <td>2</td>\n",
       "      <td>130</td>\n",
       "      <td>250</td>\n",
       "      <td>0</td>\n",
       "      <td>1</td>\n",
       "      <td>187</td>\n",
       "      <td>0</td>\n",
       "      <td>3.5</td>\n",
       "      <td>0</td>\n",
       "      <td>0</td>\n",
       "      <td>2</td>\n",
       "      <td>1</td>\n",
       "    </tr>\n",
       "    <tr>\n",
       "      <th>2</th>\n",
       "      <td>41</td>\n",
       "      <td>0</td>\n",
       "      <td>1</td>\n",
       "      <td>130</td>\n",
       "      <td>204</td>\n",
       "      <td>0</td>\n",
       "      <td>0</td>\n",
       "      <td>172</td>\n",
       "      <td>0</td>\n",
       "      <td>1.4</td>\n",
       "      <td>2</td>\n",
       "      <td>0</td>\n",
       "      <td>2</td>\n",
       "      <td>1</td>\n",
       "    </tr>\n",
       "    <tr>\n",
       "      <th>3</th>\n",
       "      <td>56</td>\n",
       "      <td>1</td>\n",
       "      <td>1</td>\n",
       "      <td>120</td>\n",
       "      <td>236</td>\n",
       "      <td>0</td>\n",
       "      <td>1</td>\n",
       "      <td>178</td>\n",
       "      <td>0</td>\n",
       "      <td>0.8</td>\n",
       "      <td>2</td>\n",
       "      <td>0</td>\n",
       "      <td>2</td>\n",
       "      <td>1</td>\n",
       "    </tr>\n",
       "    <tr>\n",
       "      <th>4</th>\n",
       "      <td>57</td>\n",
       "      <td>0</td>\n",
       "      <td>0</td>\n",
       "      <td>120</td>\n",
       "      <td>354</td>\n",
       "      <td>0</td>\n",
       "      <td>1</td>\n",
       "      <td>163</td>\n",
       "      <td>1</td>\n",
       "      <td>0.6</td>\n",
       "      <td>2</td>\n",
       "      <td>0</td>\n",
       "      <td>2</td>\n",
       "      <td>1</td>\n",
       "    </tr>\n",
       "  </tbody>\n",
       "</table>\n",
       "</div>"
      ],
      "text/plain": [
       "   age  sex  cp  trtbps  chol  fbs  restecg  thalachh  exng  oldpeak  slp  \\\n",
       "0   63    1   3     145   233    1        0       150     0      2.3    0   \n",
       "1   37    1   2     130   250    0        1       187     0      3.5    0   \n",
       "2   41    0   1     130   204    0        0       172     0      1.4    2   \n",
       "3   56    1   1     120   236    0        1       178     0      0.8    2   \n",
       "4   57    0   0     120   354    0        1       163     1      0.6    2   \n",
       "\n",
       "   caa  thall  output  \n",
       "0    0      1       1  \n",
       "1    0      2       1  \n",
       "2    0      2       1  \n",
       "3    0      2       1  \n",
       "4    0      2       1  "
      ]
     },
     "execution_count": 93,
     "metadata": {},
     "output_type": "execute_result"
    }
   ],
   "source": [
    "# copy data to create a dataset to get the dummy variables - we can't do the LR on continuous variables, so we need to convert a categorical variable,\n",
    "# which can take on multiple levels or categories, into multiple binary variables, each of which represents a single level or category of the original\n",
    "# variable.\n",
    "dummy_data = data.copy()\n",
    "dummy_data.head()"
   ]
  },
  {
   "cell_type": "code",
   "execution_count": 94,
   "metadata": {},
   "outputs": [
    {
     "data": {
      "text/plain": [
       "['sex', 'cp', 'fbs', 'restecg', 'exng', 'slp', 'caa']"
      ]
     },
     "execution_count": 94,
     "metadata": {},
     "output_type": "execute_result"
    }
   ],
   "source": [
    "# get the list of categorical variables without the target (label)\n",
    "categorical_var[:-1]"
   ]
  },
  {
   "cell_type": "code",
   "execution_count": 95,
   "metadata": {},
   "outputs": [
    {
     "data": {
      "text/html": [
       "<div>\n",
       "<style scoped>\n",
       "    .dataframe tbody tr th:only-of-type {\n",
       "        vertical-align: middle;\n",
       "    }\n",
       "\n",
       "    .dataframe tbody tr th {\n",
       "        vertical-align: top;\n",
       "    }\n",
       "\n",
       "    .dataframe thead th {\n",
       "        text-align: right;\n",
       "    }\n",
       "</style>\n",
       "<table border=\"1\" class=\"dataframe\">\n",
       "  <thead>\n",
       "    <tr style=\"text-align: right;\">\n",
       "      <th></th>\n",
       "      <th>age</th>\n",
       "      <th>trtbps</th>\n",
       "      <th>chol</th>\n",
       "      <th>thalachh</th>\n",
       "      <th>oldpeak</th>\n",
       "      <th>thall</th>\n",
       "      <th>output</th>\n",
       "      <th>sex_1</th>\n",
       "      <th>cp_1</th>\n",
       "      <th>cp_2</th>\n",
       "      <th>...</th>\n",
       "      <th>fbs_1</th>\n",
       "      <th>restecg_1</th>\n",
       "      <th>restecg_2</th>\n",
       "      <th>exng_1</th>\n",
       "      <th>slp_1</th>\n",
       "      <th>slp_2</th>\n",
       "      <th>caa_1</th>\n",
       "      <th>caa_2</th>\n",
       "      <th>caa_3</th>\n",
       "      <th>caa_4</th>\n",
       "    </tr>\n",
       "  </thead>\n",
       "  <tbody>\n",
       "    <tr>\n",
       "      <th>0</th>\n",
       "      <td>63</td>\n",
       "      <td>145</td>\n",
       "      <td>233</td>\n",
       "      <td>150</td>\n",
       "      <td>2.3</td>\n",
       "      <td>1</td>\n",
       "      <td>1</td>\n",
       "      <td>1</td>\n",
       "      <td>0</td>\n",
       "      <td>0</td>\n",
       "      <td>...</td>\n",
       "      <td>1</td>\n",
       "      <td>0</td>\n",
       "      <td>0</td>\n",
       "      <td>0</td>\n",
       "      <td>0</td>\n",
       "      <td>0</td>\n",
       "      <td>0</td>\n",
       "      <td>0</td>\n",
       "      <td>0</td>\n",
       "      <td>0</td>\n",
       "    </tr>\n",
       "    <tr>\n",
       "      <th>1</th>\n",
       "      <td>37</td>\n",
       "      <td>130</td>\n",
       "      <td>250</td>\n",
       "      <td>187</td>\n",
       "      <td>3.5</td>\n",
       "      <td>2</td>\n",
       "      <td>1</td>\n",
       "      <td>1</td>\n",
       "      <td>0</td>\n",
       "      <td>1</td>\n",
       "      <td>...</td>\n",
       "      <td>0</td>\n",
       "      <td>1</td>\n",
       "      <td>0</td>\n",
       "      <td>0</td>\n",
       "      <td>0</td>\n",
       "      <td>0</td>\n",
       "      <td>0</td>\n",
       "      <td>0</td>\n",
       "      <td>0</td>\n",
       "      <td>0</td>\n",
       "    </tr>\n",
       "    <tr>\n",
       "      <th>2</th>\n",
       "      <td>41</td>\n",
       "      <td>130</td>\n",
       "      <td>204</td>\n",
       "      <td>172</td>\n",
       "      <td>1.4</td>\n",
       "      <td>2</td>\n",
       "      <td>1</td>\n",
       "      <td>0</td>\n",
       "      <td>1</td>\n",
       "      <td>0</td>\n",
       "      <td>...</td>\n",
       "      <td>0</td>\n",
       "      <td>0</td>\n",
       "      <td>0</td>\n",
       "      <td>0</td>\n",
       "      <td>0</td>\n",
       "      <td>1</td>\n",
       "      <td>0</td>\n",
       "      <td>0</td>\n",
       "      <td>0</td>\n",
       "      <td>0</td>\n",
       "    </tr>\n",
       "    <tr>\n",
       "      <th>3</th>\n",
       "      <td>56</td>\n",
       "      <td>120</td>\n",
       "      <td>236</td>\n",
       "      <td>178</td>\n",
       "      <td>0.8</td>\n",
       "      <td>2</td>\n",
       "      <td>1</td>\n",
       "      <td>1</td>\n",
       "      <td>1</td>\n",
       "      <td>0</td>\n",
       "      <td>...</td>\n",
       "      <td>0</td>\n",
       "      <td>1</td>\n",
       "      <td>0</td>\n",
       "      <td>0</td>\n",
       "      <td>0</td>\n",
       "      <td>1</td>\n",
       "      <td>0</td>\n",
       "      <td>0</td>\n",
       "      <td>0</td>\n",
       "      <td>0</td>\n",
       "    </tr>\n",
       "    <tr>\n",
       "      <th>4</th>\n",
       "      <td>57</td>\n",
       "      <td>120</td>\n",
       "      <td>354</td>\n",
       "      <td>163</td>\n",
       "      <td>0.6</td>\n",
       "      <td>2</td>\n",
       "      <td>1</td>\n",
       "      <td>0</td>\n",
       "      <td>0</td>\n",
       "      <td>0</td>\n",
       "      <td>...</td>\n",
       "      <td>0</td>\n",
       "      <td>1</td>\n",
       "      <td>0</td>\n",
       "      <td>1</td>\n",
       "      <td>0</td>\n",
       "      <td>1</td>\n",
       "      <td>0</td>\n",
       "      <td>0</td>\n",
       "      <td>0</td>\n",
       "      <td>0</td>\n",
       "    </tr>\n",
       "    <tr>\n",
       "      <th>...</th>\n",
       "      <td>...</td>\n",
       "      <td>...</td>\n",
       "      <td>...</td>\n",
       "      <td>...</td>\n",
       "      <td>...</td>\n",
       "      <td>...</td>\n",
       "      <td>...</td>\n",
       "      <td>...</td>\n",
       "      <td>...</td>\n",
       "      <td>...</td>\n",
       "      <td>...</td>\n",
       "      <td>...</td>\n",
       "      <td>...</td>\n",
       "      <td>...</td>\n",
       "      <td>...</td>\n",
       "      <td>...</td>\n",
       "      <td>...</td>\n",
       "      <td>...</td>\n",
       "      <td>...</td>\n",
       "      <td>...</td>\n",
       "      <td>...</td>\n",
       "    </tr>\n",
       "    <tr>\n",
       "      <th>298</th>\n",
       "      <td>57</td>\n",
       "      <td>140</td>\n",
       "      <td>241</td>\n",
       "      <td>123</td>\n",
       "      <td>0.2</td>\n",
       "      <td>3</td>\n",
       "      <td>0</td>\n",
       "      <td>0</td>\n",
       "      <td>0</td>\n",
       "      <td>0</td>\n",
       "      <td>...</td>\n",
       "      <td>0</td>\n",
       "      <td>1</td>\n",
       "      <td>0</td>\n",
       "      <td>1</td>\n",
       "      <td>1</td>\n",
       "      <td>0</td>\n",
       "      <td>0</td>\n",
       "      <td>0</td>\n",
       "      <td>0</td>\n",
       "      <td>0</td>\n",
       "    </tr>\n",
       "    <tr>\n",
       "      <th>299</th>\n",
       "      <td>45</td>\n",
       "      <td>110</td>\n",
       "      <td>264</td>\n",
       "      <td>132</td>\n",
       "      <td>1.2</td>\n",
       "      <td>3</td>\n",
       "      <td>0</td>\n",
       "      <td>1</td>\n",
       "      <td>0</td>\n",
       "      <td>0</td>\n",
       "      <td>...</td>\n",
       "      <td>0</td>\n",
       "      <td>1</td>\n",
       "      <td>0</td>\n",
       "      <td>0</td>\n",
       "      <td>1</td>\n",
       "      <td>0</td>\n",
       "      <td>0</td>\n",
       "      <td>0</td>\n",
       "      <td>0</td>\n",
       "      <td>0</td>\n",
       "    </tr>\n",
       "    <tr>\n",
       "      <th>300</th>\n",
       "      <td>68</td>\n",
       "      <td>144</td>\n",
       "      <td>193</td>\n",
       "      <td>141</td>\n",
       "      <td>3.4</td>\n",
       "      <td>3</td>\n",
       "      <td>0</td>\n",
       "      <td>1</td>\n",
       "      <td>0</td>\n",
       "      <td>0</td>\n",
       "      <td>...</td>\n",
       "      <td>1</td>\n",
       "      <td>1</td>\n",
       "      <td>0</td>\n",
       "      <td>0</td>\n",
       "      <td>1</td>\n",
       "      <td>0</td>\n",
       "      <td>0</td>\n",
       "      <td>1</td>\n",
       "      <td>0</td>\n",
       "      <td>0</td>\n",
       "    </tr>\n",
       "    <tr>\n",
       "      <th>301</th>\n",
       "      <td>57</td>\n",
       "      <td>130</td>\n",
       "      <td>131</td>\n",
       "      <td>115</td>\n",
       "      <td>1.2</td>\n",
       "      <td>3</td>\n",
       "      <td>0</td>\n",
       "      <td>1</td>\n",
       "      <td>0</td>\n",
       "      <td>0</td>\n",
       "      <td>...</td>\n",
       "      <td>0</td>\n",
       "      <td>1</td>\n",
       "      <td>0</td>\n",
       "      <td>1</td>\n",
       "      <td>1</td>\n",
       "      <td>0</td>\n",
       "      <td>1</td>\n",
       "      <td>0</td>\n",
       "      <td>0</td>\n",
       "      <td>0</td>\n",
       "    </tr>\n",
       "    <tr>\n",
       "      <th>302</th>\n",
       "      <td>57</td>\n",
       "      <td>130</td>\n",
       "      <td>236</td>\n",
       "      <td>174</td>\n",
       "      <td>0.0</td>\n",
       "      <td>2</td>\n",
       "      <td>0</td>\n",
       "      <td>0</td>\n",
       "      <td>1</td>\n",
       "      <td>0</td>\n",
       "      <td>...</td>\n",
       "      <td>0</td>\n",
       "      <td>0</td>\n",
       "      <td>0</td>\n",
       "      <td>0</td>\n",
       "      <td>1</td>\n",
       "      <td>0</td>\n",
       "      <td>1</td>\n",
       "      <td>0</td>\n",
       "      <td>0</td>\n",
       "      <td>0</td>\n",
       "    </tr>\n",
       "  </tbody>\n",
       "</table>\n",
       "<p>303 rows × 21 columns</p>\n",
       "</div>"
      ],
      "text/plain": [
       "     age  trtbps  chol  thalachh  oldpeak  thall  output  sex_1  cp_1  cp_2  \\\n",
       "0     63     145   233       150      2.3      1       1      1     0     0   \n",
       "1     37     130   250       187      3.5      2       1      1     0     1   \n",
       "2     41     130   204       172      1.4      2       1      0     1     0   \n",
       "3     56     120   236       178      0.8      2       1      1     1     0   \n",
       "4     57     120   354       163      0.6      2       1      0     0     0   \n",
       "..   ...     ...   ...       ...      ...    ...     ...    ...   ...   ...   \n",
       "298   57     140   241       123      0.2      3       0      0     0     0   \n",
       "299   45     110   264       132      1.2      3       0      1     0     0   \n",
       "300   68     144   193       141      3.4      3       0      1     0     0   \n",
       "301   57     130   131       115      1.2      3       0      1     0     0   \n",
       "302   57     130   236       174      0.0      2       0      0     1     0   \n",
       "\n",
       "     ...  fbs_1  restecg_1  restecg_2  exng_1  slp_1  slp_2  caa_1  caa_2  \\\n",
       "0    ...      1          0          0       0      0      0      0      0   \n",
       "1    ...      0          1          0       0      0      0      0      0   \n",
       "2    ...      0          0          0       0      0      1      0      0   \n",
       "3    ...      0          1          0       0      0      1      0      0   \n",
       "4    ...      0          1          0       1      0      1      0      0   \n",
       "..   ...    ...        ...        ...     ...    ...    ...    ...    ...   \n",
       "298  ...      0          1          0       1      1      0      0      0   \n",
       "299  ...      0          1          0       0      1      0      0      0   \n",
       "300  ...      1          1          0       0      1      0      0      1   \n",
       "301  ...      0          1          0       1      1      0      1      0   \n",
       "302  ...      0          0          0       0      1      0      1      0   \n",
       "\n",
       "     caa_3  caa_4  \n",
       "0        0      0  \n",
       "1        0      0  \n",
       "2        0      0  \n",
       "3        0      0  \n",
       "4        0      0  \n",
       "..     ...    ...  \n",
       "298      0      0  \n",
       "299      0      0  \n",
       "300      0      0  \n",
       "301      0      0  \n",
       "302      0      0  \n",
       "\n",
       "[303 rows x 21 columns]"
      ]
     },
     "execution_count": 95,
     "metadata": {},
     "output_type": "execute_result"
    }
   ],
   "source": [
    "# use the dummy variables to do the logistic regression\n",
    "dummy_data = pd.get_dummies(dummy_data, columns=categorical_var[:-1], drop_first=True)\n",
    "dummy_data"
   ]
  },
  {
   "cell_type": "code",
   "execution_count": 96,
   "metadata": {},
   "outputs": [
    {
     "name": "stdout",
     "output_type": "stream",
     "text": [
      "Type:  <class 'pandas.core.frame.DataFrame'>\n"
     ]
    },
    {
     "data": {
      "text/html": [
       "<div>\n",
       "<style scoped>\n",
       "    .dataframe tbody tr th:only-of-type {\n",
       "        vertical-align: middle;\n",
       "    }\n",
       "\n",
       "    .dataframe tbody tr th {\n",
       "        vertical-align: top;\n",
       "    }\n",
       "\n",
       "    .dataframe thead th {\n",
       "        text-align: right;\n",
       "    }\n",
       "</style>\n",
       "<table border=\"1\" class=\"dataframe\">\n",
       "  <thead>\n",
       "    <tr style=\"text-align: right;\">\n",
       "      <th></th>\n",
       "      <th>age</th>\n",
       "      <th>trtbps</th>\n",
       "      <th>chol</th>\n",
       "      <th>thalachh</th>\n",
       "      <th>oldpeak</th>\n",
       "      <th>thall</th>\n",
       "      <th>sex_1</th>\n",
       "      <th>cp_1</th>\n",
       "      <th>cp_2</th>\n",
       "      <th>cp_3</th>\n",
       "      <th>fbs_1</th>\n",
       "      <th>restecg_1</th>\n",
       "      <th>restecg_2</th>\n",
       "      <th>exng_1</th>\n",
       "      <th>slp_1</th>\n",
       "      <th>slp_2</th>\n",
       "      <th>caa_1</th>\n",
       "      <th>caa_2</th>\n",
       "      <th>caa_3</th>\n",
       "      <th>caa_4</th>\n",
       "    </tr>\n",
       "  </thead>\n",
       "  <tbody>\n",
       "    <tr>\n",
       "      <th>0</th>\n",
       "      <td>63</td>\n",
       "      <td>145</td>\n",
       "      <td>233</td>\n",
       "      <td>150</td>\n",
       "      <td>2.3</td>\n",
       "      <td>1</td>\n",
       "      <td>1</td>\n",
       "      <td>0</td>\n",
       "      <td>0</td>\n",
       "      <td>1</td>\n",
       "      <td>1</td>\n",
       "      <td>0</td>\n",
       "      <td>0</td>\n",
       "      <td>0</td>\n",
       "      <td>0</td>\n",
       "      <td>0</td>\n",
       "      <td>0</td>\n",
       "      <td>0</td>\n",
       "      <td>0</td>\n",
       "      <td>0</td>\n",
       "    </tr>\n",
       "    <tr>\n",
       "      <th>1</th>\n",
       "      <td>37</td>\n",
       "      <td>130</td>\n",
       "      <td>250</td>\n",
       "      <td>187</td>\n",
       "      <td>3.5</td>\n",
       "      <td>2</td>\n",
       "      <td>1</td>\n",
       "      <td>0</td>\n",
       "      <td>1</td>\n",
       "      <td>0</td>\n",
       "      <td>0</td>\n",
       "      <td>1</td>\n",
       "      <td>0</td>\n",
       "      <td>0</td>\n",
       "      <td>0</td>\n",
       "      <td>0</td>\n",
       "      <td>0</td>\n",
       "      <td>0</td>\n",
       "      <td>0</td>\n",
       "      <td>0</td>\n",
       "    </tr>\n",
       "    <tr>\n",
       "      <th>2</th>\n",
       "      <td>41</td>\n",
       "      <td>130</td>\n",
       "      <td>204</td>\n",
       "      <td>172</td>\n",
       "      <td>1.4</td>\n",
       "      <td>2</td>\n",
       "      <td>0</td>\n",
       "      <td>1</td>\n",
       "      <td>0</td>\n",
       "      <td>0</td>\n",
       "      <td>0</td>\n",
       "      <td>0</td>\n",
       "      <td>0</td>\n",
       "      <td>0</td>\n",
       "      <td>0</td>\n",
       "      <td>1</td>\n",
       "      <td>0</td>\n",
       "      <td>0</td>\n",
       "      <td>0</td>\n",
       "      <td>0</td>\n",
       "    </tr>\n",
       "    <tr>\n",
       "      <th>3</th>\n",
       "      <td>56</td>\n",
       "      <td>120</td>\n",
       "      <td>236</td>\n",
       "      <td>178</td>\n",
       "      <td>0.8</td>\n",
       "      <td>2</td>\n",
       "      <td>1</td>\n",
       "      <td>1</td>\n",
       "      <td>0</td>\n",
       "      <td>0</td>\n",
       "      <td>0</td>\n",
       "      <td>1</td>\n",
       "      <td>0</td>\n",
       "      <td>0</td>\n",
       "      <td>0</td>\n",
       "      <td>1</td>\n",
       "      <td>0</td>\n",
       "      <td>0</td>\n",
       "      <td>0</td>\n",
       "      <td>0</td>\n",
       "    </tr>\n",
       "    <tr>\n",
       "      <th>4</th>\n",
       "      <td>57</td>\n",
       "      <td>120</td>\n",
       "      <td>354</td>\n",
       "      <td>163</td>\n",
       "      <td>0.6</td>\n",
       "      <td>2</td>\n",
       "      <td>0</td>\n",
       "      <td>0</td>\n",
       "      <td>0</td>\n",
       "      <td>0</td>\n",
       "      <td>0</td>\n",
       "      <td>1</td>\n",
       "      <td>0</td>\n",
       "      <td>1</td>\n",
       "      <td>0</td>\n",
       "      <td>1</td>\n",
       "      <td>0</td>\n",
       "      <td>0</td>\n",
       "      <td>0</td>\n",
       "      <td>0</td>\n",
       "    </tr>\n",
       "  </tbody>\n",
       "</table>\n",
       "</div>"
      ],
      "text/plain": [
       "   age  trtbps  chol  thalachh  oldpeak  thall  sex_1  cp_1  cp_2  cp_3  \\\n",
       "0   63     145   233       150      2.3      1      1     0     0     1   \n",
       "1   37     130   250       187      3.5      2      1     0     1     0   \n",
       "2   41     130   204       172      1.4      2      0     1     0     0   \n",
       "3   56     120   236       178      0.8      2      1     1     0     0   \n",
       "4   57     120   354       163      0.6      2      0     0     0     0   \n",
       "\n",
       "   fbs_1  restecg_1  restecg_2  exng_1  slp_1  slp_2  caa_1  caa_2  caa_3  \\\n",
       "0      1          0          0       0      0      0      0      0      0   \n",
       "1      0          1          0       0      0      0      0      0      0   \n",
       "2      0          0          0       0      0      1      0      0      0   \n",
       "3      0          1          0       0      0      1      0      0      0   \n",
       "4      0          1          0       1      0      1      0      0      0   \n",
       "\n",
       "   caa_4  \n",
       "0      0  \n",
       "1      0  \n",
       "2      0  \n",
       "3      0  \n",
       "4      0  "
      ]
     },
     "execution_count": 96,
     "metadata": {},
     "output_type": "execute_result"
    }
   ],
   "source": [
    "# create a pd dataframe with all variables without the target variable - X\n",
    "X = dummy_data.drop(\"output\", axis=1)\n",
    "print(\"Type: \", type(X))\n",
    "X.head()"
   ]
  },
  {
   "cell_type": "code",
   "execution_count": 97,
   "metadata": {},
   "outputs": [
    {
     "name": "stdout",
     "output_type": "stream",
     "text": [
      "Type:  <class 'pandas.core.series.Series'>\n"
     ]
    },
    {
     "data": {
      "text/plain": [
       "0    1\n",
       "1    1\n",
       "2    1\n",
       "3    1\n",
       "4    1\n",
       "Name: output, dtype: int64"
      ]
     },
     "execution_count": 97,
     "metadata": {},
     "output_type": "execute_result"
    }
   ],
   "source": [
    "# create the label array - y\n",
    "y = dummy_data.output\n",
    "print(\"Type: \", type(y))\n",
    "y.head()"
   ]
  },
  {
   "cell_type": "code",
   "execution_count": 98,
   "metadata": {},
   "outputs": [
    {
     "name": "stdout",
     "output_type": "stream",
     "text": [
      "X_train:\n",
      "  Length:  227 \n",
      "  Shape:  (227, 20)\n",
      "X_test:\n",
      "  Length:  76 \n",
      "  Shape:  (76, 20)\n",
      "y_train:\n",
      "  Length:  227 \n",
      "  Shape:  (227,)\n",
      "y_test:\n",
      "  Length:  76 \n",
      "  Shape:  (76,)\n"
     ]
    }
   ],
   "source": [
    "# split into train and test\n",
    "X_train, X_test, y_train, y_test = train_test_split(X, y, test_size=0.25, random_state=42)\n",
    "\n",
    "# check dimensions\n",
    "print(\"X_train:\\n  Length: \", len(X_train), \"\\n  Shape: \", X_train.shape)\n",
    "print(\"X_test:\\n  Length: \", len(X_test), \"\\n  Shape: \", X_test.shape)\n",
    "print(\"y_train:\\n  Length: \", len(y_train), \"\\n  Shape: \", y_train.shape)\n",
    "print(\"y_test:\\n  Length: \", len(y_test), \"\\n  Shape: \", y_test.shape)"
   ]
  },
  {
   "cell_type": "markdown",
   "metadata": {},
   "source": [
    "Standardization"
   ]
  },
  {
   "cell_type": "code",
   "execution_count": 99,
   "metadata": {},
   "outputs": [],
   "source": [
    "# scale the data\n",
    "scaler = StandardScaler().fit(X_train)\n",
    "standardized_X_train = scaler.transform(X_train)\n",
    "standardized_X_test = scaler.transform(X_test)"
   ]
  },
  {
   "cell_type": "markdown",
   "metadata": {},
   "source": [
    "### Support Vector Machine"
   ]
  },
  {
   "cell_type": "code",
   "execution_count": 211,
   "metadata": {},
   "outputs": [
    {
     "name": "stdout",
     "output_type": "stream",
     "text": [
      "Cross validation scores:  [0.86956522 0.84782609 0.75555556 0.86666667 0.8       ]\n",
      "\n",
      "Scores F1:  [0.63273224 0.63273224 0.66612022 0.74950718 0.68377622]\n",
      "\n",
      "Score of SVM model: 0.84211\n",
      "\n",
      "Accuracy of SVM model: 0.84211\n",
      "\n",
      "Classification report of SVM model:\n",
      "               precision    recall  f1-score   support\n",
      "\n",
      "           0       0.83      0.83      0.83        35\n",
      "           1       0.85      0.85      0.85        41\n",
      "\n",
      "    accuracy                           0.84        76\n",
      "   macro avg       0.84      0.84      0.84        76\n",
      "weighted avg       0.84      0.84      0.84        76\n",
      "\n",
      "\n",
      "Cost of SVM model: 0.61842\n",
      "\n",
      "Confusion matrix: \n",
      " [[29  6]\n",
      " [ 6 35]]\n",
      "------------------------------------\n"
     ]
    }
   ],
   "source": [
    "# create an instance of SVC\n",
    "clf = SVC(kernel='linear')\n",
    "\n",
    "# perform 5 fold cross validation\n",
    "scores = cross_val_score(clf, X_train, y_train, cv=5)\n",
    "print(\"Cross validation scores: \", scores)\n",
    "\n",
    "# cross validation with scoring function F1\n",
    "scores_f1 = cross_val_score(clf, X, y, scoring=\"f1_weighted\", cv=5)\n",
    "print(\"\\nScores F1: \", scores_f1)\n",
    "\n",
    "# cross validation with leave one out\n",
    "# loo_cv = LeaveOneOut()\n",
    "# scores_loo = cross_val_score(clf, X, y, cv=loo_cv)\n",
    "# print(\"Score mean with leave one out :\", scores_loo.mean())\n",
    "\n",
    "# fit the model on the entire train data\n",
    "clf.fit(X_train, y_train)\n",
    "\n",
    "# predict on the test data\n",
    "y_pred = clf.predict(X_test) # predicted labels\n",
    "# print(\"\\nPredicted values: \", y_pred)\n",
    "# print(\"\\nReal values: \", y_test)\n",
    "\n",
    "# calculate score\n",
    "score_svm = clf.score(X_test, y_test)\n",
    "print(f\"\\nScore of SVM model: {score_svm:.5f}\")\n",
    "\n",
    "# calculate accuracy\n",
    "acc = accuracy_score(y_test, y_pred)\n",
    "print(f\"\\nAccuracy of SVM model: {acc:.5f}\")\n",
    "\n",
    "# get classification report\n",
    "print(\"\\nClassification report of SVM model:\\n\", classification_report(y_test, y_pred))\n",
    "\n",
    "# calculate cost - the lower the hinge loss, the better the model\n",
    "svm_cost = hinge_loss(y_test, y_pred)\n",
    "print(f\"\\nCost of SVM model: {svm_cost:.5f}\")\n",
    "\n",
    "# get confusion matrix\n",
    "cm = confusion_matrix(y_test, y_pred)\n",
    "print(\"\\nConfusion matrix: \\n\", cm)\n",
    "\n",
    "print(\"------------------------------------\")"
   ]
  },
  {
   "cell_type": "markdown",
   "metadata": {},
   "source": [
    "### Logistic Regression"
   ]
  },
  {
   "cell_type": "code",
   "execution_count": 210,
   "metadata": {},
   "outputs": [
    {
     "name": "stdout",
     "output_type": "stream",
     "text": [
      "Cross validation scores:  [0.82608696 0.86956522 0.71111111 0.88888889 0.8       ]\n",
      "\n",
      "Scores F1:  [0.63577734 0.65098401 0.73511079 0.76666667 0.70066741]\n",
      "\n",
      "Score of Logistic Regression model: 0.88158\n",
      "\n",
      "Accuracy of Logistic Regression model: 0.88158\n",
      "\n",
      "Classification report of Logistic Regression model:\n",
      "               precision    recall  f1-score   support\n",
      "\n",
      "           0       0.91      0.83      0.87        35\n",
      "           1       0.86      0.93      0.89        41\n",
      "\n",
      "    accuracy                           0.88        76\n",
      "   macro avg       0.88      0.88      0.88        76\n",
      "weighted avg       0.88      0.88      0.88        76\n",
      "\n",
      "\n",
      "Cost of Logistic Regression model: 4.09018\n",
      "\n",
      "Confusion matrix: \n",
      " [[29  6]\n",
      " [ 3 38]]\n",
      "------------------------------------\n"
     ]
    }
   ],
   "source": [
    "# create an instance of LogisticRegression\n",
    "clf = LogisticRegression(random_state=42, max_iter=2900)\n",
    "\n",
    "# perform 5-fold cross validation\n",
    "scores = cross_val_score(clf, X_train, y_train, cv=5)\n",
    "print(\"Cross validation scores: \", scores)\n",
    "\n",
    "# cross validation with scoring function F1\n",
    "scores_f1 = cross_val_score(clf, X, y, scoring=\"f1_weighted\", cv=5)\n",
    "print(\"\\nScores F1: \", scores_f1)\n",
    "\n",
    "# cross validation with leave one out\n",
    "# loo_cv = LeaveOneOut()\n",
    "# scores_loo = cross_val_score(clf, X, y, cv=loo_cv)\n",
    "# print(\"Score mean with leave one out :\", scores_loo.mean())\n",
    "\n",
    "# fit the model on the entire train data\n",
    "clf.fit(X_train, y_train)\n",
    "\n",
    "# predict on the test data\n",
    "y_pred = clf.predict(X_test) # predicted labels\n",
    "# print(\"Predicted values: \", y_pred)\n",
    "# print(\"Real values: \", y_test)\n",
    "\n",
    "# calculate score\n",
    "score_lr = clf.score(X_test, y_test)\n",
    "print(f\"\\nScore of Logistic Regression model: {score_lr:.5f}\")\n",
    "\n",
    "# accuracy\n",
    "acc = accuracy_score(y_test, y_pred)\n",
    "print(f\"\\nAccuracy of Logistic Regression model: {acc:.5f}\")\n",
    "\n",
    "# classification report\n",
    "print(\"\\nClassification report of Logistic Regression model:\\n\", classification_report(y_test, y_pred))\n",
    "\n",
    "# cost - the lower the log loss, the better the model is\n",
    "lr_cost = log_loss(y_test, y_pred)\n",
    "print(f\"\\nCost of Logistic Regression model: {lr_cost:.5f}\")\n",
    "\n",
    "# get confusion matrix\n",
    "cm = confusion_matrix(y_test, y_pred)\n",
    "print(\"\\nConfusion matrix: \\n\", cm)\n",
    "\n",
    "print(\"------------------------------------\")"
   ]
  },
  {
   "cell_type": "markdown",
   "metadata": {},
   "source": [
    "### K-Nearest Neighbors"
   ]
  },
  {
   "cell_type": "code",
   "execution_count": 212,
   "metadata": {},
   "outputs": [
    {
     "name": "stdout",
     "output_type": "stream",
     "text": [
      "Cross validation scores:  [0.63043478 0.73913043 0.55555556 0.55555556 0.71111111]\n",
      "\n",
      "Scores F1:  [0.63796921 0.6177444  0.63796921 0.74950718 0.61591101]\n",
      "\n",
      "Score of KNN model: 0.75000\n",
      "\n",
      "Accuracy of KNN model: 0.75000\n",
      "\n",
      "Classification report of KNN model:\n",
      "               precision    recall  f1-score   support\n",
      "\n",
      "           0       0.77      0.66      0.71        35\n",
      "           1       0.74      0.83      0.78        41\n",
      "\n",
      "    accuracy                           0.75        76\n",
      "   macro avg       0.75      0.74      0.74        76\n",
      "weighted avg       0.75      0.75      0.75        76\n",
      "\n",
      "\n",
      "Cost of KNN model: 8.63482\n",
      "\n",
      "Confusion matrix: \n",
      " [[23 12]\n",
      " [ 7 34]]\n",
      "------------------------------------\n"
     ]
    }
   ],
   "source": [
    "# create an instance of KNeighborsClassifier\n",
    "clf = KNeighborsClassifier(n_neighbors=11)\n",
    "\n",
    "# perform 5-fold cross validation\n",
    "scores = cross_val_score(clf, X_train, y_train, cv=5)\n",
    "print(\"Cross validation scores: \", scores)\n",
    "\n",
    "# cross validation with scoring function F1\n",
    "scores_f1 = cross_val_score(clf, X, y, scoring=\"f1_weighted\", cv=5)\n",
    "print(\"\\nScores F1: \", scores_f1)\n",
    "\n",
    "# cross validation with leave one out\n",
    "# loo_cv = LeaveOneOut()\n",
    "# scores_loo = cross_val_score(clf, X, y, cv=loo_cv)\n",
    "# print(\"Score mean with leave one out :\", scores_loo.mean())\n",
    "\n",
    "# fit the model on the entire train data\n",
    "clf.fit(X_train, y_train)\n",
    "\n",
    "# predict on the test data\n",
    "y_pred = clf.predict(X_test) # predicted labels\n",
    "# print(\"Predicted values: \", y_pred)\n",
    "# print(\"Real values: \", y_test)\n",
    "\n",
    "# calculate score\n",
    "score_knn = clf.score(X_test, y_test)\n",
    "print(f\"\\nScore of KNN model: {score_knn:.5f}\")\n",
    "\n",
    "# accuracy\n",
    "acc = accuracy_score(y_test, y_pred)\n",
    "print(f\"\\nAccuracy of KNN model: {acc:.5f}\")\n",
    "\n",
    "# classification report\n",
    "print(\"\\nClassification report of KNN model:\\n\", classification_report(y_test, y_pred))\n",
    "\n",
    "# cost - the lower the log loss, the better the model is\n",
    "lr_cost = log_loss(y_test, y_pred)\n",
    "print(f\"\\nCost of KNN model: {lr_cost:.5f}\")\n",
    "\n",
    "# get confusion matrix\n",
    "cm = confusion_matrix(y_test, y_pred)\n",
    "print(\"\\nConfusion matrix: \\n\", cm)\n",
    "\n",
    "print(\"------------------------------------\")"
   ]
  },
  {
   "cell_type": "markdown",
   "metadata": {},
   "source": [
    "## Ensemble\n",
    "- Bagging Classifier\n",
    "- Random Forest\n",
    "- Voting Classifier - simple voting\n",
    "- Voting Classifier - with weights"
   ]
  },
  {
   "cell_type": "markdown",
   "metadata": {},
   "source": [
    "### Bagging Classifier"
   ]
  },
  {
   "cell_type": "code",
   "execution_count": 214,
   "metadata": {},
   "outputs": [
    {
     "name": "stdout",
     "output_type": "stream",
     "text": [
      "Cross validation scores:  [0.63934426 0.60655738 0.57377049 0.71666667 0.58333333]\n",
      "\n",
      "Score of Decision Tree model: 0.73684\n",
      "\n",
      "Accuracy of Decision Tree model: 0.73684\n",
      "------------------------------------\n"
     ]
    }
   ],
   "source": [
    "# create an instance of DecisionTreeClassifier\n",
    "base_estimator = DecisionTreeClassifier()\n",
    "\n",
    "# create an instance of BaggingClassifier\n",
    "clf = BaggingClassifier(base_estimator=base_estimator, n_estimators=10, max_samples=0.8, random_state=42)\n",
    "\n",
    "# perform 5-fold cross validation\n",
    "score = cross_val_score(clf, X, y, cv=5)\n",
    "print(\"Cross validation scores: \", score)\n",
    "\n",
    "# fit the model on the train data\n",
    "clf.fit(X_train, y_train)\n",
    "\n",
    "# predict on the test data\n",
    "y_pred = clf.predict(X_test)\n",
    "\n",
    "# calculate score\n",
    "score_dt = clf.score(X_test, y_test)\n",
    "print(f\"\\nScore of Decision Tree model: {score_dt:.5f}\")\n",
    "\n",
    "# accuracy\n",
    "acc = accuracy_score(y_test, y_pred)\n",
    "print(f\"\\nAccuracy of Decision Tree model: {acc:.5f}\")\n",
    "\n",
    "print(\"------------------------------------\")"
   ]
  },
  {
   "cell_type": "code",
   "execution_count": 104,
   "metadata": {},
   "outputs": [
    {
     "name": "stdout",
     "output_type": "stream",
     "text": [
      "Cross validation scores:  [0.6557377  0.67213115 0.62295082 0.71666667 0.61666667]\n",
      "\n",
      "Score of KNN model: 0.77632\n",
      "\n",
      "Accuracy of KNN model: 0.77632\n",
      "------------------------------------\n"
     ]
    }
   ],
   "source": [
    "# create an instance of KNN\n",
    "base_estimator = KNeighborsClassifier(n_neighbors=6)\n",
    "\n",
    "# create an instance of BaggingClassifier\n",
    "clf = BaggingClassifier(base_estimator=base_estimator, n_estimators=10, max_samples=0.8, random_state=42)\n",
    "\n",
    "# perform 5-fold cross validation\n",
    "score = cross_val_score(clf, X, y, cv=5)\n",
    "print(\"Cross validation scores: \", score)\n",
    "\n",
    "# fit the model on the train data\n",
    "clf.fit(X_train, y_train)\n",
    "\n",
    "# predict on the test data\n",
    "y_pred = clf.predict(X_test)\n",
    "\n",
    "# calculate score\n",
    "score = clf.score(X_test, y_test)\n",
    "print(f\"\\nScore of KNN model: {score:.5f}\")\n",
    "\n",
    "# accuracy\n",
    "acc = accuracy_score(y_test, y_pred)\n",
    "print(f\"\\nAccuracy of KNN model: {acc:.5f}\")\n",
    "\n",
    "print(\"------------------------------------\")"
   ]
  },
  {
   "cell_type": "markdown",
   "metadata": {},
   "source": [
    "### Random Forest"
   ]
  },
  {
   "cell_type": "code",
   "execution_count": 217,
   "metadata": {},
   "outputs": [
    {
     "name": "stdout",
     "output_type": "stream",
     "text": [
      "Cross validation scores:  [0.63934426 0.72131148 0.57377049 0.66666667 0.7       ]\n",
      "\n",
      "Score using Random Forest:  0.8421052631578947\n",
      "\n",
      "Mean of scores using Random Forest:  0.8421052631578947\n",
      "\n",
      "Accuracy of Random Forest model: 0.84211\n",
      "------------------------------------\n"
     ]
    }
   ],
   "source": [
    "# create an instance of RandomForestClassifier\n",
    "clf = RandomForestClassifier(n_estimators=10, max_depth=5, random_state=42)\n",
    "\n",
    "# perform 5-fold cross validation\n",
    "score = cross_val_score(clf, X, y, cv=5)\n",
    "print(\"Cross validation scores: \", score)\n",
    "\n",
    "# fit the model on the train data\n",
    "clf.fit(X_train, y_train)\n",
    "\n",
    "# predict on the test data\n",
    "y_pred = clf.predict(X_test)\n",
    "\n",
    "# calculate score\n",
    "scores_rf = clf.score(X_test, y_test)\n",
    "mean_scores_rf = scores_rf.mean()\n",
    "print(f\"\\nScore using Random Forest: \", scores_rf)\n",
    "print(f\"\\nMean of scores using Random Forest: \", mean_scores_rf)\n",
    "\n",
    "# accuracy\n",
    "acc = accuracy_score(y_test, y_pred)\n",
    "print(f\"\\nAccuracy of Random Forest model: {acc:.5f}\")\n",
    "\n",
    "print(\"------------------------------------\")"
   ]
  },
  {
   "cell_type": "markdown",
   "metadata": {},
   "source": [
    "### Voting Classifier - simple voting"
   ]
  },
  {
   "cell_type": "code",
   "execution_count": 109,
   "metadata": {},
   "outputs": [
    {
     "name": "stdout",
     "output_type": "stream",
     "text": [
      "Accuracy of the Voting Classifier:  0.8552631578947368\n",
      "\n",
      "Accuracy using Simple Voting Classifier: 0.84 (std 0.04) [Logistic Regression]\n",
      "\n",
      "Accuracy using Simple Voting Classifier: 0.80 (std 0.04) [Random Forest]\n",
      "\n",
      "Accuracy using Simple Voting Classifier: 0.80 (std 0.06) [Naive Bayes]\n",
      "\n",
      "Accuracy using Simple Voting Classifier: 0.84 (std 0.05) [Ensemble]\n",
      "------------------------------------\n"
     ]
    }
   ],
   "source": [
    "# create instances of Logistic Regression, Random Forest and Naive Bayes classifiers\n",
    "lr = LogisticRegression(max_iter=2900)\n",
    "rf = RandomForestClassifier()\n",
    "nb = GaussianNB()\n",
    "\n",
    "# create an instance of Voting Classifier\n",
    "clf = VotingClassifier(estimators=[('lr', lr), ('rf', rf), ('nb', nb)], voting='hard')\n",
    "\n",
    "# fit the model on the train data\n",
    "clf.fit(X_train, y_train)\n",
    "\n",
    "# predict on the test data\n",
    "y_pred = clf.predict(X_test)\n",
    "\n",
    "# calculate the accuracy\n",
    "acc = clf.score(X_test, y_test)\n",
    "print(\"Accuracy of the Voting Classifier: \", acc)\n",
    "\n",
    "# calculate the accuracy of each classifier\n",
    "clf_list = [lr, rf, nb, clf]\n",
    "model_alg_list = ['Logistic Regression', 'Random Forest', 'Naive Bayes', 'Ensemble']\n",
    "for clf, label in zip(clf_list, model_alg_list):\n",
    "    scores = cross_val_score(clf, X, y, cv=5, scoring='accuracy')\n",
    "    print(f\"\\nAccuracy using Simple Voting Classifier: %0.2f (std %0.2f) [%s]\" % (scores.mean(), scores.std(), label))\n",
    "    \n",
    "print(\"------------------------------------\")"
   ]
  },
  {
   "cell_type": "markdown",
   "metadata": {},
   "source": [
    "### Voting Classifier - with weights"
   ]
  },
  {
   "cell_type": "code",
   "execution_count": 110,
   "metadata": {},
   "outputs": [
    {
     "name": "stdout",
     "output_type": "stream",
     "text": [
      "Accuracy of the Voting Classifier with weights:  0.7894736842105263\n",
      "\n",
      "Accuracy using Simple Voting Classifier: 0.72 (std 0.03) [Decision Tree]\n",
      "\n",
      "Accuracy using Simple Voting Classifier: 0.66 (std 0.05) [KNN]\n",
      "\n",
      "Accuracy using Simple Voting Classifier: 0.65 (std 0.05) [Support Vector Machine]\n",
      "\n",
      "Accuracy using Simple Voting Classifier: 0.68 (std 0.02) [Ensemble]\n",
      "------------------------------------\n"
     ]
    }
   ],
   "source": [
    "# create instances of Decision Trees, KNN and SVM\n",
    "dt = DecisionTreeClassifier(max_depth=4)\n",
    "knn = KNeighborsClassifier(n_neighbors=12)\n",
    "svc = SVC(gamma='scale', kernel='rbf', probability=True)\n",
    "\n",
    "# create an instance of Voting Classifier\n",
    "clf = VotingClassifier(estimators=[('dt', dt), ('knn', knn), ('svc', svc)], voting='soft', weights=[1, 2, 3])\n",
    "\n",
    "# fit the model on the train data\n",
    "clf.fit(X_train, y_train)\n",
    "\n",
    "# predict on the test data\n",
    "y_pred = clf.predict(X_test)\n",
    "\n",
    "# calculate the accuracy\n",
    "acc = clf.score(X_test, y_test)\n",
    "print(\"Accuracy of the Voting Classifier with weights: \", acc)\n",
    "\n",
    "# calculate the accuracy of each classifier\n",
    "clf_list = [dt, knn, svc, clf]\n",
    "model_alg_list = ['Decision Tree', 'KNN', 'Support Vector Machine', 'Ensemble']\n",
    "for clf, label in zip(clf_list, model_alg_list):\n",
    "    scores = cross_val_score(clf, X, y, cv=5, scoring='accuracy')\n",
    "    print(f\"\\nAccuracy using Simple Voting Classifier: %0.2f (std %0.2f) [%s]\" % (scores.mean(), scores.std(), label))\n",
    "\n",
    "print(\"------------------------------------\")"
   ]
  },
  {
   "cell_type": "markdown",
   "metadata": {},
   "source": [
    "## Feature selection\n",
    "- Variance Threshold\n",
    "- Select K Best\n",
    "- Select Percentile"
   ]
  },
  {
   "cell_type": "markdown",
   "metadata": {},
   "source": [
    "### Variance Threshold"
   ]
  },
  {
   "cell_type": "code",
   "execution_count": 111,
   "metadata": {},
   "outputs": [
    {
     "name": "stdout",
     "output_type": "stream",
     "text": [
      "X_train shape before Variance Threshold:  (227, 20)\n",
      "X_train shape after Variance Threshold:  (227, 15)\n",
      "X_test shape before Variance Threshold:  (76, 20)\n",
      "X_test shape after Variance Threshold:  (76, 15)\n",
      "\n",
      "Cross validation scores:  [0.82608696 0.7826087  0.71111111 0.86666667 0.75555556]\n",
      "\n",
      "Accuracy using Variance Threshold Method:  0.8552631578947368\n",
      "------------------------------------\n"
     ]
    }
   ],
   "source": [
    "# create an instance of VarianceThreshold\n",
    "selector = VarianceThreshold(threshold=0.1)\n",
    "\n",
    "# fit the selector on the train data\n",
    "selector.fit(X_train)\n",
    "\n",
    "# transform the train and test data\n",
    "# features that don't vary much (ie, are constant) are removed - are less informative\n",
    "X_train_new = selector.transform(X_train)\n",
    "X_test_new = selector.transform(X_test)\n",
    "print('X_train shape before Variance Threshold: ', X_train.shape)\n",
    "print('X_train shape after Variance Threshold: ', X_train_new.shape)\n",
    "print('X_test shape before Variance Threshold: ', X_test.shape)\n",
    "print('X_test shape after Variance Threshold: ', X_test_new.shape)\n",
    "\n",
    "# fit a logistic regression model on the new data\n",
    "clf = LogisticRegression(max_iter=2200)\n",
    "\n",
    "# perform a 5-fold cross validation\n",
    "scores = cross_val_score(clf, X_train_new, y_train, cv=5)\n",
    "print(\"\\nCross validation scores: \", scores)\n",
    "\n",
    "# fit the model on the entire train data\n",
    "clf.fit(X_train_new, y_train)\n",
    "\n",
    "# predict on the test data\n",
    "y_pred = clf.predict(X_test_new)\n",
    "\n",
    "# calculate accuracy\n",
    "acc = accuracy_score(y_test, y_pred)\n",
    "print(\"\\nAccuracy using Variance Threshold Method: \", acc)\n",
    "\n",
    "print(\"------------------------------------\")"
   ]
  },
  {
   "cell_type": "markdown",
   "metadata": {},
   "source": [
    "### Select K Best"
   ]
  },
  {
   "cell_type": "code",
   "execution_count": 112,
   "metadata": {},
   "outputs": [
    {
     "name": "stdout",
     "output_type": "stream",
     "text": [
      "X_train shape before Select K-Best:  (227, 20)\n",
      "X_train shape after Select K-Best:  (227, 7)\n",
      "X_test shape before Select K-Best:  (76, 20)\n",
      "X_test shape after Select K-Best:  (76, 7)\n",
      "Cross validation scores:  [0.73913043 0.7826087  0.73333333 0.86666667 0.75555556]\n",
      "\n",
      "Accuracy using Select K-Best Method:  0.8289473684210527\n",
      "------------------------------------\n"
     ]
    }
   ],
   "source": [
    "# create an instance of SelectKBest - f_classification\n",
    "selector = SelectKBest(score_func=f_classif, k=7)\n",
    "\n",
    "# fit the selector on the train data\n",
    "selector.fit(X_train, y_train)\n",
    "\n",
    "# transform the train and test data\n",
    "X_train_new = selector.transform(X_train)\n",
    "X_test_new = selector.transform(X_test)\n",
    "print('X_train shape before Select K-Best: ', X_train.shape)\n",
    "print('X_train shape after Select K-Best: ', X_train_new.shape)\n",
    "print('X_test shape before Select K-Best: ', X_test.shape)\n",
    "print('X_test shape after Select K-Best: ', X_test_new.shape)\n",
    "\n",
    "# fit a logistic regression model on the new data\n",
    "clf = LogisticRegression(max_iter=200)\n",
    "\n",
    "# perform 5 fold cross validation\n",
    "scores = cross_val_score(clf, X_train_new, y_train, cv=5)\n",
    "print(\"Cross validation scores: \", scores)\n",
    "\n",
    "# fit the model on the entire train data\n",
    "clf.fit(X_train_new, y_train)\n",
    "\n",
    "# predict on the test data\n",
    "y_pred = clf.predict(X_test_new)\n",
    "\n",
    "# calculate accuracy\n",
    "acc = accuracy_score(y_test, y_pred)\n",
    "print(\"\\nAccuracy using Select K-Best Method: \", acc)\n",
    "\n",
    "print(\"------------------------------------\")"
   ]
  },
  {
   "cell_type": "code",
   "execution_count": 119,
   "metadata": {},
   "outputs": [
    {
     "name": "stdout",
     "output_type": "stream",
     "text": [
      "X_train shape before Select K-Best:  (227, 20)\n",
      "X_train shape after Select K-Best:  (227, 17)\n",
      "X_test shape before Select K-Best:  (76, 20)\n",
      "X_test shape after Select K-Best:  (76, 17)\n",
      "Cross validation scores:  [0.82608696 0.82608696 0.77777778 0.86666667 0.82222222]\n",
      "\n",
      "Accuracy using Select K-Best Method:  0.8421052631578947\n",
      "------------------------------------\n"
     ]
    }
   ],
   "source": [
    "# create an instance of SelectKBest - chi2\n",
    "selector = SelectKBest(score_func=chi2, k=17)\n",
    "\n",
    "# fit the selector on the train data\n",
    "selector.fit(X_train, y_train)\n",
    "\n",
    "# transform the train and test data\n",
    "X_train_new = selector.transform(X_train)\n",
    "X_test_new = selector.transform(X_test)\n",
    "print('X_train shape before Select K-Best: ', X_train.shape)\n",
    "print('X_train shape after Select K-Best: ', X_train_new.shape)\n",
    "print('X_test shape before Select K-Best: ', X_test.shape)\n",
    "print('X_test shape after Select K-Best: ', X_test_new.shape)\n",
    "\n",
    "# fit a logistic regression model on the new data\n",
    "clf = LogisticRegression(max_iter=1150)\n",
    "\n",
    "# perform 5 fold cross validation\n",
    "scores = cross_val_score(clf, X_train_new, y_train, cv=5)\n",
    "print(\"Cross validation scores: \", scores)\n",
    "\n",
    "# fit the model on the entire train data\n",
    "clf.fit(X_train_new, y_train)\n",
    "\n",
    "# predict on the test data\n",
    "y_pred = clf.predict(X_test_new)\n",
    "\n",
    "# calculate accuracy\n",
    "acc = accuracy_score(y_test, y_pred)\n",
    "print(\"\\nAccuracy using Select K-Best Method: \", acc)\n",
    "\n",
    "print(\"------------------------------------\")"
   ]
  },
  {
   "cell_type": "markdown",
   "metadata": {},
   "source": [
    "### Select Percentile"
   ]
  },
  {
   "cell_type": "code",
   "execution_count": 120,
   "metadata": {},
   "outputs": [
    {
     "name": "stdout",
     "output_type": "stream",
     "text": [
      "X_train shape before Select Percentile:  (227, 20)\n",
      "X_train shape after Select Percentile:  (227, 14)\n",
      "X_test shape before Select Percentile:  (76, 20)\n",
      "X_test shape after Select Percentile:  (76, 14)\n",
      "Cross validation scores:  [0.82608696 0.82608696 0.8        0.88888889 0.82222222]\n",
      "\n",
      "Accuracy using Select Percentile Method:  0.8421052631578947\n",
      "------------------------------------\n"
     ]
    }
   ],
   "source": [
    "# create an instance of SelectPercentile\n",
    "selector = SelectPercentile(score_func=f_classif, percentile=70)\n",
    "\n",
    "# fit the selector on the train data\n",
    "selector.fit(X_train, y_train)\n",
    "\n",
    "# transform the train and test data\n",
    "X_train_new = selector.transform(X_train)\n",
    "X_test_new = selector.transform(X_test)\n",
    "print('X_train shape before Select Percentile: ', X_train.shape)\n",
    "print('X_train shape after Select Percentile: ', X_train_new.shape)\n",
    "print('X_test shape before Select Percentile: ', X_test.shape)\n",
    "print('X_test shape after Select Percentile: ', X_test_new.shape)\n",
    "\n",
    "# fit a logistic regression model on the new data\n",
    "clf = LogisticRegression(max_iter=1200)\n",
    "\n",
    "# perform 5-fold cross validation\n",
    "scores = cross_val_score(clf, X_train_new, y_train, cv=5)\n",
    "print(\"Cross validation scores: \", scores)\n",
    "\n",
    "# fit the model on the entire train data\n",
    "clf.fit(X_train_new, y_train)\n",
    "\n",
    "# predict on the test data\n",
    "y_pred = clf.predict(X_test_new)\n",
    "\n",
    "# calculate accuracy\n",
    "acc = accuracy_score(y_test, y_pred)\n",
    "print(\"\\nAccuracy using Select Percentile Method: \", acc)\n",
    "\n",
    "print(\"------------------------------------\")"
   ]
  },
  {
   "cell_type": "markdown",
   "metadata": {},
   "source": [
    "## Hyperparameter tuning\n",
    "- Grid Search\n",
    "- Randomized Parameter Optimization"
   ]
  },
  {
   "cell_type": "markdown",
   "metadata": {},
   "source": [
    "### Grid Search"
   ]
  },
  {
   "cell_type": "code",
   "execution_count": 131,
   "metadata": {},
   "outputs": [
    {
     "name": "stdout",
     "output_type": "stream",
     "text": [
      "Best parameters:  {'C': 1, 'penalty': 'l1'}\n",
      "Accuracy:  0.8552631578947368\n",
      "------------------------------------\n"
     ]
    }
   ],
   "source": [
    "# create an instance of LogisticRegression\n",
    "clf = LogisticRegression(max_iter=3000, solver='liblinear') # solver liblinear because our dataset is small\n",
    "\n",
    "# specify the hyperparameters and their possible values\n",
    "param_grid = {'C': [0.1, 1, 5, 10],\n",
    "             'penalty': ['l1', 'l2']} # penalties used in the liblinear solver\n",
    "\n",
    "# perform 5-fold cross validation and grid search\n",
    "grid_search = GridSearchCV(clf, param_grid, cv=5)\n",
    "grid_search.fit(X_train, y_train)\n",
    "\n",
    "# print the best parameters\n",
    "print(\"Best parameters: \", grid_search.best_params_)\n",
    "\n",
    "# predict on the test data\n",
    "y_pred = grid_search.predict(X_test)\n",
    "\n",
    "# calculate accuracy\n",
    "acc = accuracy_score(y_test, y_pred)\n",
    "print(\"Accuracy: \", acc)\n",
    "\n",
    "print(\"------------------------------------\")"
   ]
  },
  {
   "cell_type": "code",
   "execution_count": null,
   "metadata": {},
   "outputs": [],
   "source": [
    "# create an instance of SVC\n",
    "svc = SVC()\n",
    "\n",
    "# define the hyperparameter grid\n",
    "param_grid = {'C': [0.1, 1, 10],\n",
    "              'kernel': ['linear', 'rbf'],\n",
    "              'degree':[1, 2, 3],\n",
    "              'gamma': [0.1, 1, 10]}\n",
    "\n",
    "# create an instance of GridSearchCV\n",
    "grid_search = GridSearchCV(svc, param_grid, cv=5)\n",
    "\n",
    "# fit the grid search on the data\n",
    "grid_search.fit(X_train, y_train)\n",
    "\n",
    "# print the best parameters\n",
    "print(\"Best parameters: \", grid_search.bestparams)\n",
    "\n",
    "# calculate accuracy\n",
    "acc = accuracy_score(y_test, y_pred)\n",
    "print(\"Accuracy: \", acc)\n",
    "\n",
    "print(\"------------------------------------\")"
   ]
  },
  {
   "cell_type": "markdown",
   "metadata": {},
   "source": [
    "### Randomized Search"
   ]
  },
  {
   "cell_type": "code",
   "execution_count": 166,
   "metadata": {},
   "outputs": [
    {
     "name": "stderr",
     "output_type": "stream",
     "text": [
      "C:\\Users\\Ana\\anaconda3\\lib\\site-packages\\sklearn\\linear_model\\_logistic.py:1322: UserWarning: Setting penalty='none' will ignore the C and l1_ratio parameters\n",
      "  warnings.warn(\n",
      "C:\\Users\\Ana\\anaconda3\\lib\\site-packages\\sklearn\\linear_model\\_logistic.py:1322: UserWarning: Setting penalty='none' will ignore the C and l1_ratio parameters\n",
      "  warnings.warn(\n",
      "C:\\Users\\Ana\\anaconda3\\lib\\site-packages\\sklearn\\linear_model\\_logistic.py:1322: UserWarning: Setting penalty='none' will ignore the C and l1_ratio parameters\n",
      "  warnings.warn(\n",
      "C:\\Users\\Ana\\anaconda3\\lib\\site-packages\\sklearn\\linear_model\\_logistic.py:1322: UserWarning: Setting penalty='none' will ignore the C and l1_ratio parameters\n",
      "  warnings.warn(\n",
      "C:\\Users\\Ana\\anaconda3\\lib\\site-packages\\sklearn\\linear_model\\_logistic.py:1322: UserWarning: Setting penalty='none' will ignore the C and l1_ratio parameters\n",
      "  warnings.warn(\n",
      "C:\\Users\\Ana\\anaconda3\\lib\\site-packages\\sklearn\\linear_model\\_logistic.py:1322: UserWarning: Setting penalty='none' will ignore the C and l1_ratio parameters\n",
      "  warnings.warn(\n",
      "C:\\Users\\Ana\\anaconda3\\lib\\site-packages\\sklearn\\linear_model\\_logistic.py:1322: UserWarning: Setting penalty='none' will ignore the C and l1_ratio parameters\n",
      "  warnings.warn(\n",
      "C:\\Users\\Ana\\anaconda3\\lib\\site-packages\\sklearn\\linear_model\\_logistic.py:1322: UserWarning: Setting penalty='none' will ignore the C and l1_ratio parameters\n",
      "  warnings.warn(\n",
      "C:\\Users\\Ana\\anaconda3\\lib\\site-packages\\sklearn\\linear_model\\_logistic.py:1322: UserWarning: Setting penalty='none' will ignore the C and l1_ratio parameters\n",
      "  warnings.warn(\n",
      "C:\\Users\\Ana\\anaconda3\\lib\\site-packages\\sklearn\\linear_model\\_logistic.py:1322: UserWarning: Setting penalty='none' will ignore the C and l1_ratio parameters\n",
      "  warnings.warn(\n",
      "C:\\Users\\Ana\\anaconda3\\lib\\site-packages\\sklearn\\linear_model\\_logistic.py:1322: UserWarning: Setting penalty='none' will ignore the C and l1_ratio parameters\n",
      "  warnings.warn(\n",
      "C:\\Users\\Ana\\anaconda3\\lib\\site-packages\\sklearn\\linear_model\\_logistic.py:1322: UserWarning: Setting penalty='none' will ignore the C and l1_ratio parameters\n",
      "  warnings.warn(\n",
      "C:\\Users\\Ana\\anaconda3\\lib\\site-packages\\sklearn\\linear_model\\_logistic.py:1322: UserWarning: Setting penalty='none' will ignore the C and l1_ratio parameters\n",
      "  warnings.warn(\n",
      "C:\\Users\\Ana\\anaconda3\\lib\\site-packages\\sklearn\\linear_model\\_logistic.py:1322: UserWarning: Setting penalty='none' will ignore the C and l1_ratio parameters\n",
      "  warnings.warn(\n",
      "C:\\Users\\Ana\\anaconda3\\lib\\site-packages\\sklearn\\linear_model\\_logistic.py:1322: UserWarning: Setting penalty='none' will ignore the C and l1_ratio parameters\n",
      "  warnings.warn(\n",
      "C:\\Users\\Ana\\anaconda3\\lib\\site-packages\\sklearn\\linear_model\\_logistic.py:1322: UserWarning: Setting penalty='none' will ignore the C and l1_ratio parameters\n",
      "  warnings.warn(\n",
      "C:\\Users\\Ana\\anaconda3\\lib\\site-packages\\sklearn\\linear_model\\_logistic.py:1322: UserWarning: Setting penalty='none' will ignore the C and l1_ratio parameters\n",
      "  warnings.warn(\n",
      "C:\\Users\\Ana\\anaconda3\\lib\\site-packages\\sklearn\\linear_model\\_logistic.py:1322: UserWarning: Setting penalty='none' will ignore the C and l1_ratio parameters\n",
      "  warnings.warn(\n",
      "C:\\Users\\Ana\\anaconda3\\lib\\site-packages\\sklearn\\linear_model\\_logistic.py:1322: UserWarning: Setting penalty='none' will ignore the C and l1_ratio parameters\n",
      "  warnings.warn(\n",
      "C:\\Users\\Ana\\anaconda3\\lib\\site-packages\\sklearn\\linear_model\\_logistic.py:1322: UserWarning: Setting penalty='none' will ignore the C and l1_ratio parameters\n",
      "  warnings.warn(\n"
     ]
    },
    {
     "name": "stdout",
     "output_type": "stream",
     "text": [
      "Best parameters:  {'C': 2.645920213938968, 'penalty': 'l2'}\n",
      "Accuracy:  0.868421052631579\n",
      "------------------------------------\n"
     ]
    }
   ],
   "source": [
    "# create an instance of LogisticRegression\n",
    "clf = LogisticRegression(max_iter=4000)\n",
    "\n",
    "# specify the hyperparameters and their possible values\n",
    "param_grid = {'C': uniform(loc=0, scale=10),\n",
    "             'penalty': ['l2', 'none']} # 'lbfgs' (solver default) only support 'l2' and none penalties\n",
    "\n",
    "# perform 5-fold cross validation and grid search\n",
    "random_search = RandomizedSearchCV(clf, param_distributions=param_grid, n_iter=10, cv=5)\n",
    "random_search.fit(X_train, y_train)\n",
    "\n",
    "# print the best parameters\n",
    "print(\"Best parameters: \", random_search.best_params_)\n",
    "\n",
    "# predict on the test data\n",
    "y_pred = random_search.predict(X_test)\n",
    "\n",
    "# calculate accuracy\n",
    "acc = accuracy_score(y_test, y_pred)\n",
    "print(\"Accuracy: \", acc)\n",
    "\n",
    "print(\"------------------------------------\")"
   ]
  },
  {
   "cell_type": "code",
   "execution_count": 167,
   "metadata": {},
   "outputs": [],
   "source": [
    "random_state=42\n",
    "\n",
    "classifier=[DecisionTreeClassifier(random_state=random_state),\n",
    "           SVC(random_state=random_state),\n",
    "           RandomForestClassifier(random_state=random_state),\n",
    "           LogisticRegression(random_state=random_state,solver='lbfgs', max_iter=1000),\n",
    "           KNeighborsClassifier()]"
   ]
  },
  {
   "cell_type": "code",
   "execution_count": 168,
   "metadata": {},
   "outputs": [],
   "source": [
    "dt_param_grid = {\"min_samples_split\" : range(10,500,20),\n",
    "                \"max_depth\": range(1,20,2)}\n",
    "\n",
    "svc_param_grid = {\"kernel\" : [\"rbf\"],\n",
    "                 \"gamma\": [0.001, 0.01, 0.1, 1],\n",
    "                 \"C\": [1,10,50,100,200,300,1000]}\n",
    "\n",
    "rf_param_grid = {\"max_features\": [1,3,10],\n",
    "                \"min_samples_split\":[2,3,10],\n",
    "                \"min_samples_leaf\":[1,3,10],\n",
    "                \"bootstrap\":[False],\n",
    "                \"n_estimators\":[100,300],\n",
    "                \"criterion\":[\"gini\"]}\n",
    "\n",
    "logreg_param_grid = {\"C\":np.logspace(1,3,5),\n",
    "                    \"penalty\": [\"l1\",\"l2\"]}\n",
    "\n",
    "knn_param_grid = {\"n_neighbors\": np.linspace(1,19,10, dtype = int).tolist(),\n",
    "                 \"weights\": [\"uniform\",\"distance\"],\n",
    "                 \"metric\":[\"euclidean\",\"manhattan\"]}\n",
    "classifier_param = [dt_param_grid,\n",
    "                   svc_param_grid,\n",
    "                   rf_param_grid,\n",
    "                   logreg_param_grid,\n",
    "                   knn_param_grid]"
   ]
  },
  {
   "cell_type": "code",
   "execution_count": 171,
   "metadata": {},
   "outputs": [
    {
     "name": "stdout",
     "output_type": "stream",
     "text": [
      "Fitting 10 folds for each of 250 candidates, totalling 2500 fits\n",
      "0.7233201581027668\n",
      "Fitting 10 folds for each of 28 candidates, totalling 280 fits\n",
      "0.6478260869565217\n",
      "Fitting 10 folds for each of 54 candidates, totalling 540 fits\n",
      "0.8365612648221343\n",
      "Fitting 10 folds for each of 10 candidates, totalling 100 fits\n"
     ]
    },
    {
     "name": "stderr",
     "output_type": "stream",
     "text": [
      "C:\\Users\\Ana\\anaconda3\\lib\\site-packages\\sklearn\\model_selection\\_search.py:918: UserWarning: One or more of the test scores are non-finite: [       nan 0.8458498         nan 0.85474308        nan 0.85474308\n",
      "        nan 0.8458498         nan 0.84604743]\n",
      "  warnings.warn(\n",
      "C:\\Users\\Ana\\anaconda3\\lib\\site-packages\\sklearn\\linear_model\\_logistic.py:763: ConvergenceWarning: lbfgs failed to converge (status=1):\n",
      "STOP: TOTAL NO. of ITERATIONS REACHED LIMIT.\n",
      "\n",
      "Increase the number of iterations (max_iter) or scale the data as shown in:\n",
      "    https://scikit-learn.org/stable/modules/preprocessing.html\n",
      "Please also refer to the documentation for alternative solver options:\n",
      "    https://scikit-learn.org/stable/modules/linear_model.html#logistic-regression\n",
      "  n_iter_i = _check_optimize_result(\n"
     ]
    },
    {
     "name": "stdout",
     "output_type": "stream",
     "text": [
      "0.8547430830039525\n",
      "Fitting 10 folds for each of 40 candidates, totalling 400 fits\n",
      "0.6835968379446641\n"
     ]
    }
   ],
   "source": [
    "cv_result = []\n",
    "best_estimators = []\n",
    "for i in range(len(classifier)):\n",
    "    clf = GridSearchCV(classifier[i], param_grid=classifier_param[i], cv = StratifiedKFold(n_splits = 10), scoring = \"accuracy\", n_jobs = -1,verbose = 1)\n",
    "    clf.fit(X_train,y_train)\n",
    "    cv_result.append(clf.best_score_)\n",
    "    best_estimators.append(clf.best_estimator_)\n",
    "    print(cv_result[i])"
   ]
  },
  {
   "cell_type": "code",
   "execution_count": 175,
   "metadata": {},
   "outputs": [
    {
     "name": "stderr",
     "output_type": "stream",
     "text": [
      "C:\\Users\\Ana\\anaconda3\\lib\\site-packages\\seaborn\\_decorators.py:36: FutureWarning: Pass the following variables as keyword args: x, y. From version 0.12, the only valid positional argument will be `data`, and passing other arguments without an explicit keyword will result in an error or misinterpretation.\n",
      "  warnings.warn(\n"
     ]
    },
    {
     "data": {
      "image/png": "[encoded data removed]",
      "text/plain": [
       "<Figure size 432x288 with 1 Axes>"
      ]
     },
     "metadata": {
      "needs_background": "light"
     },
     "output_type": "display_data"
    }
   ],
   "source": [
    "cv_results = pd.DataFrame({\"Cross Validation Means\":cv_result, \"ML Models\":[\"DecisionTreeClassifier\", \"SVM\",\"RandomForestClassifier\", \"LogisticRegression\", \"KNeighborsClassifier\"]})\n",
    "\n",
    "g = sn.barplot(\"Cross Validation Means\", \"ML Models\", data=cv_results)\n",
    "g.set_xlabel(\"Mean Accuracy\")\n",
    "g.set_title(\"Cross Validation Scores\")\n",
    "plt.show()"
   ]
  },
  {
   "cell_type": "markdown",
   "metadata": {},
   "source": [
    "# Deep Learning\n",
    "- Neural network"
   ]
  },
  {
   "cell_type": "markdown",
   "metadata": {},
   "source": [
    "### Neural network"
   ]
  },
  {
   "cell_type": "code",
   "execution_count": 183,
   "metadata": {},
   "outputs": [],
   "source": [
    "# imports\n",
    "import tensorflow as tf\n",
    "from keras.models import Sequential\n",
    "from keras.layers import Dense\n",
    "from keras.optimizers import Adam"
   ]
  },
  {
   "cell_type": "code",
   "execution_count": 201,
   "metadata": {},
   "outputs": [
    {
     "name": "stdout",
     "output_type": "stream",
     "text": [
      "Epoch 1/100\n"
     ]
    },
    {
     "name": "stderr",
     "output_type": "stream",
     "text": [
      "C:\\Users\\Ana\\anaconda3\\lib\\site-packages\\keras\\optimizers\\optimizer_v2\\adam.py:117: UserWarning: The `lr` argument is deprecated, use `learning_rate` instead.\n",
      "  super().__init__(name, **kwargs)\n"
     ]
    },
    {
     "name": "stdout",
     "output_type": "stream",
     "text": [
      "8/8 [==============================] - 2s 65ms/step - loss: 4.6621 - accuracy: 0.4802 - val_loss: 2.9155 - val_accuracy: 0.5395\n",
      "Epoch 2/100\n",
      "8/8 [==============================] - 0s 16ms/step - loss: 1.9431 - accuracy: 0.5419 - val_loss: 1.2640 - val_accuracy: 0.4605\n",
      "Epoch 3/100\n",
      "8/8 [==============================] - 0s 11ms/step - loss: 1.2408 - accuracy: 0.4714 - val_loss: 0.9070 - val_accuracy: 0.5921\n",
      "Epoch 4/100\n",
      "8/8 [==============================] - 0s 13ms/step - loss: 1.0781 - accuracy: 0.5859 - val_loss: 0.5247 - val_accuracy: 0.6974\n",
      "Epoch 5/100\n",
      "8/8 [==============================] - 0s 36ms/step - loss: 0.7676 - accuracy: 0.5903 - val_loss: 0.5102 - val_accuracy: 0.7368\n",
      "Epoch 6/100\n",
      "8/8 [==============================] - 0s 19ms/step - loss: 0.7826 - accuracy: 0.6300 - val_loss: 0.4960 - val_accuracy: 0.7500\n",
      "Epoch 7/100\n",
      "8/8 [==============================] - 0s 26ms/step - loss: 0.6738 - accuracy: 0.6256 - val_loss: 0.4841 - val_accuracy: 0.7500\n",
      "Epoch 8/100\n",
      "8/8 [==============================] - 0s 22ms/step - loss: 0.6441 - accuracy: 0.6167 - val_loss: 0.5021 - val_accuracy: 0.7500\n",
      "Epoch 9/100\n",
      "8/8 [==============================] - 0s 29ms/step - loss: 0.6328 - accuracy: 0.6476 - val_loss: 0.4899 - val_accuracy: 0.7632\n",
      "Epoch 10/100\n",
      "8/8 [==============================] - 0s 11ms/step - loss: 0.6182 - accuracy: 0.6608 - val_loss: 0.5221 - val_accuracy: 0.7105\n",
      "Epoch 11/100\n",
      "8/8 [==============================] - 0s 11ms/step - loss: 0.6048 - accuracy: 0.6740 - val_loss: 0.4799 - val_accuracy: 0.8158\n",
      "Epoch 12/100\n",
      "8/8 [==============================] - 0s 12ms/step - loss: 0.5956 - accuracy: 0.6696 - val_loss: 0.4884 - val_accuracy: 0.7895\n",
      "Epoch 13/100\n",
      "8/8 [==============================] - 0s 20ms/step - loss: 0.5800 - accuracy: 0.6784 - val_loss: 0.4964 - val_accuracy: 0.7763\n",
      "Epoch 14/100\n",
      "8/8 [==============================] - 0s 16ms/step - loss: 0.5694 - accuracy: 0.6960 - val_loss: 0.4917 - val_accuracy: 0.7895\n",
      "Epoch 15/100\n",
      "8/8 [==============================] - 0s 11ms/step - loss: 0.5719 - accuracy: 0.6828 - val_loss: 0.5032 - val_accuracy: 0.7237\n",
      "Epoch 16/100\n",
      "8/8 [==============================] - 0s 12ms/step - loss: 0.5688 - accuracy: 0.6960 - val_loss: 0.4725 - val_accuracy: 0.8289\n",
      "Epoch 17/100\n",
      "8/8 [==============================] - 0s 14ms/step - loss: 0.5698 - accuracy: 0.7269 - val_loss: 0.5213 - val_accuracy: 0.6974\n",
      "Epoch 18/100\n",
      "8/8 [==============================] - 0s 17ms/step - loss: 0.5923 - accuracy: 0.6740 - val_loss: 0.5263 - val_accuracy: 0.7500\n",
      "Epoch 19/100\n",
      "8/8 [==============================] - 0s 18ms/step - loss: 0.5521 - accuracy: 0.7137 - val_loss: 0.4657 - val_accuracy: 0.8026\n",
      "Epoch 20/100\n",
      "8/8 [==============================] - 0s 19ms/step - loss: 0.5714 - accuracy: 0.6784 - val_loss: 0.4602 - val_accuracy: 0.8289\n",
      "Epoch 21/100\n",
      "8/8 [==============================] - 0s 12ms/step - loss: 0.5633 - accuracy: 0.6916 - val_loss: 0.4575 - val_accuracy: 0.7895\n",
      "Epoch 22/100\n",
      "8/8 [==============================] - 0s 16ms/step - loss: 0.5491 - accuracy: 0.7048 - val_loss: 0.4672 - val_accuracy: 0.8289\n",
      "Epoch 23/100\n",
      "8/8 [==============================] - 0s 18ms/step - loss: 0.5311 - accuracy: 0.7665 - val_loss: 0.4700 - val_accuracy: 0.8158\n",
      "Epoch 24/100\n",
      "8/8 [==============================] - 0s 15ms/step - loss: 0.5331 - accuracy: 0.7225 - val_loss: 0.5062 - val_accuracy: 0.7500\n",
      "Epoch 25/100\n",
      "8/8 [==============================] - 0s 9ms/step - loss: 0.5714 - accuracy: 0.7004 - val_loss: 0.5670 - val_accuracy: 0.6447\n",
      "Epoch 26/100\n",
      "8/8 [==============================] - 0s 12ms/step - loss: 0.5939 - accuracy: 0.6432 - val_loss: 0.4845 - val_accuracy: 0.7500\n",
      "Epoch 27/100\n",
      "8/8 [==============================] - 0s 8ms/step - loss: 0.5648 - accuracy: 0.6652 - val_loss: 0.5111 - val_accuracy: 0.7368\n",
      "Epoch 28/100\n",
      "8/8 [==============================] - 0s 12ms/step - loss: 0.5439 - accuracy: 0.7181 - val_loss: 0.4579 - val_accuracy: 0.8421\n",
      "Epoch 29/100\n",
      "8/8 [==============================] - 0s 10ms/step - loss: 0.5081 - accuracy: 0.7621 - val_loss: 0.4809 - val_accuracy: 0.7500\n",
      "Epoch 30/100\n",
      "8/8 [==============================] - 0s 14ms/step - loss: 0.5406 - accuracy: 0.7181 - val_loss: 0.4931 - val_accuracy: 0.7500\n",
      "Epoch 31/100\n",
      "8/8 [==============================] - 0s 9ms/step - loss: 0.5225 - accuracy: 0.7665 - val_loss: 0.4444 - val_accuracy: 0.8289\n",
      "Epoch 32/100\n",
      "8/8 [==============================] - 0s 11ms/step - loss: 0.5159 - accuracy: 0.7489 - val_loss: 0.4377 - val_accuracy: 0.8289\n",
      "Epoch 33/100\n",
      "8/8 [==============================] - 0s 14ms/step - loss: 0.4983 - accuracy: 0.7401 - val_loss: 0.4903 - val_accuracy: 0.7368\n",
      "Epoch 34/100\n",
      "8/8 [==============================] - 0s 9ms/step - loss: 0.5464 - accuracy: 0.7137 - val_loss: 0.4294 - val_accuracy: 0.8158\n",
      "Epoch 35/100\n",
      "8/8 [==============================] - 0s 11ms/step - loss: 0.5084 - accuracy: 0.7753 - val_loss: 0.5617 - val_accuracy: 0.7237\n",
      "Epoch 36/100\n",
      "8/8 [==============================] - 0s 10ms/step - loss: 0.5789 - accuracy: 0.6740 - val_loss: 0.6836 - val_accuracy: 0.6053\n",
      "Epoch 37/100\n",
      "8/8 [==============================] - 0s 11ms/step - loss: 0.6261 - accuracy: 0.6960 - val_loss: 0.4392 - val_accuracy: 0.8026\n",
      "Epoch 38/100\n",
      "8/8 [==============================] - 0s 10ms/step - loss: 0.6231 - accuracy: 0.6784 - val_loss: 0.6517 - val_accuracy: 0.6316\n",
      "Epoch 39/100\n",
      "8/8 [==============================] - 0s 13ms/step - loss: 0.6880 - accuracy: 0.6344 - val_loss: 0.5793 - val_accuracy: 0.6711\n",
      "Epoch 40/100\n",
      "8/8 [==============================] - 0s 8ms/step - loss: 0.5480 - accuracy: 0.7445 - val_loss: 0.5590 - val_accuracy: 0.7237\n",
      "Epoch 41/100\n",
      "8/8 [==============================] - 0s 9ms/step - loss: 0.5194 - accuracy: 0.7533 - val_loss: 0.4751 - val_accuracy: 0.7763\n",
      "Epoch 42/100\n",
      "8/8 [==============================] - 0s 11ms/step - loss: 0.4970 - accuracy: 0.7489 - val_loss: 0.4620 - val_accuracy: 0.7632\n",
      "Epoch 43/100\n",
      "8/8 [==============================] - 0s 11ms/step - loss: 0.4876 - accuracy: 0.7489 - val_loss: 0.4308 - val_accuracy: 0.8026\n",
      "Epoch 44/100\n",
      "8/8 [==============================] - 0s 38ms/step - loss: 0.5179 - accuracy: 0.7093 - val_loss: 0.4266 - val_accuracy: 0.8289\n",
      "Epoch 45/100\n",
      "8/8 [==============================] - 0s 12ms/step - loss: 0.4915 - accuracy: 0.7577 - val_loss: 0.4444 - val_accuracy: 0.8026\n",
      "Epoch 46/100\n",
      "8/8 [==============================] - 0s 11ms/step - loss: 0.4902 - accuracy: 0.7577 - val_loss: 0.4627 - val_accuracy: 0.7763\n",
      "Epoch 47/100\n",
      "8/8 [==============================] - 0s 12ms/step - loss: 0.5019 - accuracy: 0.7357 - val_loss: 0.5550 - val_accuracy: 0.7237\n",
      "Epoch 48/100\n",
      "8/8 [==============================] - 0s 14ms/step - loss: 0.6158 - accuracy: 0.6608 - val_loss: 0.4428 - val_accuracy: 0.7895\n",
      "Epoch 49/100\n",
      "8/8 [==============================] - 0s 11ms/step - loss: 0.5744 - accuracy: 0.7181 - val_loss: 0.4141 - val_accuracy: 0.8289\n",
      "Epoch 50/100\n",
      "8/8 [==============================] - 0s 14ms/step - loss: 0.4868 - accuracy: 0.7621 - val_loss: 0.5096 - val_accuracy: 0.7368\n",
      "Epoch 51/100\n",
      "8/8 [==============================] - 0s 8ms/step - loss: 0.5052 - accuracy: 0.7225 - val_loss: 0.4190 - val_accuracy: 0.8158\n",
      "Epoch 52/100\n",
      "8/8 [==============================] - 0s 9ms/step - loss: 0.4895 - accuracy: 0.7665 - val_loss: 0.4241 - val_accuracy: 0.8289\n",
      "Epoch 53/100\n",
      "8/8 [==============================] - 0s 9ms/step - loss: 0.4939 - accuracy: 0.7665 - val_loss: 0.4518 - val_accuracy: 0.7895\n",
      "Epoch 54/100\n",
      "8/8 [==============================] - 0s 11ms/step - loss: 0.4575 - accuracy: 0.7665 - val_loss: 0.4351 - val_accuracy: 0.8158\n",
      "Epoch 55/100\n",
      "8/8 [==============================] - 0s 11ms/step - loss: 0.4884 - accuracy: 0.7313 - val_loss: 0.5596 - val_accuracy: 0.6711\n",
      "Epoch 56/100\n",
      "8/8 [==============================] - 0s 12ms/step - loss: 0.5129 - accuracy: 0.7181 - val_loss: 0.6458 - val_accuracy: 0.6447\n",
      "Epoch 57/100\n",
      "8/8 [==============================] - 0s 12ms/step - loss: 0.5248 - accuracy: 0.6916 - val_loss: 0.4348 - val_accuracy: 0.8158\n",
      "Epoch 58/100\n",
      "8/8 [==============================] - 0s 13ms/step - loss: 0.5088 - accuracy: 0.7357 - val_loss: 0.4310 - val_accuracy: 0.8289\n",
      "Epoch 59/100\n",
      "8/8 [==============================] - 0s 10ms/step - loss: 0.4793 - accuracy: 0.7841 - val_loss: 0.5246 - val_accuracy: 0.7105\n",
      "Epoch 60/100\n",
      "8/8 [==============================] - 0s 11ms/step - loss: 0.4923 - accuracy: 0.7313 - val_loss: 0.5063 - val_accuracy: 0.7500\n",
      "Epoch 61/100\n",
      "8/8 [==============================] - 0s 11ms/step - loss: 0.4597 - accuracy: 0.7709 - val_loss: 0.4125 - val_accuracy: 0.8421\n",
      "Epoch 62/100\n",
      "8/8 [==============================] - 0s 23ms/step - loss: 0.5254 - accuracy: 0.7269 - val_loss: 0.4850 - val_accuracy: 0.7763\n",
      "Epoch 63/100\n",
      "8/8 [==============================] - 0s 9ms/step - loss: 0.4714 - accuracy: 0.7489 - val_loss: 0.4337 - val_accuracy: 0.8026\n",
      "Epoch 64/100\n",
      "8/8 [==============================] - 0s 10ms/step - loss: 0.4449 - accuracy: 0.7797 - val_loss: 0.4306 - val_accuracy: 0.8158\n",
      "Epoch 65/100\n",
      "8/8 [==============================] - 0s 16ms/step - loss: 0.4287 - accuracy: 0.8150 - val_loss: 0.4328 - val_accuracy: 0.8289\n",
      "Epoch 66/100\n",
      "8/8 [==============================] - 0s 11ms/step - loss: 0.4439 - accuracy: 0.7930 - val_loss: 0.4751 - val_accuracy: 0.7500\n",
      "Epoch 67/100\n",
      "8/8 [==============================] - 0s 15ms/step - loss: 0.4343 - accuracy: 0.8106 - val_loss: 0.4108 - val_accuracy: 0.8289\n",
      "Epoch 68/100\n",
      "8/8 [==============================] - 0s 14ms/step - loss: 0.4130 - accuracy: 0.8194 - val_loss: 0.4325 - val_accuracy: 0.8158\n",
      "Epoch 69/100\n",
      "8/8 [==============================] - 0s 16ms/step - loss: 0.4038 - accuracy: 0.8326 - val_loss: 0.4070 - val_accuracy: 0.8421\n",
      "Epoch 70/100\n",
      "8/8 [==============================] - 0s 10ms/step - loss: 0.4030 - accuracy: 0.8150 - val_loss: 0.4581 - val_accuracy: 0.7763\n",
      "Epoch 71/100\n",
      "8/8 [==============================] - 0s 12ms/step - loss: 0.4451 - accuracy: 0.8194 - val_loss: 0.4767 - val_accuracy: 0.7500\n",
      "Epoch 72/100\n",
      "8/8 [==============================] - 0s 20ms/step - loss: 0.4524 - accuracy: 0.7797 - val_loss: 0.4163 - val_accuracy: 0.8421\n",
      "Epoch 73/100\n",
      "8/8 [==============================] - 0s 24ms/step - loss: 0.4119 - accuracy: 0.8238 - val_loss: 0.4347 - val_accuracy: 0.8026\n",
      "Epoch 74/100\n",
      "8/8 [==============================] - 0s 13ms/step - loss: 0.4232 - accuracy: 0.8018 - val_loss: 0.4051 - val_accuracy: 0.8421\n",
      "Epoch 75/100\n",
      "8/8 [==============================] - 0s 11ms/step - loss: 0.4127 - accuracy: 0.8062 - val_loss: 0.4417 - val_accuracy: 0.8421\n",
      "Epoch 76/100\n",
      "8/8 [==============================] - 0s 12ms/step - loss: 0.3992 - accuracy: 0.8282 - val_loss: 0.4132 - val_accuracy: 0.8158\n",
      "Epoch 77/100\n",
      "8/8 [==============================] - 0s 10ms/step - loss: 0.3930 - accuracy: 0.8238 - val_loss: 0.4114 - val_accuracy: 0.8026\n",
      "Epoch 78/100\n",
      "8/8 [==============================] - 0s 13ms/step - loss: 0.3870 - accuracy: 0.8370 - val_loss: 0.4155 - val_accuracy: 0.8289\n",
      "Epoch 79/100\n",
      "8/8 [==============================] - 0s 12ms/step - loss: 0.4439 - accuracy: 0.7885 - val_loss: 0.4488 - val_accuracy: 0.8026\n",
      "Epoch 80/100\n",
      "8/8 [==============================] - 0s 12ms/step - loss: 0.4093 - accuracy: 0.7753 - val_loss: 0.5066 - val_accuracy: 0.7763\n",
      "Epoch 81/100\n",
      "8/8 [==============================] - 0s 26ms/step - loss: 0.4200 - accuracy: 0.7841 - val_loss: 0.4046 - val_accuracy: 0.8421\n",
      "Epoch 82/100\n",
      "8/8 [==============================] - 0s 17ms/step - loss: 0.4823 - accuracy: 0.7401 - val_loss: 0.5905 - val_accuracy: 0.7237\n",
      "Epoch 83/100\n",
      "8/8 [==============================] - 0s 16ms/step - loss: 0.5432 - accuracy: 0.7181 - val_loss: 0.4372 - val_accuracy: 0.8289\n",
      "Epoch 84/100\n",
      "8/8 [==============================] - 0s 10ms/step - loss: 0.4324 - accuracy: 0.7974 - val_loss: 0.4392 - val_accuracy: 0.8289\n",
      "Epoch 85/100\n",
      "8/8 [==============================] - 0s 11ms/step - loss: 0.4090 - accuracy: 0.8018 - val_loss: 0.5017 - val_accuracy: 0.7237\n",
      "Epoch 86/100\n",
      "8/8 [==============================] - 0s 13ms/step - loss: 0.4938 - accuracy: 0.7621 - val_loss: 0.3957 - val_accuracy: 0.8684\n",
      "Epoch 87/100\n",
      "8/8 [==============================] - 0s 13ms/step - loss: 0.3991 - accuracy: 0.8282 - val_loss: 0.5223 - val_accuracy: 0.7368\n",
      "Epoch 88/100\n",
      "8/8 [==============================] - 0s 21ms/step - loss: 0.4306 - accuracy: 0.7974 - val_loss: 0.3965 - val_accuracy: 0.8421\n",
      "Epoch 89/100\n",
      "8/8 [==============================] - 0s 13ms/step - loss: 0.4466 - accuracy: 0.7753 - val_loss: 0.5099 - val_accuracy: 0.7632\n",
      "Epoch 90/100\n",
      "8/8 [==============================] - 0s 15ms/step - loss: 0.4737 - accuracy: 0.7445 - val_loss: 0.4689 - val_accuracy: 0.7895\n",
      "Epoch 91/100\n",
      "8/8 [==============================] - 0s 10ms/step - loss: 0.4187 - accuracy: 0.8194 - val_loss: 0.4247 - val_accuracy: 0.8158\n",
      "Epoch 92/100\n",
      "8/8 [==============================] - 0s 10ms/step - loss: 0.3926 - accuracy: 0.8018 - val_loss: 0.4016 - val_accuracy: 0.8421\n",
      "Epoch 93/100\n",
      "8/8 [==============================] - 0s 12ms/step - loss: 0.3645 - accuracy: 0.8458 - val_loss: 0.3967 - val_accuracy: 0.8553\n",
      "Epoch 94/100\n",
      "8/8 [==============================] - 0s 12ms/step - loss: 0.3646 - accuracy: 0.8282 - val_loss: 0.4198 - val_accuracy: 0.8158\n",
      "Epoch 95/100\n",
      "8/8 [==============================] - 0s 12ms/step - loss: 0.3838 - accuracy: 0.8326 - val_loss: 0.3956 - val_accuracy: 0.8026\n",
      "Epoch 96/100\n",
      "8/8 [==============================] - 0s 10ms/step - loss: 0.3845 - accuracy: 0.8018 - val_loss: 0.3888 - val_accuracy: 0.8553\n",
      "Epoch 97/100\n",
      "8/8 [==============================] - 0s 12ms/step - loss: 0.3689 - accuracy: 0.8238 - val_loss: 0.3889 - val_accuracy: 0.8553\n",
      "Epoch 98/100\n",
      "8/8 [==============================] - 0s 12ms/step - loss: 0.3627 - accuracy: 0.8194 - val_loss: 0.3868 - val_accuracy: 0.8289\n",
      "Epoch 99/100\n",
      "8/8 [==============================] - 0s 15ms/step - loss: 0.3692 - accuracy: 0.8370 - val_loss: 0.5761 - val_accuracy: 0.7237\n",
      "Epoch 100/100\n",
      "8/8 [==============================] - 0s 12ms/step - loss: 0.4293 - accuracy: 0.7841 - val_loss: 0.4209 - val_accuracy: 0.8289\n"
     ]
    }
   ],
   "source": [
    "# define the model architecture\n",
    "model = Sequential()\n",
    "model.add(Dense(64, activation='relu', input_shape=(X_train.shape[1],)))\n",
    "model.add(Dense(32, activation='relu'))\n",
    "model.add(Dense(16, activation='relu'))\n",
    "model.add(Dense(1, activation='sigmoid'))\n",
    "\n",
    "# compile the model\n",
    "model.compile(loss='binary_crossentropy', optimizer=Adam(lr=0.001), metrics=['accuracy'])\n",
    "\n",
    "# train the model\n",
    "history = model.fit(X_train, y_train, batch_size=32, epochs=100, verbose=1, validation_data=(X_test, y_test))"
   ]
  },
  {
   "cell_type": "code",
   "execution_count": 237,
   "metadata": {},
   "outputs": [
    {
     "name": "stdout",
     "output_type": "stream",
     "text": [
      "3/3 [==============================] - 0s 7ms/step - loss: 0.4209 - accuracy: 0.8289\n",
      "\n",
      "Features score: 0.4209171235561371 \n",
      "Labels score:  0.8289473652839661\n",
      "\n",
      "Accuracy: 0.74\n"
     ]
    }
   ],
   "source": [
    "# evaluate the model\n",
    "x_score, y_score = model.evaluate(X_test, y_test)\n",
    "print(f\"\\nFeatures score:\", x_score, \"\\nLabels score: \", y_score)\n",
    "\n",
    "# accuracy\n",
    "score_nn = scores[1]\n",
    "print(f\"\\nAccuracy: {score_nn:.2f}\")"
   ]
  },
  {
   "cell_type": "markdown",
   "metadata": {},
   "source": [
    "# Conclusions"
   ]
  },
  {
   "cell_type": "code",
   "execution_count": 240,
   "metadata": {},
   "outputs": [
    {
     "name": "stdout",
     "output_type": "stream",
     "text": [
      "\n",
      "The accuracy score of the Support Vector Machine model is 0.8421052631578947\n",
      "\n",
      "The accuracy score of the Logistic Regression model is 0.881578947368421\n",
      "\n",
      "The accuracy score of the K-Nearest Neighbors model is 0.75\n",
      "\n",
      "The accuracy score of the Decision Tree model is 0.7368421052631579\n",
      "\n",
      "The accuracy score of the Random Forest model is 0.8421052631578947\n",
      "\n",
      "The accuracy score of the Neural Network model is 0.7391304347826086\n"
     ]
    }
   ],
   "source": [
    "all_scores = [score_svm, score_lr, score_knn, score_dt, mean_scores_rf, score_nn]\n",
    "all_algorithms = [\"Support Vector Machine\", \"Logistic Regression\", \"K-Nearest Neighbors\", \"Decision Tree\", \"Random Forest\", \"Neural Network\"]    \n",
    "\n",
    "for i in range(len(all_algorithms)):\n",
    "    print(f\"\\nThe accuracy score of the \" + all_algorithms[i] + \" model is \" + str(all_scores[i]))"
   ]
  },
  {
   "cell_type": "code",
   "execution_count": 241,
   "metadata": {},
   "outputs": [
    {
     "name": "stderr",
     "output_type": "stream",
     "text": [
      "C:\\Users\\Ana\\anaconda3\\lib\\site-packages\\seaborn\\_decorators.py:36: FutureWarning: Pass the following variables as keyword args: x, y. From version 0.12, the only valid positional argument will be `data`, and passing other arguments without an explicit keyword will result in an error or misinterpretation.\n",
      "  warnings.warn(\n"
     ]
    },
    {
     "data": {
      "text/plain": [
       "<matplotlib.axes._subplots.AxesSubplot at 0x2b82732ef70>"
      ]
     },
     "execution_count": 241,
     "metadata": {},
     "output_type": "execute_result"
    },
    {
     "data": {
      "image/png": "[encoded data removed]",
      "text/plain": [
       "<Figure size 1080x576 with 1 Axes>"
      ]
     },
     "metadata": {},
     "output_type": "display_data"
    }
   ],
   "source": [
    "sn.set(rc={'figure.figsize':(15,8)})\n",
    "plt.xlabel(\"Algorithms\")\n",
    "plt.ylabel(\"Accuracy score\")\n",
    "\n",
    "sn.barplot(all_algorithms, all_scores)"
   ]
  },
  {
   "cell_type": "markdown",
   "metadata": {},
   "source": [
    "The Logistic Regression model performed best compared to the other algorithms. Apart from the latter, the Random Forest and Support Vector Machine models scored above 80%.\n",
    "\n",
    "The K-Nearest Neighbors, Decision Tree and Neural Network models had the lowest scores.\n",
    "\n",
    "Due to the shape of the dataset, we were unable to perform any further analysis, namely the unsupervised learning clustering analysis.\n",
    "\n",
    "A future approach could be to use the XGBoost classifier algorithm and explore cross validation, hyperparameter tuning and neural networks in more depth."
   ]
  }
 ],
 "metadata": {
  "colab": {
   "provenance": []
  },
  "kernelspec": {
   "display_name": "Python 3",
   "language": "python",
   "name": "python3"
  },
  "language_info": {
   "codemirror_mode": {
    "name": "ipython",
    "version": 3
   },
   "file_extension": ".py",
   "mimetype": "text/x-python",
   "name": "python",
   "nbconvert_exporter": "python",
   "pygments_lexer": "ipython3",
   "version": "3.8.8"
  },
  "vscode": {
   "interpreter": {
    "hash": "8dcd583248cd6d26fe37db35363f7ac1435658708c36c959792b147894ed23b3"
   }
  }
 },
 "nbformat": 4,
 "nbformat_minor": 4
}
